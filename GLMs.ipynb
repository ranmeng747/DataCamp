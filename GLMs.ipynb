{
 "cells": [
  {
   "cell_type": "markdown",
   "metadata": {},
   "source": [
    "### Author: Ran Meng\n",
    "\n",
    "This jupyter notebook contains my work for certification of \"Generalized Linear Models in Python\" instructed by Ita Cirovic Donev, from [DataCamp](https://learn.datacamp.com/courses/generalized-linear-models-in-python)"
   ]
  },
  {
   "cell_type": "code",
   "execution_count": 1,
   "metadata": {},
   "outputs": [],
   "source": [
    "import pandas as pd\n",
    "import numpy as np\n",
    "import seaborn as sns\n",
    "import matplotlib.pyplot as plt\n",
    "import statsmodels.api as sm\n",
    "import math\n",
    "from statsmodels.formula.api import ols, glm\n",
    "from statsmodels.stats.outliers_influence import variance_inflation_factor\n",
    "from patsy import dmatrix"
   ]
  },
  {
   "cell_type": "markdown",
   "metadata": {},
   "source": [
    "#### Linear model, a special case of GLM\n",
    "\n",
    "In this exercise you will fit a linear model two ways, one using the ols() function and one using the glm() function. This will show how a linear model is a special case of a generalized linear model (GLM).\n",
    "\n",
    "You will use the preloaded salary dataset introduced in the video.\n",
    "\n",
    "Recall that the linear model in Python is defined as:\n",
    "\n",
    "ols(formula = 'y ~ X', data = my_data).fit()\n",
    "\n",
    "and the generalized linear model can be trained using\n",
    "\n",
    "glm(formula = 'y ~ X', data = my_data, family = sm.families.___).fit()"
   ]
  },
  {
   "cell_type": "code",
   "execution_count": 2,
   "metadata": {},
   "outputs": [
    {
     "data": {
      "text/html": [
       "<div>\n",
       "<style scoped>\n",
       "    .dataframe tbody tr th:only-of-type {\n",
       "        vertical-align: middle;\n",
       "    }\n",
       "\n",
       "    .dataframe tbody tr th {\n",
       "        vertical-align: top;\n",
       "    }\n",
       "\n",
       "    .dataframe thead th {\n",
       "        text-align: right;\n",
       "    }\n",
       "</style>\n",
       "<table border=\"1\" class=\"dataframe\">\n",
       "  <thead>\n",
       "    <tr style=\"text-align: right;\">\n",
       "      <th></th>\n",
       "      <th>Experience</th>\n",
       "      <th>Salary</th>\n",
       "    </tr>\n",
       "  </thead>\n",
       "  <tbody>\n",
       "    <tr>\n",
       "      <th>0</th>\n",
       "      <td>1.1</td>\n",
       "      <td>39343.0</td>\n",
       "    </tr>\n",
       "    <tr>\n",
       "      <th>1</th>\n",
       "      <td>1.3</td>\n",
       "      <td>46205.0</td>\n",
       "    </tr>\n",
       "    <tr>\n",
       "      <th>2</th>\n",
       "      <td>1.5</td>\n",
       "      <td>37731.0</td>\n",
       "    </tr>\n",
       "    <tr>\n",
       "      <th>3</th>\n",
       "      <td>2.0</td>\n",
       "      <td>43525.0</td>\n",
       "    </tr>\n",
       "    <tr>\n",
       "      <th>4</th>\n",
       "      <td>2.2</td>\n",
       "      <td>39891.0</td>\n",
       "    </tr>\n",
       "  </tbody>\n",
       "</table>\n",
       "</div>"
      ],
      "text/plain": [
       "   Experience   Salary\n",
       "0         1.1  39343.0\n",
       "1         1.3  46205.0\n",
       "2         1.5  37731.0\n",
       "3         2.0  43525.0\n",
       "4         2.2  39891.0"
      ]
     },
     "execution_count": 2,
     "metadata": {},
     "output_type": "execute_result"
    }
   ],
   "source": [
    "salary = pd.read_csv('salary.csv')\n",
    "\n",
    "salary.head()"
   ]
  },
  {
   "cell_type": "code",
   "execution_count": 3,
   "metadata": {},
   "outputs": [
    {
     "name": "stdout",
     "output_type": "stream",
     "text": [
      "Intercept     25792.200199\n",
      "Experience     9449.962321\n",
      "dtype: float64\n"
     ]
    }
   ],
   "source": [
    "# Fit a linear model\n",
    "model_lm = ols(formula = 'Salary ~ Experience',\n",
    "               data = salary).fit()\n",
    "\n",
    "# View model coefficients\n",
    "print(model_lm.params)"
   ]
  },
  {
   "cell_type": "markdown",
   "metadata": {},
   "source": [
    "#### Linear model and a binary response variable\n",
    "\n",
    "In the video, you saw an example of fitting a linear model to a binary response variable and how things can go wrong quickly. You learned that, given the linear line fit, you can obtain fitted values \n",
    ", which are not in line with the logic of the problem since the response variable takes on values 0 and 1.\n",
    "\n",
    "Using the preloaded crab dataset, you will study this effect by modeling y as a function of x using the GLM framework.\n",
    "\n",
    "Recall that the GLM model formulation is:\n",
    "\n",
    "glm(formula = 'y ~ X', data = my_data, family = sm.families.____).fit()\n",
    "\n",
    "where you specify formula, data, and family.\n",
    "\n",
    "Also, recall that a GLM with:\n",
    "\n",
    "the Gaussian family is a linear model (a special case of GLMs)\n",
    "the Binomial family is a logistic regression model."
   ]
  },
  {
   "cell_type": "code",
   "execution_count": 4,
   "metadata": {},
   "outputs": [
    {
     "data": {
      "text/plain": [
       "(173, 8)"
      ]
     },
     "execution_count": 4,
     "metadata": {},
     "output_type": "execute_result"
    }
   ],
   "source": [
    "crab = pd.read_csv('crab.csv')\n",
    "\n",
    "crab.shape"
   ]
  },
  {
   "cell_type": "code",
   "execution_count": 5,
   "metadata": {},
   "outputs": [
    {
     "data": {
      "text/html": [
       "<div>\n",
       "<style scoped>\n",
       "    .dataframe tbody tr th:only-of-type {\n",
       "        vertical-align: middle;\n",
       "    }\n",
       "\n",
       "    .dataframe tbody tr th {\n",
       "        vertical-align: top;\n",
       "    }\n",
       "\n",
       "    .dataframe thead th {\n",
       "        text-align: right;\n",
       "    }\n",
       "</style>\n",
       "<table border=\"1\" class=\"dataframe\">\n",
       "  <thead>\n",
       "    <tr style=\"text-align: right;\">\n",
       "      <th></th>\n",
       "      <th>crab</th>\n",
       "      <th>sat</th>\n",
       "      <th>y</th>\n",
       "      <th>weight</th>\n",
       "      <th>width</th>\n",
       "      <th>color</th>\n",
       "      <th>spine</th>\n",
       "      <th>width_C</th>\n",
       "    </tr>\n",
       "  </thead>\n",
       "  <tbody>\n",
       "    <tr>\n",
       "      <th>0</th>\n",
       "      <td>1</td>\n",
       "      <td>8</td>\n",
       "      <td>1</td>\n",
       "      <td>3.05</td>\n",
       "      <td>28.3</td>\n",
       "      <td>2</td>\n",
       "      <td>3</td>\n",
       "      <td>[28.25, 29.25)</td>\n",
       "    </tr>\n",
       "    <tr>\n",
       "      <th>1</th>\n",
       "      <td>2</td>\n",
       "      <td>0</td>\n",
       "      <td>0</td>\n",
       "      <td>1.55</td>\n",
       "      <td>22.5</td>\n",
       "      <td>3</td>\n",
       "      <td>3</td>\n",
       "      <td>[0.0, 23.25)</td>\n",
       "    </tr>\n",
       "    <tr>\n",
       "      <th>2</th>\n",
       "      <td>3</td>\n",
       "      <td>9</td>\n",
       "      <td>1</td>\n",
       "      <td>2.30</td>\n",
       "      <td>26.0</td>\n",
       "      <td>1</td>\n",
       "      <td>1</td>\n",
       "      <td>[25.25, 26.25)</td>\n",
       "    </tr>\n",
       "    <tr>\n",
       "      <th>3</th>\n",
       "      <td>4</td>\n",
       "      <td>0</td>\n",
       "      <td>0</td>\n",
       "      <td>2.10</td>\n",
       "      <td>24.8</td>\n",
       "      <td>3</td>\n",
       "      <td>3</td>\n",
       "      <td>[24.25, 25.25)</td>\n",
       "    </tr>\n",
       "    <tr>\n",
       "      <th>4</th>\n",
       "      <td>5</td>\n",
       "      <td>4</td>\n",
       "      <td>1</td>\n",
       "      <td>2.60</td>\n",
       "      <td>26.0</td>\n",
       "      <td>3</td>\n",
       "      <td>3</td>\n",
       "      <td>[25.25, 26.25)</td>\n",
       "    </tr>\n",
       "  </tbody>\n",
       "</table>\n",
       "</div>"
      ],
      "text/plain": [
       "   crab  sat  y  weight  width  color  spine         width_C\n",
       "0     1    8  1    3.05   28.3      2      3  [28.25, 29.25)\n",
       "1     2    0  0    1.55   22.5      3      3    [0.0, 23.25)\n",
       "2     3    9  1    2.30   26.0      1      1  [25.25, 26.25)\n",
       "3     4    0  0    2.10   24.8      3      3  [24.25, 25.25)\n",
       "4     5    4  1    2.60   26.0      3      3  [25.25, 26.25)"
      ]
     },
     "execution_count": 5,
     "metadata": {},
     "output_type": "execute_result"
    }
   ],
   "source": [
    "crab.head()"
   ]
  },
  {
   "cell_type": "code",
   "execution_count": 6,
   "metadata": {},
   "outputs": [
    {
     "name": "stdout",
     "output_type": "stream",
     "text": [
      "                 Generalized Linear Model Regression Results                  \n",
      "==============================================================================\n",
      "Dep. Variable:                      y   No. Observations:                  173\n",
      "Model:                            GLM   Df Residuals:                      171\n",
      "Model Family:                Gaussian   Df Model:                            1\n",
      "Link Function:               identity   Scale:                         0.19515\n",
      "Method:                          IRLS   Log-Likelihood:                -103.13\n",
      "Date:                Mon, 15 Mar 2021   Deviance:                       33.371\n",
      "Time:                        00:49:35   Pearson chi2:                     33.4\n",
      "No. Iterations:                     3   Covariance Type:             nonrobust\n",
      "==============================================================================\n",
      "                 coef    std err          z      P>|z|      [0.025      0.975]\n",
      "------------------------------------------------------------------------------\n",
      "Intercept     -1.7655      0.421     -4.190      0.000      -2.591      -0.940\n",
      "width          0.0915      0.016      5.731      0.000       0.060       0.123\n",
      "==============================================================================\n",
      "                 Generalized Linear Model Regression Results                  \n",
      "==============================================================================\n",
      "Dep. Variable:                      y   No. Observations:                  173\n",
      "Model:                            GLM   Df Residuals:                      171\n",
      "Model Family:                Binomial   Df Model:                            1\n",
      "Link Function:                  logit   Scale:                          1.0000\n",
      "Method:                          IRLS   Log-Likelihood:                -97.226\n",
      "Date:                Mon, 15 Mar 2021   Deviance:                       194.45\n",
      "Time:                        00:49:35   Pearson chi2:                     165.\n",
      "No. Iterations:                     4   Covariance Type:             nonrobust\n",
      "==============================================================================\n",
      "                 coef    std err          z      P>|z|      [0.025      0.975]\n",
      "------------------------------------------------------------------------------\n",
      "Intercept    -12.3508      2.629     -4.698      0.000     -17.503      -7.199\n",
      "width          0.4972      0.102      4.887      0.000       0.298       0.697\n",
      "==============================================================================\n"
     ]
    }
   ],
   "source": [
    "# Define model formula\n",
    "formula = 'y ~ width'\n",
    "\n",
    "# Define probability distribution for the response variable for \n",
    "# the linear (LM) and logistic (GLM) model\n",
    "family_LM = sm.families.Gaussian()\n",
    "family_GLM = sm.families.Binomial()\n",
    "\n",
    "# Define and fit a linear regression model\n",
    "model_LM = glm(formula = formula, data = crab, family = family_LM).fit()\n",
    "print(model_LM.summary())\n",
    "\n",
    "# Define and fit a logistic regression model\n",
    "model_GLM = glm(formula = formula, data = crab, family = family_GLM).fit()\n",
    "print(model_GLM.summary())"
   ]
  },
  {
   "cell_type": "code",
   "execution_count": 7,
   "metadata": {},
   "outputs": [
    {
     "data": {
      "text/html": [
       "<div>\n",
       "<style scoped>\n",
       "    .dataframe tbody tr th:only-of-type {\n",
       "        vertical-align: middle;\n",
       "    }\n",
       "\n",
       "    .dataframe tbody tr th {\n",
       "        vertical-align: top;\n",
       "    }\n",
       "\n",
       "    .dataframe thead th {\n",
       "        text-align: right;\n",
       "    }\n",
       "</style>\n",
       "<table border=\"1\" class=\"dataframe\">\n",
       "  <thead>\n",
       "    <tr style=\"text-align: right;\">\n",
       "      <th></th>\n",
       "      <th>width</th>\n",
       "      <th>y</th>\n",
       "    </tr>\n",
       "  </thead>\n",
       "  <tbody>\n",
       "    <tr>\n",
       "      <th>0</th>\n",
       "      <td>17.8</td>\n",
       "      <td>0</td>\n",
       "    </tr>\n",
       "    <tr>\n",
       "      <th>1</th>\n",
       "      <td>24.6</td>\n",
       "      <td>0</td>\n",
       "    </tr>\n",
       "    <tr>\n",
       "      <th>2</th>\n",
       "      <td>28.1</td>\n",
       "      <td>1</td>\n",
       "    </tr>\n",
       "    <tr>\n",
       "      <th>3</th>\n",
       "      <td>32.0</td>\n",
       "      <td>1</td>\n",
       "    </tr>\n",
       "    <tr>\n",
       "      <th>4</th>\n",
       "      <td>33.7</td>\n",
       "      <td>1</td>\n",
       "    </tr>\n",
       "  </tbody>\n",
       "</table>\n",
       "</div>"
      ],
      "text/plain": [
       "   width  y\n",
       "0   17.8  0\n",
       "1   24.6  0\n",
       "2   28.1  1\n",
       "3   32.0  1\n",
       "4   33.7  1"
      ]
     },
     "execution_count": 7,
     "metadata": {},
     "output_type": "execute_result"
    }
   ],
   "source": [
    "test = pd.read_csv('crab_test.csv')\n",
    "\n",
    "test.head()"
   ]
  },
  {
   "cell_type": "code",
   "execution_count": 8,
   "metadata": {},
   "outputs": [
    {
     "name": "stdout",
     "output_type": "stream",
     "text": [
      "   width  y   Pred_LM  Pred_GLM\n",
      "0   17.8  0 -0.136287  0.029309\n",
      "1   24.6  0  0.486122  0.470299\n",
      "2   28.1  1  0.806480  0.834983\n",
      "3   32.0  1  1.163450  0.972363\n",
      "4   33.7  1  1.319052  0.987941\n"
     ]
    }
   ],
   "source": [
    "# Compute estimated probabilities for linear model: pred_lm\n",
    "pred_lm = model_LM.predict(test)\n",
    "\n",
    "# Compute estimated probabilities for GLM model: pred_glm\n",
    "pred_glm = model_GLM.predict(test)\n",
    "\n",
    "# Create dataframe of predictions for linear and GLM model: predictions\n",
    "predictions = pd.DataFrame({'Pred_LM': pred_lm, 'Pred_GLM': pred_glm})\n",
    "\n",
    "# Concatenate test sample and predictions and view the results\n",
    "all_data = pd.concat([test, predictions], axis = 1)\n",
    "print(all_data)\n",
    "\n"
   ]
  },
  {
   "cell_type": "markdown",
   "metadata": {},
   "source": [
    "Excellent! Comparing the predicted values for both models, the GLM model provides values within the (0,1) range as is required by the binary response variable. How to arrive at the specific class, 0 or 1, we will cover in the next chapter."
   ]
  },
  {
   "cell_type": "markdown",
   "metadata": {},
   "source": [
    "#### Model fitting step-by-step\n",
    "\n",
    "In the video lecture, you learned the key components for fitting a GLM in Python using the statsmodels package. In this exercise you will define the components of the GLM step by step and finally fit the model by calling the .fit() method.\n",
    "\n",
    "The dataset which you will use is on the contamination of groundwater with arsenic in Bangladesh where we want to model the household decision on switching the current well.\n",
    "The columns in the dataset are:\n",
    "\n",
    "switch: 1 if the change of the current well occurred; 0 otherwise\n",
    "\n",
    "arsenic: The level of arsenic contamination in the well\n",
    "\n",
    "distance: Distance to the closest known safe well\n",
    "\n",
    "education: Years of education of the head of the household"
   ]
  },
  {
   "cell_type": "code",
   "execution_count": 9,
   "metadata": {},
   "outputs": [
    {
     "data": {
      "text/html": [
       "<div>\n",
       "<style scoped>\n",
       "    .dataframe tbody tr th:only-of-type {\n",
       "        vertical-align: middle;\n",
       "    }\n",
       "\n",
       "    .dataframe tbody tr th {\n",
       "        vertical-align: top;\n",
       "    }\n",
       "\n",
       "    .dataframe thead th {\n",
       "        text-align: right;\n",
       "    }\n",
       "</style>\n",
       "<table border=\"1\" class=\"dataframe\">\n",
       "  <thead>\n",
       "    <tr style=\"text-align: right;\">\n",
       "      <th></th>\n",
       "      <th>switch</th>\n",
       "      <th>arsenic</th>\n",
       "      <th>distance</th>\n",
       "      <th>assoc</th>\n",
       "      <th>education</th>\n",
       "      <th>distance100</th>\n",
       "      <th>education4</th>\n",
       "    </tr>\n",
       "  </thead>\n",
       "  <tbody>\n",
       "    <tr>\n",
       "      <th>0</th>\n",
       "      <td>1</td>\n",
       "      <td>2.36</td>\n",
       "      <td>16.826000</td>\n",
       "      <td>0</td>\n",
       "      <td>0</td>\n",
       "      <td>0.16826</td>\n",
       "      <td>0</td>\n",
       "    </tr>\n",
       "    <tr>\n",
       "      <th>1</th>\n",
       "      <td>1</td>\n",
       "      <td>0.71</td>\n",
       "      <td>47.321999</td>\n",
       "      <td>0</td>\n",
       "      <td>0</td>\n",
       "      <td>0.47322</td>\n",
       "      <td>0</td>\n",
       "    </tr>\n",
       "    <tr>\n",
       "      <th>2</th>\n",
       "      <td>0</td>\n",
       "      <td>2.07</td>\n",
       "      <td>20.966999</td>\n",
       "      <td>0</td>\n",
       "      <td>10</td>\n",
       "      <td>0.20967</td>\n",
       "      <td>2</td>\n",
       "    </tr>\n",
       "    <tr>\n",
       "      <th>3</th>\n",
       "      <td>1</td>\n",
       "      <td>1.15</td>\n",
       "      <td>21.486000</td>\n",
       "      <td>0</td>\n",
       "      <td>12</td>\n",
       "      <td>0.21486</td>\n",
       "      <td>2</td>\n",
       "    </tr>\n",
       "    <tr>\n",
       "      <th>4</th>\n",
       "      <td>1</td>\n",
       "      <td>1.10</td>\n",
       "      <td>40.874001</td>\n",
       "      <td>1</td>\n",
       "      <td>14</td>\n",
       "      <td>0.40874</td>\n",
       "      <td>3</td>\n",
       "    </tr>\n",
       "  </tbody>\n",
       "</table>\n",
       "</div>"
      ],
      "text/plain": [
       "   switch  arsenic   distance  assoc  education  distance100  education4\n",
       "0       1     2.36  16.826000      0          0      0.16826           0\n",
       "1       1     0.71  47.321999      0          0      0.47322           0\n",
       "2       0     2.07  20.966999      0         10      0.20967           2\n",
       "3       1     1.15  21.486000      0         12      0.21486           2\n",
       "4       1     1.10  40.874001      1         14      0.40874           3"
      ]
     },
     "execution_count": 9,
     "metadata": {},
     "output_type": "execute_result"
    }
   ],
   "source": [
    "wells = pd.read_csv('wells.csv')\n",
    "\n",
    "wells.head()"
   ]
  },
  {
   "cell_type": "code",
   "execution_count": 10,
   "metadata": {},
   "outputs": [
    {
     "name": "stdout",
     "output_type": "stream",
     "text": [
      "(3010, 7)\n"
     ]
    }
   ],
   "source": [
    "print(wells.shape)"
   ]
  },
  {
   "cell_type": "code",
   "execution_count": 11,
   "metadata": {},
   "outputs": [],
   "source": [
    "# Define the formula the the logistic model\n",
    "model_formula = 'switch ~ distance100'\n",
    "\n",
    "# Define the correct probability distribution and the link function of the response variable\n",
    "link_function = sm.families.links.logit\n",
    "model_family = sm.families.Binomial(link = link_function)\n",
    "\n",
    "# Fit the model\n",
    "wells_fit = glm(formula = model_formula, \n",
    "                 data = wells, \n",
    "                 family = model_family).fit()"
   ]
  },
  {
   "cell_type": "code",
   "execution_count": 12,
   "metadata": {},
   "outputs": [
    {
     "name": "stdout",
     "output_type": "stream",
     "text": [
      "                 Generalized Linear Model Regression Results                  \n",
      "==============================================================================\n",
      "Dep. Variable:                 switch   No. Observations:                 3010\n",
      "Model:                            GLM   Df Residuals:                     3008\n",
      "Model Family:                Binomial   Df Model:                            1\n",
      "Link Function:                  logit   Scale:                          1.0000\n",
      "Method:                          IRLS   Log-Likelihood:                -2030.6\n",
      "Date:                Mon, 15 Mar 2021   Deviance:                       4061.3\n",
      "Time:                        00:49:35   Pearson chi2:                 3.01e+03\n",
      "No. Iterations:                     4   Covariance Type:             nonrobust\n",
      "===============================================================================\n",
      "                  coef    std err          z      P>|z|      [0.025      0.975]\n",
      "-------------------------------------------------------------------------------\n",
      "Intercept       0.6108      0.060     10.104      0.000       0.492       0.729\n",
      "distance100    -0.6291      0.098     -6.446      0.000      -0.820      -0.438\n",
      "===============================================================================\n"
     ]
    }
   ],
   "source": [
    "# View the results of the wells_fit model\n",
    "print(wells_fit.summary())"
   ]
  },
  {
   "cell_type": "markdown",
   "metadata": {},
   "source": [
    "#### Extracting parameter estimates\n",
    "\n",
    "Coefficient estimates are generally of main interest in a regression model. In the previous exercise you learned how to view the results of the model fit and hence the coefficient values along with their corresponding statistics. In this exercise you will learn how to extract the coefficients from the model object.\n",
    "\n",
    "The attribute .params contains the coefficients of the fitted model, starting with the intercept value. To compute a 95% confidence interval for the coefficients you can use the method .conf_int() of the fitted model wells_fit."
   ]
  },
  {
   "cell_type": "code",
   "execution_count": 13,
   "metadata": {},
   "outputs": [
    {
     "name": "stdout",
     "output_type": "stream",
     "text": [
      "Intercept = 0.6108118803818955\n",
      "Slope = -0.6290808479557684\n",
      "                    0         1\n",
      "Intercept    0.492327  0.729297\n",
      "distance100 -0.820345 -0.437816\n"
     ]
    }
   ],
   "source": [
    "# Extract coefficients from the fitted model wells_fit\n",
    "intercept, slope = wells_fit.params\n",
    "\n",
    "# Print coefficients\n",
    "print('Intercept =', intercept)\n",
    "print('Slope =', slope)\n",
    "\n",
    "# Extract and print confidence intervals\n",
    "print(wells_fit.conf_int())"
   ]
  },
  {
   "cell_type": "markdown",
   "metadata": {},
   "source": [
    "## Modelling Binary Data (Logistic Regression)"
   ]
  },
  {
   "cell_type": "markdown",
   "metadata": {},
   "source": [
    "#### Fit logistic regression\n",
    "\n",
    "In this exercise, you will continue with the data from the study on the contamination of ground water with arsenic in Bangladesh where you want to model the probability of switching the current well given the level of arsenic present in the well."
   ]
  },
  {
   "cell_type": "code",
   "execution_count": 14,
   "metadata": {},
   "outputs": [
    {
     "name": "stdout",
     "output_type": "stream",
     "text": [
      "                 Generalized Linear Model Regression Results                  \n",
      "==============================================================================\n",
      "Dep. Variable:                 switch   No. Observations:                 3010\n",
      "Model:                            GLM   Df Residuals:                     3008\n",
      "Model Family:                Binomial   Df Model:                            1\n",
      "Link Function:                  logit   Scale:                          1.0000\n",
      "Method:                          IRLS   Log-Likelihood:                -1997.3\n",
      "Date:                Mon, 15 Mar 2021   Deviance:                       3994.6\n",
      "Time:                        00:49:35   Pearson chi2:                 3.03e+03\n",
      "No. Iterations:                     4   Covariance Type:             nonrobust\n",
      "==============================================================================\n",
      "                 coef    std err          z      P>|z|      [0.025      0.975]\n",
      "------------------------------------------------------------------------------\n",
      "Intercept     -0.3058      0.070     -4.340      0.000      -0.444      -0.168\n",
      "arsenic        0.3799      0.039      9.837      0.000       0.304       0.456\n",
      "==============================================================================\n"
     ]
    }
   ],
   "source": [
    "# Fit logistic regression model\n",
    "model_GLM = glm(formula = 'switch~arsenic',\n",
    "                data = wells,\n",
    "                family = sm.families.Binomial()).fit() \n",
    "\n",
    "# Print model summary\n",
    "print(model_GLM.summary())\n"
   ]
  },
  {
   "cell_type": "markdown",
   "metadata": {},
   "source": [
    "#### Coefficients in terms of odds\n",
    "\n",
    "Previously you have fitted a logistic regression model for the probability of switching the well given the arsenic levels. In this exercise, you will see how another variable distance100 relates to the probability of switching and interpreting the coefficient values in terms of odds.\n",
    "\n",
    "Recall that the logistic regression model is in terms of log odds, so to obtain by how much would the odds multiply given a unit increase in x you would exponentiate the coefficient estimates. This is also called odds ratio.\n",
    "\n",
    "Recall that **odds are a ratio of event occurring to the event not occurring**. For example, if the odds of winning a game are 1/2 or 1 to 2 (1:2), it means that for every one win there are 2 losses."
   ]
  },
  {
   "cell_type": "code",
   "execution_count": 15,
   "metadata": {},
   "outputs": [
    {
     "name": "stdout",
     "output_type": "stream",
     "text": [
      "Model coefficients: \n",
      " Intercept      0.610812\n",
      "distance100   -0.629081\n",
      "dtype: float64\n",
      "\n",
      "Odds: \n",
      " Intercept      1.841926\n",
      "distance100    0.533082\n",
      "dtype: float64\n"
     ]
    }
   ],
   "source": [
    "# Fit logistic regression model\n",
    "model_GLM = glm(formula = 'switch~distance100',\n",
    "                data = wells,\n",
    "                family = sm.families.Binomial()).fit()\n",
    "\n",
    "# Extract model coefficients\n",
    "print('Model coefficients: \\n', model_GLM.params)\n",
    "\n",
    "# Compute the multiplicative effect on the odds\n",
    "print('\\nOdds: \\n', np.exp(model_GLM.params))\n",
    "\n",
    "# The odds of switching the well is 1/2 for a 1-unit (100m) increase in distance, \n",
    "# so for every one switch (household switches to the nearest safe well) there would be 2 households \n",
    "# who would not switch to the nearest safe well."
   ]
  },
  {
   "cell_type": "code",
   "execution_count": 16,
   "metadata": {},
   "outputs": [
    {
     "name": "stdout",
     "output_type": "stream",
     "text": [
      "                 Generalized Linear Model Regression Results                  \n",
      "==============================================================================\n",
      "Dep. Variable:                 switch   No. Observations:                 3010\n",
      "Model:                            GLM   Df Residuals:                     3008\n",
      "Model Family:                Binomial   Df Model:                            1\n",
      "Link Function:                  logit   Scale:                          1.0000\n",
      "Method:                          IRLS   Log-Likelihood:                -2030.6\n",
      "Date:                Mon, 15 Mar 2021   Deviance:                       4061.3\n",
      "Time:                        00:49:35   Pearson chi2:                 3.01e+03\n",
      "No. Iterations:                     4   Covariance Type:             nonrobust\n",
      "===============================================================================\n",
      "                  coef    std err          z      P>|z|      [0.025      0.975]\n",
      "-------------------------------------------------------------------------------\n",
      "Intercept       0.6108      0.060     10.104      0.000       0.492       0.729\n",
      "distance100    -0.6291      0.098     -6.446      0.000      -0.820      -0.438\n",
      "===============================================================================\n"
     ]
    }
   ],
   "source": [
    "print(model_GLM.summary())\n",
    "\n",
    "# log(p/(1-p)) = -0.6291 * distance100 + 0.6108\n",
    "# With one-unit increase in distance100 the log odds decrease by -0.6291."
   ]
  },
  {
   "attachments": {
    "image.png": {
     "image/png": "[encoded data removed]"
    }
   },
   "cell_type": "markdown",
   "metadata": {},
   "source": [
    "#### Rate of change in probability\n",
    "\n",
    "For the wells dataset you have already fitted a logistic regression model with the model formula switch ~ distance100 obtaining the following fit\n",
    "\n",
    "                        log(p/(1-p)) = -0.6291 * distance100 + 0.6108\n",
    "                        \n",
    "where p = P(y = 1)\n",
    "\n",
    "\n",
    "In this exercise you will use that model to understand how the estimated probability changes at a certain value of distance100, say 1.5\n",
    "\n",
    "![image.png](attachment:image.png)"
   ]
  },
  {
   "cell_type": "markdown",
   "metadata": {},
   "source": [
    "Recall the formulas for the **inverse-logit** (probability)\n",
    "\n",
    "$ \\mu = \\frac{exp(\\beta_0+\\beta_1x_1)}{1+exp(\\beta_0+\\beta_1x_1)} $\n",
    "\n",
    "and the slope of the tangent line of the model fit at point :\n",
    "\n",
    "$\\beta*\\mu(1-\\mu)$\n",
    "\n"
   ]
  },
  {
   "cell_type": "code",
   "execution_count": 17,
   "metadata": {},
   "outputs": [
    {
     "name": "stdout",
     "output_type": "stream",
     "text": [
      "0.6108118803818955\n",
      "-0.6290808479557684\n"
     ]
    }
   ],
   "source": [
    "# Define x at 1.5\n",
    "x = 1.5\n",
    "\n",
    "# Extract intercept & slope from the fitted model\n",
    "intercept, slope = model_GLM.params\n",
    "print(intercept)\n",
    "print(slope)"
   ]
  },
  {
   "cell_type": "code",
   "execution_count": 18,
   "metadata": {},
   "outputs": [
    {
     "name": "stdout",
     "output_type": "stream",
     "text": [
      "Estimated probability at x = 1.5:  0.4176\n"
     ]
    }
   ],
   "source": [
    "# Compute and print the estimated probability\n",
    "est_prob = np.exp(intercept + slope*x)/(1+np.exp(intercept + slope*x))\n",
    "print('Estimated probability at x = 1.5: ', round(est_prob, 4))"
   ]
  },
  {
   "cell_type": "code",
   "execution_count": 19,
   "metadata": {},
   "outputs": [
    {
     "name": "stdout",
     "output_type": "stream",
     "text": [
      "The rate of change in probability:  -0.153\n"
     ]
    }
   ],
   "source": [
    "# Compute the slope of the tangent line for parameter beta at x\n",
    "slope_tan = slope * est_prob * (1 - est_prob)\n",
    "print('The rate of change in probability: ', round(slope_tan,4))\n",
    "\n",
    "# So at the distance100 value of 1.5 the estimated probability is 0.418 with the rate of change in the estimated probability of negative 0.153. \n",
    "# This means that for every 1oo m increase in distance100 at the distance100 value of 1.5 \n",
    "# the probability of well switch decreases by 15.3%."
   ]
  },
  {
   "cell_type": "markdown",
   "metadata": {},
   "source": [
    "#### Statistical significance\n",
    "\n",
    "In the video we analyzed the horseshoe crab model by predicting y with weight. In this exercise you will assess the significance of the estimated coefficients but with width as explanatory variable instead.\n",
    "\n",
    "Recall that coefficients help us determine the significance of the relationship that we are trying to model, where a positive sign increases the probability of an event as the predictor increases and vice versa."
   ]
  },
  {
   "cell_type": "code",
   "execution_count": 20,
   "metadata": {},
   "outputs": [
    {
     "name": "stdout",
     "output_type": "stream",
     "text": [
      "                 Generalized Linear Model Regression Results                  \n",
      "==============================================================================\n",
      "Dep. Variable:                      y   No. Observations:                  173\n",
      "Model:                            GLM   Df Residuals:                      171\n",
      "Model Family:                Binomial   Df Model:                            1\n",
      "Link Function:                  logit   Scale:                          1.0000\n",
      "Method:                          IRLS   Log-Likelihood:                -97.226\n",
      "Date:                Mon, 15 Mar 2021   Deviance:                       194.45\n",
      "Time:                        00:49:35   Pearson chi2:                     165.\n",
      "No. Iterations:                     4   Covariance Type:             nonrobust\n",
      "==============================================================================\n",
      "                 coef    std err          z      P>|z|      [0.025      0.975]\n",
      "------------------------------------------------------------------------------\n",
      "Intercept    -12.3508      2.629     -4.698      0.000     -17.503      -7.199\n",
      "width          0.4972      0.102      4.887      0.000       0.298       0.697\n",
      "==============================================================================\n"
     ]
    }
   ],
   "source": [
    "# Fit logistic regression and save as crab_GLM\n",
    "crab_GLM = glm('y ~ width', data = crab, family = sm.families.Binomial()).fit()\n",
    "\n",
    "# Print model summary\n",
    "print(crab_GLM.summary())\n",
    "\n",
    "# There is a positive significant relationship (width increases the chance of a satellite)"
   ]
  },
  {
   "cell_type": "code",
   "execution_count": 21,
   "metadata": {},
   "outputs": [
    {
     "name": "stdout",
     "output_type": "stream",
     "text": [
      "           Intercept     width\n",
      "Intercept   6.910158 -0.266848\n",
      "width      -0.266848  0.010350\n",
      "SE:  0.1017\n",
      "Wald statistic:  4.8875\n"
     ]
    }
   ],
   "source": [
    "# Extract coefficients\n",
    "intercept, slope = crab_GLM.params\n",
    "\n",
    "# Estimated covariance matrix: crab_cov\n",
    "crab_cov = crab_GLM.cov_params()\n",
    "print(crab_cov)\n",
    "\n",
    "# Compute standard error (SE): std_error\n",
    "std_error = np.sqrt(crab_cov.loc['width', 'width'])\n",
    "print('SE: ', round(std_error, 4))\n",
    "\n",
    "# Compute Wald statistic\n",
    "wald_stat = slope/std_error\n",
    "print('Wald statistic: ', round(wald_stat,4))"
   ]
  },
  {
   "cell_type": "markdown",
   "metadata": {},
   "source": [
    "#### Confidence intervals\n",
    "\n",
    "Continuing from the previous exercise you will now asses the uncertainty of the coefficients by computing the confidence intervals.\n",
    "\n",
    "Recall formulas for confidence intervals discussed in the video:\n",
    "\n",
    "95% confidence intervals for the parameter:\n",
    "\n",
    "$\\hat\\beta\\pm1.96*SE$\n",
    "\n",
    "95% confidence intervals for odds:\n",
    "\n",
    "$exp(\\hat\\beta\\pm1.96*SE)$"
   ]
  },
  {
   "cell_type": "code",
   "execution_count": 22,
   "metadata": {},
   "outputs": [
    {
     "name": "stdout",
     "output_type": "stream",
     "text": [
      "                   0         1\n",
      "Intercept -17.503010 -7.198625\n",
      "width       0.297833  0.696629\n",
      "\n",
      "                       0         1\n",
      "Intercept  2.503452e-08  0.000748\n",
      "width      1.346936e+00  2.006975\n"
     ]
    }
   ],
   "source": [
    "# Extract and print confidence intervals\n",
    "print(crab_GLM.conf_int())\n",
    "\n",
    "# Compute confidence intervals for the odds\n",
    "print('\\n', np.exp(crab_GLM.conf_int()))"
   ]
  },
  {
   "cell_type": "markdown",
   "metadata": {},
   "source": [
    "#### Visualize model fit using regplot()\n",
    "\n",
    "After having fitted and analyzed the model we can visualize it by plotting the observation points and the fitted logistic regression.\n",
    "\n",
    "Using the plot you can visually understand the relationship of the explanatory variable and the response for the range of values of the explanatory variable.\n",
    "\n",
    "We can use the regplot() function from the seaborn module for this. The regplot() function takes an argument logistic, which allows you to specify whether you wish to estimate the logistic regression model for the given data using True or False values. This will also produce the plot of the fit.\n",
    "\n",
    "\n",
    "Recall that the model that you fitted previously:\n",
    "\n",
    "$\\log\\bigg(\\frac{y}{1-y}\\bigg) = -0.3058 + 0.3799*\\text{arsenic}$\n"
   ]
  },
  {
   "cell_type": "code",
   "execution_count": 23,
   "metadata": {},
   "outputs": [
    {
     "data": {
      "image/png": "[encoded data removed]",
      "text/plain": [
       "<Figure size 432x288 with 1 Axes>"
      ]
     },
     "metadata": {},
     "output_type": "display_data"
    }
   ],
   "source": [
    "# Plot distance and switch and add overlay with the logistic fit\n",
    "sns.set()\n",
    "sns.regplot(x = 'arsenic', y = 'switch', \n",
    "            y_jitter = 0.03,\n",
    "            data = wells, \n",
    "            logistic = True,\n",
    "            ci = None)\n",
    "\n",
    "# Display the plot\n",
    "plt.show()"
   ]
  },
  {
   "cell_type": "markdown",
   "metadata": {},
   "source": [
    "####  Compute predictions\n",
    "\n",
    "Often, in practice, we are interested in using the fitted logistic regression to estimate the probabilities and construct confidence intervals for these estimates. Using the wells dataset and the model 'switch ~ arsenic' let's assume you have new observations wells_test which were not part of the training sample and you wish to predict the probability of switching to the nearest safe well."
   ]
  },
  {
   "cell_type": "code",
   "execution_count": 24,
   "metadata": {},
   "outputs": [
    {
     "data": {
      "text/html": [
       "<div>\n",
       "<style scoped>\n",
       "    .dataframe tbody tr th:only-of-type {\n",
       "        vertical-align: middle;\n",
       "    }\n",
       "\n",
       "    .dataframe tbody tr th {\n",
       "        vertical-align: top;\n",
       "    }\n",
       "\n",
       "    .dataframe thead th {\n",
       "        text-align: right;\n",
       "    }\n",
       "</style>\n",
       "<table border=\"1\" class=\"dataframe\">\n",
       "  <thead>\n",
       "    <tr style=\"text-align: right;\">\n",
       "      <th></th>\n",
       "      <th>switch</th>\n",
       "      <th>arsenic</th>\n",
       "      <th>distance</th>\n",
       "      <th>assoc</th>\n",
       "      <th>education</th>\n",
       "      <th>distance100</th>\n",
       "      <th>education4</th>\n",
       "    </tr>\n",
       "  </thead>\n",
       "  <tbody>\n",
       "    <tr>\n",
       "      <th>454</th>\n",
       "      <td>1</td>\n",
       "      <td>3.69</td>\n",
       "      <td>80.427002</td>\n",
       "      <td>0</td>\n",
       "      <td>5</td>\n",
       "      <td>0.80427</td>\n",
       "      <td>1</td>\n",
       "    </tr>\n",
       "    <tr>\n",
       "      <th>1904</th>\n",
       "      <td>1</td>\n",
       "      <td>1.83</td>\n",
       "      <td>55.362000</td>\n",
       "      <td>1</td>\n",
       "      <td>5</td>\n",
       "      <td>0.55362</td>\n",
       "      <td>1</td>\n",
       "    </tr>\n",
       "    <tr>\n",
       "      <th>1108</th>\n",
       "      <td>0</td>\n",
       "      <td>0.52</td>\n",
       "      <td>21.146000</td>\n",
       "      <td>0</td>\n",
       "      <td>11</td>\n",
       "      <td>0.21146</td>\n",
       "      <td>2</td>\n",
       "    </tr>\n",
       "    <tr>\n",
       "      <th>1339</th>\n",
       "      <td>1</td>\n",
       "      <td>0.53</td>\n",
       "      <td>15.345000</td>\n",
       "      <td>0</td>\n",
       "      <td>0</td>\n",
       "      <td>0.15345</td>\n",
       "      <td>0</td>\n",
       "    </tr>\n",
       "    <tr>\n",
       "      <th>1300</th>\n",
       "      <td>1</td>\n",
       "      <td>2.24</td>\n",
       "      <td>33.330002</td>\n",
       "      <td>0</td>\n",
       "      <td>10</td>\n",
       "      <td>0.33330</td>\n",
       "      <td>2</td>\n",
       "    </tr>\n",
       "  </tbody>\n",
       "</table>\n",
       "</div>"
      ],
      "text/plain": [
       "      switch  arsenic   distance  assoc  education  distance100  education4\n",
       "454        1     3.69  80.427002      0          5      0.80427           1\n",
       "1904       1     1.83  55.362000      1          5      0.55362           1\n",
       "1108       0     0.52  21.146000      0         11      0.21146           2\n",
       "1339       1     0.53  15.345000      0          0      0.15345           0\n",
       "1300       1     2.24  33.330002      0         10      0.33330           2"
      ]
     },
     "execution_count": 24,
     "metadata": {},
     "output_type": "execute_result"
    }
   ],
   "source": [
    "wells_test = wells.sample(frac = 0.1, replace = False)\n",
    "\n",
    "wells_test.head()"
   ]
  },
  {
   "cell_type": "code",
   "execution_count": 25,
   "metadata": {},
   "outputs": [
    {
     "name": "stdout",
     "output_type": "stream",
     "text": [
      "      switch  arsenic  prediction\n",
      "454        1     3.69    0.526191\n",
      "1904       1     1.83    0.565261\n",
      "1108       0     0.52    0.617225\n",
      "1339       1     0.53    0.625809\n",
      "1300       1     2.24    0.598961\n"
     ]
    }
   ],
   "source": [
    "# Compute predictions for the test sample wells_test and save as prediction\n",
    "prediction = wells_fit.predict(exog = wells_test)\n",
    "\n",
    "# Add prediction to the existing data frame wells_test and assign column name prediction\n",
    "wells_test['prediction'] = prediction\n",
    "\n",
    "# Examine the first 5 computed predictions\n",
    "print(wells_test[['switch', 'arsenic', 'prediction']].head())"
   ]
  },
  {
   "cell_type": "markdown",
   "metadata": {},
   "source": [
    "#### Compute confusion matrix\n",
    "\n",
    "As you learned in the video the logistic regression model generates two types of predictions, a continuous valued prediction, in the form of a probability, and a class prediction which in the example of the wells dataset is a discrete category with two classes.\n",
    "\n",
    "In the previous exercise you computed the continuous values prediction in the form of a probability. In this exercise you will use those values to assign a class to each observation in your wells_test sample. Finally you will describe the model using the confusion matrix."
   ]
  },
  {
   "cell_type": "code",
   "execution_count": 26,
   "metadata": {},
   "outputs": [],
   "source": [
    "# Define the cutoff\n",
    "cutoff = 0.5\n",
    "\n",
    "# Compute class predictions: y_prediction\n",
    "y_prediction = np.where(prediction > cutoff, 1, 0)"
   ]
  },
  {
   "cell_type": "code",
   "execution_count": 27,
   "metadata": {},
   "outputs": [
    {
     "name": "stdout",
     "output_type": "stream",
     "text": [
      "Predicted   0    1  All\n",
      "Actual                 \n",
      "0          21   98  119\n",
      "1          14  168  182\n",
      "All        35  266  301\n"
     ]
    }
   ],
   "source": [
    "# Assign actual class labels from the test sample to y_actual\n",
    "y_actual = wells_test['switch']\n",
    "\n",
    "# Compute and print confusion matrix using crosstab function\n",
    "conf_mat = pd.crosstab(y_actual, y_prediction, \n",
    "                       rownames=['Actual'], \n",
    "                       colnames=['Predicted'], \n",
    "                       margins = True)\n",
    "                      \n",
    "# Print the confusion matrix\n",
    "print(conf_mat)"
   ]
  },
  {
   "cell_type": "markdown",
   "metadata": {},
   "source": [
    "## Modelling Count Data (Poission Regression / Negative Binomial Regression)"
   ]
  },
  {
   "cell_type": "markdown",
   "metadata": {},
   "source": [
    "#### Visualize the response\n",
    "\n",
    "In the video you learned the main characteristics of the Poisson random variable and how its distribution changes as the parameter  changes. In this exercise, you will examine the response variable visually to assess the parameter value, spread of the distribution or its skewness.\n",
    "\n",
    "You will use the crab dataset which you used in previous chapter exercises, but now you will analyze the number of satellite crabs sat, instead of whether there is at least one, near the nesting place."
   ]
  },
  {
   "cell_type": "code",
   "execution_count": 28,
   "metadata": {},
   "outputs": [
    {
     "data": {
      "image/png": "[encoded data removed]",
      "text/plain": [
       "<Figure size 432x288 with 1 Axes>"
      ]
     },
     "metadata": {},
     "output_type": "display_data"
    }
   ],
   "source": [
    "# Plot sat variable\n",
    "sns.distplot(crab['sat'])\n",
    "\n",
    "# Display the plot\n",
    "plt.show()"
   ]
  },
  {
   "cell_type": "code",
   "execution_count": 29,
   "metadata": {},
   "outputs": [
    {
     "name": "stdout",
     "output_type": "stream",
     "text": [
      "                 Generalized Linear Model Regression Results                  \n",
      "==============================================================================\n",
      "Dep. Variable:                    sat   No. Observations:                  173\n",
      "Model:                            GLM   Df Residuals:                      171\n",
      "Model Family:                 Poisson   Df Model:                            1\n",
      "Link Function:                    log   Scale:                          1.0000\n",
      "Method:                          IRLS   Log-Likelihood:                -458.08\n",
      "Date:                Mon, 15 Mar 2021   Deviance:                       560.87\n",
      "Time:                        00:49:36   Pearson chi2:                     536.\n",
      "No. Iterations:                     5   Covariance Type:             nonrobust\n",
      "==============================================================================\n",
      "                 coef    std err          z      P>|z|      [0.025      0.975]\n",
      "------------------------------------------------------------------------------\n",
      "Intercept     -0.4284      0.179     -2.394      0.017      -0.779      -0.078\n",
      "weight         0.5893      0.065      9.064      0.000       0.462       0.717\n",
      "==============================================================================\n"
     ]
    }
   ],
   "source": [
    "# Fit Poisson regression of sat by weight\n",
    "model = glm('sat ~ weight', data = crab, family = sm.families.Poisson()).fit()\n",
    "\n",
    "# Display model results\n",
    "print(model.summary())"
   ]
  },
  {
   "cell_type": "markdown",
   "metadata": {},
   "source": [
    "#### Estimate parameter lambda\n",
    "\n",
    "In the video you learned how the log link function provides for the linear combination in the parameters defining the Poisson regression model of the form\n",
    "\n",
    "$log(\\lambda)=\\beta_0+\\beta_1x_1$\n",
    "\n",
    "To obtain the response function in terms of lambda we exponentiated the model function to obtain\n",
    "\n",
    "$\\lambda=E(y)=exp(\\beta_0 + \\beta_1x_1)$\n",
    "\n",
    "$\\lambda=E(y)=exp(\\beta_0) \\times exp(\\beta_1x_1)$\n",
    "\n",
    "In this exercise, you will use this formulation with the horseshoe crab data to compute the estimate of the mean  for the female crab width."
   ]
  },
  {
   "cell_type": "code",
   "execution_count": 30,
   "metadata": {},
   "outputs": [
    {
     "name": "stdout",
     "output_type": "stream",
     "text": [
      "                 Generalized Linear Model Regression Results                  \n",
      "==============================================================================\n",
      "Dep. Variable:                    sat   No. Observations:                  173\n",
      "Model:                            GLM   Df Residuals:                      171\n",
      "Model Family:                 Poisson   Df Model:                            1\n",
      "Link Function:                    log   Scale:                          1.0000\n",
      "Method:                          IRLS   Log-Likelihood:                -461.59\n",
      "Date:                Mon, 15 Mar 2021   Deviance:                       567.88\n",
      "Time:                        00:49:36   Pearson chi2:                     544.\n",
      "No. Iterations:                     5   Covariance Type:             nonrobust\n",
      "==============================================================================\n",
      "                 coef    std err          z      P>|z|      [0.025      0.975]\n",
      "------------------------------------------------------------------------------\n",
      "Intercept     -3.3048      0.542     -6.095      0.000      -4.368      -2.242\n",
      "width          0.1640      0.020      8.216      0.000       0.125       0.203\n",
      "==============================================================================\n"
     ]
    }
   ],
   "source": [
    "# Fit Poisson regression of sat by width\n",
    "crab_pois = glm('sat ~ width', data = crab, family = sm.families.Poisson()).fit()\n",
    "\n",
    "# Display model results\n",
    "print(crab_pois.summary())"
   ]
  },
  {
   "cell_type": "code",
   "execution_count": 31,
   "metadata": {},
   "outputs": [
    {
     "name": "stdout",
     "output_type": "stream",
     "text": [
      "1.17826743864523\n"
     ]
    }
   ],
   "source": [
    "# Extract coefficients\n",
    "intercept, slope = crab_pois.params\n",
    "\n",
    "# Compute and print the multiplicative effect\n",
    "print(np.exp(slope))\n",
    "\n",
    "# To conclude a 1-unit increase in female crab width the number of satellite crabs will increase, (multiplied by 1.18)."
   ]
  },
  {
   "cell_type": "markdown",
   "metadata": {},
   "source": [
    "#### Poisson confidence intervals\n",
    "\n",
    "Using the previously fitted horseshoes crab model sat ~ width analyze uncertainty of the coefficient estimates by computing the confidence intervals for  and the confidence intervals for the multiplicative effect on the mean."
   ]
  },
  {
   "cell_type": "code",
   "execution_count": 32,
   "metadata": {},
   "outputs": [
    {
     "name": "stdout",
     "output_type": "stream",
     "text": [
      "Confidence internal for the coefficients: \n",
      "                   0         1\n",
      "Intercept -4.367531 -2.241983\n",
      "width      0.124914  0.203176\n",
      "\n",
      "Confidence internal for the multiplicative effect on the mean: \n",
      "                   0         1\n",
      "Intercept  0.012683  0.106248\n",
      "width      1.133051  1.225289\n"
     ]
    }
   ],
   "source": [
    "# Compute confidence intervals for the coefficients\n",
    "model_ci = crab_pois.conf_int()\n",
    "print('Confidence internal for the coefficients: \\n', model_ci)\n",
    "# Compute and print the confidence intervals for the multiplicative effect on the mean\n",
    "print('\\nConfidence internal for the multiplicative effect on the mean: \\n', np.exp(model_ci))"
   ]
  },
  {
   "cell_type": "markdown",
   "metadata": {},
   "source": [
    "#### Is the mean equal to the variance?\n",
    "\n",
    "Under the Poisson model one of the assumptions was that the mean should be the same as the variance. As you learned in the lecture, if this assumption is violated then there is overdispersion. Without adjusting for overdispersion you would wrongly interpret standard errors of the given model.\n",
    "\n",
    "In this exercise you will first compute the mean and the variance of the number of satellites for the female crabs."
   ]
  },
  {
   "cell_type": "code",
   "execution_count": 33,
   "metadata": {},
   "outputs": [
    {
     "name": "stdout",
     "output_type": "stream",
     "text": [
      "Sample mean: 2.919\n",
      "Sample variance: 9.855\n",
      "Ratio: 3.376\n"
     ]
    }
   ],
   "source": [
    "# Compute and print sample mean of the number of satellites: sat_mean\n",
    "sat_mean = np.mean(crab.sat)\n",
    "\n",
    "print('Sample mean:', round(sat_mean, 3))\n",
    "\n",
    "# Compute and print sample variance of the number of satellites: sat_var\n",
    "sat_var = np.var(crab.sat)\n",
    "print('Sample variance:', round(sat_var, 3))\n",
    "\n",
    "# Compute ratio of variance to mean\n",
    "print('Ratio:', round(sat_var/sat_mean, 3))\n",
    "\n",
    "# the variance is 3.37 times the mean. This gives an indication that Poisson GLM will not provide \n",
    "# the most accurate fit to the data. Let's do another check before moving on."
   ]
  },
  {
   "attachments": {
    "image.png": {
     "image/png": "[encoded data removed]"
    }
   },
   "cell_type": "markdown",
   "metadata": {},
   "source": [
    "#### Computing expected number of counts\n",
    "\n",
    "In the previous exercises you have computed the mean and variance of the crab data and you determined they are not equal. In this exercise you will practice another analysis for overdispersion by using the already computed mean and calculating the expected number of counts per certain value of counts, for example zero counts. In other words, what count of zero satellites should we expect in the sample given the computed sample mean.\n",
    "\n",
    "Recall figure from the crab dataset where you can notice a large number of zero counts.\n",
    "![image.png](attachment:image.png)\n",
    "\n",
    "Recall that to compute the expected number of counts given the parameter you can use the defined Poisson distribution, \n",
    "given by\n",
    "\n",
    "$P(y)=\\frac{\\lambda^ye^{-\\lambda}}{y!}$"
   ]
  },
  {
   "cell_type": "code",
   "execution_count": 34,
   "metadata": {},
   "outputs": [
    {
     "name": "stdout",
     "output_type": "stream",
     "text": [
      "Expected zero counts given mean of  2.919 is  5.4\n",
      "Actual zero counts in the sample:  35.8\n"
     ]
    }
   ],
   "source": [
    "# Expected number of zero counts\n",
    "exp_zero_cnt = ((sat_mean**0)*np.exp(-sat_mean))/math.factorial(0)\n",
    "\n",
    "# Print exp_zero_counts\n",
    "print('Expected zero counts given mean of ', round(sat_mean,3), \n",
    "      'is ', round(exp_zero_cnt,3)*100)\n",
    "\n",
    "# Number of zero counts in sat variable\n",
    "actual_zero_ant = sum(crab['sat']  == 0)\n",
    "\n",
    "# Number of observations in crab dataset\n",
    "num_obs = len(crab)\n",
    "\n",
    "# Print the percentage of zero count observations in the sample\n",
    "print('Actual zero counts in the sample: ', round(actual_zero_ant / num_obs,3)*100)\n",
    "\n",
    "#Notice that given the mean parametar there should be 5.4% observations with zero count, \n",
    "# but in the crab #sample there are 35.8% observations with zero count, indicating the presence of overdispersion."
   ]
  },
  {
   "cell_type": "markdown",
   "metadata": {},
   "source": [
    "#### Checking for overdispersion\n",
    "\n",
    "In this exercise you will check for overdispersion in the model you fitted previously, namely the horseshoe crab Poisson model where you fitted sat given width. Recall from the video that to check for potential overdispersion in the fit you would compute the following\n",
    "\n",
    "**model.pearson_chi2 / model.df_resid**\n",
    "\n",
    "where .pearson_chi2 represents Pearson statistic and .df_resid represents the degrees of freedom of the residuals."
   ]
  },
  {
   "cell_type": "code",
   "execution_count": 35,
   "metadata": {},
   "outputs": [
    {
     "name": "stdout",
     "output_type": "stream",
     "text": [
      "3.182204743877359\n"
     ]
    }
   ],
   "source": [
    "# Compute and print the overdispersion approximation\n",
    "print(crab_pois.pearson_chi2 / crab_pois.df_resid)\n",
    "\n",
    "# There is overdispersion present since the ratio is greater than 1, \n",
    "# meaning that the coefficient estimates should not be interpreted directly. "
   ]
  },
  {
   "cell_type": "markdown",
   "metadata": {},
   "source": [
    "#### Fitting negative binomial\n",
    "\n",
    "The negative binomial allows for the variance to exceed the mean, which is what you have measured in the previous exercise in your data crab. In this exercise you will recall the previous fit of the Poisson regression using the log link function and additionally fit negative binomial model also using the log link function.\n",
    "\n",
    "You will analyze and see how the statistical measures were changed."
   ]
  },
  {
   "cell_type": "code",
   "execution_count": 36,
   "metadata": {},
   "outputs": [
    {
     "name": "stdout",
     "output_type": "stream",
     "text": [
      "                 Generalized Linear Model Regression Results                  \n",
      "==============================================================================\n",
      "Dep. Variable:                    sat   No. Observations:                  173\n",
      "Model:                            GLM   Df Residuals:                      171\n",
      "Model Family:                 Poisson   Df Model:                            1\n",
      "Link Function:                    log   Scale:                          1.0000\n",
      "Method:                          IRLS   Log-Likelihood:                -461.59\n",
      "Date:                Mon, 15 Mar 2021   Deviance:                       567.88\n",
      "Time:                        00:49:36   Pearson chi2:                     544.\n",
      "No. Iterations:                     5   Covariance Type:             nonrobust\n",
      "==============================================================================\n",
      "                 coef    std err          z      P>|z|      [0.025      0.975]\n",
      "------------------------------------------------------------------------------\n",
      "Intercept     -3.3048      0.542     -6.095      0.000      -4.368      -2.242\n",
      "width          0.1640      0.020      8.216      0.000       0.125       0.203\n",
      "==============================================================================\n",
      "\n",
      "                  Generalized Linear Model Regression Results                  \n",
      "==============================================================================\n",
      "Dep. Variable:                    sat   No. Observations:                  173\n",
      "Model:                            GLM   Df Residuals:                      171\n",
      "Model Family:        NegativeBinomial   Df Model:                            1\n",
      "Link Function:                    log   Scale:                          1.0000\n",
      "Method:                          IRLS   Log-Likelihood:                -375.80\n",
      "Date:                Mon, 15 Mar 2021   Deviance:                       206.41\n",
      "Time:                        00:49:36   Pearson chi2:                     155.\n",
      "No. Iterations:                     6   Covariance Type:             nonrobust\n",
      "==============================================================================\n",
      "                 coef    std err          z      P>|z|      [0.025      0.975]\n",
      "------------------------------------------------------------------------------\n",
      "Intercept     -4.0323      1.129     -3.572      0.000      -6.245      -1.820\n",
      "width          0.1913      0.042      4.509      0.000       0.108       0.274\n",
      "==============================================================================\n"
     ]
    }
   ],
   "source": [
    "# Define the formula for the model fit\n",
    "formula = 'sat ~ width'\n",
    "\n",
    "# Fit the GLM negative binomial model using log link function\n",
    "crab_NB = glm(formula = formula, data = crab,\n",
    "                  family = sm.families.NegativeBinomial()).fit()\n",
    "\n",
    "# Print Poisson model's summary\n",
    "print(crab_pois.summary())\n",
    "\n",
    "# Print the negative binomial model's summary\n",
    "print('\\n', crab_NB.summary())"
   ]
  },
  {
   "cell_type": "markdown",
   "metadata": {},
   "source": [
    "#### Confidence intervals for negative Binomial model\n",
    "\n",
    "Continuing with the previously fitted crab model you will compare the confidence intervals for the negative Binomial model with the Poisson regression model."
   ]
  },
  {
   "cell_type": "code",
   "execution_count": 37,
   "metadata": {},
   "outputs": [
    {
     "name": "stdout",
     "output_type": "stream",
     "text": [
      "Confidence intervals for the Poisson model\n",
      "                  0         1\n",
      "Intercept -4.367531 -2.241983\n",
      "width      0.124914  0.203176\n",
      "\n",
      "\n",
      "Confidence intervals for the Negative Binomial model\n",
      "                  0         1\n",
      "Intercept -6.244509 -1.820000\n",
      "width      0.108155  0.274472\n"
     ]
    }
   ],
   "source": [
    "# Compute confidence intervals for crab_Pois model\n",
    "print('Confidence intervals for the Poisson model')\n",
    "print(crab_pois.conf_int())\n",
    "\n",
    "# Compute confidence intervals for crab_NB model\n",
    "print('\\n\\nConfidence intervals for the Negative Binomial model')\n",
    "print(crab_NB.conf_int())\n",
    "\n",
    "# Notice how the confidence intervals are wider for the negative Binomial model\n",
    "# compared to quite narrow confidence intervals for the Poisson model since it did not account for overdispersion."
   ]
  },
  {
   "cell_type": "markdown",
   "metadata": {},
   "source": [
    "#### Plotting data and linear model fit\n",
    "\n",
    "In the previous exercises you have practiced how to fit and interpret the Poisson regression model. In this exercise you will visually analyze the crab data and then the model fit.\n",
    "\n",
    "First, you will plot a linear fit to the data, which later on you will use to compare to Poisson regression fitted values."
   ]
  },
  {
   "cell_type": "code",
   "execution_count": 38,
   "metadata": {},
   "outputs": [
    {
     "data": {
      "image/png": "[encoded data removed]",
      "text/plain": [
       "<Figure size 432x288 with 1 Axes>"
      ]
     },
     "metadata": {},
     "output_type": "display_data"
    }
   ],
   "source": [
    "# Plot the data points and linear model fit\n",
    "sns.regplot('width', 'sat', data = crab,\n",
    "            y_jitter = 0.3,\n",
    "            fit_reg = True,\n",
    "            line_kws = {'color':'green', \n",
    "                        'label':'LM fit'})\n",
    "\n",
    "# Print plot\n",
    "plt.show()"
   ]
  },
  {
   "cell_type": "code",
   "execution_count": 39,
   "metadata": {},
   "outputs": [
    {
     "data": {
      "image/png": "[encoded data removed]",
      "text/plain": [
       "<Figure size 432x288 with 1 Axes>"
      ]
     },
     "metadata": {},
     "output_type": "display_data"
    }
   ],
   "source": [
    "# Add fitted values to the fit_values column of crab dataframe\n",
    "crab['fit_values'] = crab_pois.predict(crab['width'])\n",
    "\n",
    "# Plot data points\n",
    "sns.regplot('width', 'sat', data = crab,\n",
    "            y_jitter = 0.3,\n",
    "            fit_reg = True, \n",
    "            line_kws = {'color':'green', \n",
    "                        'label':'LM fit'})\n",
    "\n",
    "# Poisson regression fitted values\n",
    "sns.scatterplot('width','fit_values', data = crab,\n",
    "           color = 'red', label = 'Poisson')\n",
    "\n",
    "# Print plot          \n",
    "plt.show()"
   ]
  },
  {
   "cell_type": "markdown",
   "metadata": {},
   "source": [
    "## Multivariable Logistic Regression\n"
   ]
  },
  {
   "cell_type": "markdown",
   "metadata": {},
   "source": [
    "#### Fit a multivariable logistic regression\n",
    "\n",
    "Using the knowledge gained in the video you will revisit the crab dataset to fit a multivariate logistic regression model. In chapter 2 you have fitted a logistic regression with width as explanatory variable. In this exercise you will analyze the effects of adding color as additional variable.\n",
    "\n",
    "The color variable has a natural ordering from medium light, medium, medium dark and dark. As such color is an ordinal variable which in this example you will treat as a quantitative variable."
   ]
  },
  {
   "cell_type": "code",
   "execution_count": 40,
   "metadata": {},
   "outputs": [
    {
     "data": {
      "text/html": [
       "<div>\n",
       "<style scoped>\n",
       "    .dataframe tbody tr th:only-of-type {\n",
       "        vertical-align: middle;\n",
       "    }\n",
       "\n",
       "    .dataframe tbody tr th {\n",
       "        vertical-align: top;\n",
       "    }\n",
       "\n",
       "    .dataframe thead th {\n",
       "        text-align: right;\n",
       "    }\n",
       "</style>\n",
       "<table border=\"1\" class=\"dataframe\">\n",
       "  <thead>\n",
       "    <tr style=\"text-align: right;\">\n",
       "      <th></th>\n",
       "      <th>crab</th>\n",
       "      <th>sat</th>\n",
       "      <th>y</th>\n",
       "      <th>weight</th>\n",
       "      <th>width</th>\n",
       "      <th>color</th>\n",
       "      <th>spine</th>\n",
       "      <th>width_C</th>\n",
       "      <th>fit_values</th>\n",
       "    </tr>\n",
       "  </thead>\n",
       "  <tbody>\n",
       "    <tr>\n",
       "      <th>0</th>\n",
       "      <td>1</td>\n",
       "      <td>8</td>\n",
       "      <td>1</td>\n",
       "      <td>3.05</td>\n",
       "      <td>28.3</td>\n",
       "      <td>2</td>\n",
       "      <td>3</td>\n",
       "      <td>[28.25, 29.25)</td>\n",
       "      <td>3.810341</td>\n",
       "    </tr>\n",
       "    <tr>\n",
       "      <th>1</th>\n",
       "      <td>2</td>\n",
       "      <td>0</td>\n",
       "      <td>0</td>\n",
       "      <td>1.55</td>\n",
       "      <td>22.5</td>\n",
       "      <td>3</td>\n",
       "      <td>3</td>\n",
       "      <td>[0.0, 23.25)</td>\n",
       "      <td>1.471463</td>\n",
       "    </tr>\n",
       "    <tr>\n",
       "      <th>2</th>\n",
       "      <td>3</td>\n",
       "      <td>9</td>\n",
       "      <td>1</td>\n",
       "      <td>2.30</td>\n",
       "      <td>26.0</td>\n",
       "      <td>1</td>\n",
       "      <td>1</td>\n",
       "      <td>[25.25, 26.25)</td>\n",
       "      <td>2.612781</td>\n",
       "    </tr>\n",
       "    <tr>\n",
       "      <th>3</th>\n",
       "      <td>4</td>\n",
       "      <td>0</td>\n",
       "      <td>0</td>\n",
       "      <td>2.10</td>\n",
       "      <td>24.8</td>\n",
       "      <td>3</td>\n",
       "      <td>3</td>\n",
       "      <td>[24.25, 25.25)</td>\n",
       "      <td>2.145904</td>\n",
       "    </tr>\n",
       "    <tr>\n",
       "      <th>4</th>\n",
       "      <td>5</td>\n",
       "      <td>4</td>\n",
       "      <td>1</td>\n",
       "      <td>2.60</td>\n",
       "      <td>26.0</td>\n",
       "      <td>3</td>\n",
       "      <td>3</td>\n",
       "      <td>[25.25, 26.25)</td>\n",
       "      <td>2.612781</td>\n",
       "    </tr>\n",
       "  </tbody>\n",
       "</table>\n",
       "</div>"
      ],
      "text/plain": [
       "   crab  sat  y  weight  width  color  spine         width_C  fit_values\n",
       "0     1    8  1    3.05   28.3      2      3  [28.25, 29.25)    3.810341\n",
       "1     2    0  0    1.55   22.5      3      3    [0.0, 23.25)    1.471463\n",
       "2     3    9  1    2.30   26.0      1      1  [25.25, 26.25)    2.612781\n",
       "3     4    0  0    2.10   24.8      3      3  [24.25, 25.25)    2.145904\n",
       "4     5    4  1    2.60   26.0      3      3  [25.25, 26.25)    2.612781"
      ]
     },
     "execution_count": 40,
     "metadata": {},
     "output_type": "execute_result"
    }
   ],
   "source": [
    "crab.head()"
   ]
  },
  {
   "cell_type": "code",
   "execution_count": 41,
   "metadata": {},
   "outputs": [
    {
     "name": "stdout",
     "output_type": "stream",
     "text": [
      "                 Generalized Linear Model Regression Results                  \n",
      "==============================================================================\n",
      "Dep. Variable:                      y   No. Observations:                  173\n",
      "Model:                            GLM   Df Residuals:                      170\n",
      "Model Family:                Binomial   Df Model:                            2\n",
      "Link Function:                  logit   Scale:                          1.0000\n",
      "Method:                          IRLS   Log-Likelihood:                -94.561\n",
      "Date:                Mon, 15 Mar 2021   Deviance:                       189.12\n",
      "Time:                        00:49:37   Pearson chi2:                     170.\n",
      "No. Iterations:                     5   Covariance Type:             nonrobust\n",
      "==============================================================================\n",
      "                 coef    std err          z      P>|z|      [0.025      0.975]\n",
      "------------------------------------------------------------------------------\n",
      "Intercept    -10.0708      2.807     -3.588      0.000     -15.572      -4.569\n",
      "width          0.4583      0.104      4.406      0.000       0.254       0.662\n",
      "color         -0.5090      0.224     -2.276      0.023      -0.947      -0.071\n",
      "==============================================================================\n"
     ]
    }
   ],
   "source": [
    "# Define model formula\n",
    "formula = 'y ~ width + color'\n",
    "\n",
    "# Fit GLM\n",
    "model = glm(formula, data = crab, family = sm.families.Binomial()).fit()\n",
    "\n",
    "# Print model summary\n",
    "print(model.summary())\n",
    "\n",
    "# Great work! You fitted your first multivariable logistic regression. From model summary note that for each one-level increase \n",
    "# in color of the female crab, the estimated odds multiply by exp(-0.509)=0.6,\n",
    "# i.e. the odds for dark crabs are 60% than those for medium crabs."
   ]
  },
  {
   "cell_type": "markdown",
   "metadata": {},
   "source": [
    "#### The effect of multicollinearity\n",
    "\n",
    "Using the crab dataset you will analyze the effects of multicollinearity. Recall that multicollinearity can have the following effects:\n",
    "\n",
    "- Coefficient is not significant, but variable is highly correlated with y.\n",
    "- Adding/removing a variable significantly changes coefficients.\n",
    "- Not logical sign of the coefficient.\n",
    "- Variables have high pairwise correlation."
   ]
  },
  {
   "cell_type": "code",
   "execution_count": 42,
   "metadata": {},
   "outputs": [
    {
     "name": "stdout",
     "output_type": "stream",
     "text": [
      "                 Generalized Linear Model Regression Results                  \n",
      "==============================================================================\n",
      "Dep. Variable:                      y   No. Observations:                  173\n",
      "Model:                            GLM   Df Residuals:                      170\n",
      "Model Family:                Binomial   Df Model:                            2\n",
      "Link Function:                  logit   Scale:                          1.0000\n",
      "Method:                          IRLS   Log-Likelihood:                -96.446\n",
      "Date:                Mon, 15 Mar 2021   Deviance:                       192.89\n",
      "Time:                        00:49:37   Pearson chi2:                     167.\n",
      "No. Iterations:                     5   Covariance Type:             nonrobust\n",
      "==============================================================================\n",
      "                 coef    std err          z      P>|z|      [0.025      0.975]\n",
      "------------------------------------------------------------------------------\n",
      "Intercept     -9.3547      3.528     -2.652      0.008     -16.270      -2.440\n",
      "weight         0.8338      0.672      1.241      0.214      -0.483       2.150\n",
      "width          0.3068      0.182      1.686      0.092      -0.050       0.663\n",
      "==============================================================================\n"
     ]
    }
   ],
   "source": [
    "# Define model formula\n",
    "formula = 'y ~ weight + width'\n",
    "\n",
    "# Fit GLM\n",
    "model = glm(formula, data = crab, family = sm.families.Binomial()).fit()\n",
    "\n",
    "# Print model summary\n",
    "print(model.summary())\n",
    "\n",
    "#Notice that the neither weight nor width are statistically significant. \n",
    "# Recall that when we fitted univariate logistic regressions for each variable, both variables where statistically significant. \n",
    "# There is evident presence of multicollinearity! Let's measure it in the next exercise."
   ]
  },
  {
   "cell_type": "markdown",
   "metadata": {},
   "source": [
    "#### Compute VIF\n",
    "\n",
    "As you learned in the video one of the most widely used diagnostic for multicollinearity is the variance inflation factor or VIF, which is computed for each explanatory variable.\n",
    "\n",
    "Recall from the video that the rule of thumb threshold is VIF at the level of 2.5, meaning if the VIF is above 2.5 you should consider there is effect of multicollinearity on your fitted model."
   ]
  },
  {
   "cell_type": "code",
   "execution_count": 43,
   "metadata": {},
   "outputs": [
    {
     "name": "stdout",
     "output_type": "stream",
     "text": [
      "   variables         VIF\n",
      "0     weight    4.691018\n",
      "1      width    4.726378\n",
      "2      color    1.076594\n",
      "3  Intercept  414.163343\n"
     ]
    },
    {
     "name": "stderr",
     "output_type": "stream",
     "text": [
      "D:\\Anaconda\\envs\\242\\lib\\site-packages\\ipykernel_launcher.py:3: SettingWithCopyWarning: \n",
      "A value is trying to be set on a copy of a slice from a DataFrame.\n",
      "Try using .loc[row_indexer,col_indexer] = value instead\n",
      "\n",
      "See the caveats in the documentation: http://pandas.pydata.org/pandas-docs/stable/indexing.html#indexing-view-versus-copy\n",
      "  This is separate from the ipykernel package so we can avoid doing imports until\n"
     ]
    }
   ],
   "source": [
    "# Get variables for which to compute VIF and add intercept term\n",
    "X = crab[['weight', 'width', 'color']]\n",
    "X['Intercept'] = 1\n",
    "\n",
    "# Compute and view VIF\n",
    "vif = pd.DataFrame()\n",
    "vif[\"variables\"] = X.columns\n",
    "vif[\"VIF\"] = [variance_inflation_factor(X.values, i) for i in range(X.shape[1])] # (exog, exog_idx)\n",
    "\n",
    "# View results using print\n",
    "print(vif)"
   ]
  },
  {
   "cell_type": "markdown",
   "metadata": {},
   "source": [
    "#### Checking model fit\n",
    "\n",
    "In the video you analyzed the example of an improvement in the model fit by adding additional variable on the wells data. Continuing with this data set you will see how further increase in model complexity effects deviance and model fit."
   ]
  },
  {
   "cell_type": "code",
   "execution_count": 44,
   "metadata": {},
   "outputs": [
    {
     "name": "stdout",
     "output_type": "stream",
     "text": [
      "-188.76305963384902\n"
     ]
    }
   ],
   "source": [
    "# Define model formula\n",
    "formula = 'switch ~ distance100 + arsenic'\n",
    "\n",
    "# Fit GLM\n",
    "model_dist_ars = glm(formula, data = wells, family = sm.families.Binomial()).fit()\n",
    "\n",
    "# Compare deviance of null and residual model\n",
    "diff_deviance = model_dist_ars.deviance - model_dist_ars.null_deviance\n",
    "\n",
    "# Print the computed difference in deviance\n",
    "print(diff_deviance)\n",
    "\n",
    "# Having both distance100 and arsenic in the model reduces deviance by 187 compared to the intercept only model. \n",
    "# But what is the actual impact of additional variable arsenic? Let's see in the next exericise."
   ]
  },
  {
   "cell_type": "code",
   "execution_count": 45,
   "metadata": {},
   "outputs": [],
   "source": [
    "# Define model formula\n",
    "formula = 'switch ~ distance100'\n",
    "\n",
    "# Fit GLM\n",
    "model_dist = glm(formula, data = wells, family = sm.families.Binomial()).fit()"
   ]
  },
  {
   "cell_type": "code",
   "execution_count": 46,
   "metadata": {},
   "outputs": [
    {
     "name": "stdout",
     "output_type": "stream",
     "text": [
      "Adding distance100 to the null model reduces deviance by:  42.726\n",
      "Adding arsenic to the distance model reduced deviance further by:  146.037\n"
     ]
    }
   ],
   "source": [
    "# Compute the difference in adding distance100 variable\n",
    "diff_deviance_distance = -(model_dist.deviance - model_dist.null_deviance)\n",
    "\n",
    "# Print the computed difference in deviance\n",
    "print('Adding distance100 to the null model reduces deviance by: ', \n",
    "      round(diff_deviance_distance,3))\n",
    "\n",
    "# Compute the difference in adding arsenic variable\n",
    "diff_deviance_arsenic = -(model_dist_ars.deviance - model_dist.deviance)\n",
    "\n",
    "# Print the computed difference in deviance\n",
    "print('Adding arsenic to the distance model reduced deviance further by: ', \n",
    "      round(diff_deviance_arsenic,3))"
   ]
  },
  {
   "cell_type": "markdown",
   "metadata": {},
   "source": [
    "Adding distance100 to the null model reduces deviance by 42.7 and with an addition of arsenic the deviance further reduces by 146. Having such large reduction than expected reduction by 1 we can conclude that the multivariate model has improved the model fit."
   ]
  },
  {
   "cell_type": "markdown",
   "metadata": {},
   "source": [
    "#### Deviance and linear transformation\n",
    "\n",
    "As you have seen in previous exercises the deviance decreased as you added a variable that improves the model fit. In this exercise you will consider the well switch data example and the model you fitted with distance variable, but you will assess what happens when there is a linear transformation of the variable.\n",
    "\n",
    "Note that the variable distance100 is the original variable distance divided by 100 to make for more meaningful representation and interpretation of the results. You can inspect the data with wells.head() to view the first 5 rows of data."
   ]
  },
  {
   "cell_type": "code",
   "execution_count": 47,
   "metadata": {},
   "outputs": [
    {
     "data": {
      "text/html": [
       "<div>\n",
       "<style scoped>\n",
       "    .dataframe tbody tr th:only-of-type {\n",
       "        vertical-align: middle;\n",
       "    }\n",
       "\n",
       "    .dataframe tbody tr th {\n",
       "        vertical-align: top;\n",
       "    }\n",
       "\n",
       "    .dataframe thead th {\n",
       "        text-align: right;\n",
       "    }\n",
       "</style>\n",
       "<table border=\"1\" class=\"dataframe\">\n",
       "  <thead>\n",
       "    <tr style=\"text-align: right;\">\n",
       "      <th></th>\n",
       "      <th>switch</th>\n",
       "      <th>arsenic</th>\n",
       "      <th>distance</th>\n",
       "      <th>assoc</th>\n",
       "      <th>education</th>\n",
       "      <th>distance100</th>\n",
       "      <th>education4</th>\n",
       "    </tr>\n",
       "  </thead>\n",
       "  <tbody>\n",
       "    <tr>\n",
       "      <th>0</th>\n",
       "      <td>1</td>\n",
       "      <td>2.36</td>\n",
       "      <td>16.826000</td>\n",
       "      <td>0</td>\n",
       "      <td>0</td>\n",
       "      <td>0.16826</td>\n",
       "      <td>0</td>\n",
       "    </tr>\n",
       "    <tr>\n",
       "      <th>1</th>\n",
       "      <td>1</td>\n",
       "      <td>0.71</td>\n",
       "      <td>47.321999</td>\n",
       "      <td>0</td>\n",
       "      <td>0</td>\n",
       "      <td>0.47322</td>\n",
       "      <td>0</td>\n",
       "    </tr>\n",
       "    <tr>\n",
       "      <th>2</th>\n",
       "      <td>0</td>\n",
       "      <td>2.07</td>\n",
       "      <td>20.966999</td>\n",
       "      <td>0</td>\n",
       "      <td>10</td>\n",
       "      <td>0.20967</td>\n",
       "      <td>2</td>\n",
       "    </tr>\n",
       "    <tr>\n",
       "      <th>3</th>\n",
       "      <td>1</td>\n",
       "      <td>1.15</td>\n",
       "      <td>21.486000</td>\n",
       "      <td>0</td>\n",
       "      <td>12</td>\n",
       "      <td>0.21486</td>\n",
       "      <td>2</td>\n",
       "    </tr>\n",
       "    <tr>\n",
       "      <th>4</th>\n",
       "      <td>1</td>\n",
       "      <td>1.10</td>\n",
       "      <td>40.874001</td>\n",
       "      <td>1</td>\n",
       "      <td>14</td>\n",
       "      <td>0.40874</td>\n",
       "      <td>3</td>\n",
       "    </tr>\n",
       "  </tbody>\n",
       "</table>\n",
       "</div>"
      ],
      "text/plain": [
       "   switch  arsenic   distance  assoc  education  distance100  education4\n",
       "0       1     2.36  16.826000      0          0      0.16826           0\n",
       "1       1     0.71  47.321999      0          0      0.47322           0\n",
       "2       0     2.07  20.966999      0         10      0.20967           2\n",
       "3       1     1.15  21.486000      0         12      0.21486           2\n",
       "4       1     1.10  40.874001      1         14      0.40874           3"
      ]
     },
     "execution_count": 47,
     "metadata": {},
     "output_type": "execute_result"
    }
   ],
   "source": [
    "wells.head()"
   ]
  },
  {
   "cell_type": "code",
   "execution_count": 48,
   "metadata": {},
   "outputs": [
    {
     "name": "stdout",
     "output_type": "stream",
     "text": [
      "Difference in deviance is:  0.0\n"
     ]
    }
   ],
   "source": [
    "# Fit logistic regression model as save as model_dist_1\n",
    "model_dist_1 = glm('switch ~ distance', data = wells, family = sm.families.Binomial()).fit()\n",
    "\n",
    "# Check the difference in deviance of model_dist_1 and model_dist\n",
    "print('Difference in deviance is: ', round(model_dist_1.deviance - model_dist.deviance,3))"
   ]
  },
  {
   "cell_type": "markdown",
   "metadata": {},
   "source": [
    "#### Model matrix for continuous variables\n",
    "\n",
    "In the video you learned about the model formula, the under-the-hood workings of the dmatrix() to obtain the model matrix and how it relates to the glm() function. As you have learned the input to dmatrix() is the right hand side of the glm() formula argument. In case the variables are part of the dataframe, then you should also specify the data source via the data argument.\n",
    "\n",
    "dmatrix('y ~ x1 + x2', \n",
    "        data = my_data)\n",
    "        \n",
    "In this exercise you will analyze and confirm the structure of your model before model fit."
   ]
  },
  {
   "cell_type": "code",
   "execution_count": 49,
   "metadata": {},
   "outputs": [
    {
     "name": "stdout",
     "output_type": "stream",
     "text": [
      "   Intercept  arsenic\n",
      "0        1.0     2.36\n",
      "1        1.0     0.71\n",
      "2        1.0     2.07\n",
      "3        1.0     1.15\n",
      "4        1.0     1.10\n"
     ]
    }
   ],
   "source": [
    "# Construct model matrix with arsenic\n",
    "model_matrix = dmatrix('arsenic', data = wells, return_type = 'dataframe')\n",
    "print(model_matrix.head())\n",
    "\n",
    "# dmatrix() includes an intercept"
   ]
  },
  {
   "cell_type": "code",
   "execution_count": 50,
   "metadata": {},
   "outputs": [
    {
     "name": "stdout",
     "output_type": "stream",
     "text": [
      "   Intercept  arsenic  distance100\n",
      "0        1.0     2.36      0.16826\n",
      "1        1.0     0.71      0.47322\n",
      "2        1.0     2.07      0.20967\n",
      "3        1.0     1.15      0.21486\n",
      "4        1.0     1.10      0.40874\n"
     ]
    }
   ],
   "source": [
    "# Construct model matrix with arsenic and distance100\n",
    "model_matrix = dmatrix('arsenic + distance100', data = wells, return_type = 'dataframe')\n",
    "print(model_matrix.head())"
   ]
  },
  {
   "cell_type": "markdown",
   "metadata": {},
   "source": [
    "#### Variable transformation\n",
    "\n",
    "Continuing with the wells you will practice applying variable transformation directly in the formula and model matrix setting without the need to add the transformed data to the data frame first. You will also revisit the computation of model error or deviance to see if the transformation improved the model fit.\n",
    "\n",
    "Recall the structure of dmatrix() function is the right hand side of the glm() formula argument in addition to the data argument."
   ]
  },
  {
   "cell_type": "code",
   "execution_count": 51,
   "metadata": {},
   "outputs": [
    {
     "data": {
      "text/html": [
       "<div>\n",
       "<style scoped>\n",
       "    .dataframe tbody tr th:only-of-type {\n",
       "        vertical-align: middle;\n",
       "    }\n",
       "\n",
       "    .dataframe tbody tr th {\n",
       "        vertical-align: top;\n",
       "    }\n",
       "\n",
       "    .dataframe thead th {\n",
       "        text-align: right;\n",
       "    }\n",
       "</style>\n",
       "<table border=\"1\" class=\"dataframe\">\n",
       "  <thead>\n",
       "    <tr style=\"text-align: right;\">\n",
       "      <th></th>\n",
       "      <th>Intercept</th>\n",
       "      <th>np.log(arsenic)</th>\n",
       "    </tr>\n",
       "  </thead>\n",
       "  <tbody>\n",
       "    <tr>\n",
       "      <th>0</th>\n",
       "      <td>1.0</td>\n",
       "      <td>0.858662</td>\n",
       "    </tr>\n",
       "    <tr>\n",
       "      <th>1</th>\n",
       "      <td>1.0</td>\n",
       "      <td>-0.342490</td>\n",
       "    </tr>\n",
       "    <tr>\n",
       "      <th>2</th>\n",
       "      <td>1.0</td>\n",
       "      <td>0.727549</td>\n",
       "    </tr>\n",
       "    <tr>\n",
       "      <th>3</th>\n",
       "      <td>1.0</td>\n",
       "      <td>0.139762</td>\n",
       "    </tr>\n",
       "    <tr>\n",
       "      <th>4</th>\n",
       "      <td>1.0</td>\n",
       "      <td>0.095310</td>\n",
       "    </tr>\n",
       "  </tbody>\n",
       "</table>\n",
       "</div>"
      ],
      "text/plain": [
       "   Intercept  np.log(arsenic)\n",
       "0        1.0         0.858662\n",
       "1        1.0        -0.342490\n",
       "2        1.0         0.727549\n",
       "3        1.0         0.139762\n",
       "4        1.0         0.095310"
      ]
     },
     "execution_count": 51,
     "metadata": {},
     "output_type": "execute_result"
    }
   ],
   "source": [
    "# Construct model matrix for arsenic with log transformation\n",
    "dmatrix('np.log(arsenic)', data = wells,\n",
    "       return_type = 'dataframe').head()"
   ]
  },
  {
   "cell_type": "code",
   "execution_count": 52,
   "metadata": {},
   "outputs": [
    {
     "name": "stdout",
     "output_type": "stream",
     "text": [
      "                 Generalized Linear Model Regression Results                  \n",
      "==============================================================================\n",
      "Dep. Variable:                 switch   No. Observations:                 3010\n",
      "Model:                            GLM   Df Residuals:                     3008\n",
      "Model Family:                Binomial   Df Model:                            1\n",
      "Link Function:                  logit   Scale:                          1.0000\n",
      "Method:                          IRLS   Log-Likelihood:                -1987.6\n",
      "Date:                Mon, 15 Mar 2021   Deviance:                       3975.3\n",
      "Time:                        00:49:37   Pearson chi2:                 3.01e+03\n",
      "No. Iterations:                     4   Covariance Type:             nonrobust\n",
      "===================================================================================\n",
      "                      coef    std err          z      P>|z|      [0.025      0.975]\n",
      "-----------------------------------------------------------------------------------\n",
      "Intercept           0.0966      0.041      2.331      0.020       0.015       0.178\n",
      "np.log(arsenic)     0.7089      0.064     11.046      0.000       0.583       0.835\n",
      "===================================================================================\n",
      "\n",
      "\n",
      "\n",
      "Deviance without log transformation: \n",
      "                  Generalized Linear Model Regression Results                  \n",
      "==============================================================================\n",
      "Dep. Variable:                 switch   No. Observations:                 3010\n",
      "Model:                            GLM   Df Residuals:                     3008\n",
      "Model Family:                Binomial   Df Model:                            1\n",
      "Link Function:                  logit   Scale:                          1.0000\n",
      "Method:                          IRLS   Log-Likelihood:                -1997.3\n",
      "Date:                Mon, 15 Mar 2021   Deviance:                       3994.6\n",
      "Time:                        00:49:37   Pearson chi2:                 3.03e+03\n",
      "No. Iterations:                     4   Covariance Type:             nonrobust\n",
      "==============================================================================\n",
      "                 coef    std err          z      P>|z|      [0.025      0.975]\n",
      "------------------------------------------------------------------------------\n",
      "Intercept     -0.3058      0.070     -4.340      0.000      -0.444      -0.168\n",
      "arsenic        0.3799      0.039      9.837      0.000       0.304       0.456\n",
      "==============================================================================\n"
     ]
    }
   ],
   "source": [
    "# Define model formula\n",
    "formula = 'switch ~ np.log(arsenic)'\n",
    "\n",
    "# Fit GLM\n",
    "model_log_ars = glm(formula, data = wells, \n",
    "                     family = sm.families.Binomial()).fit()\n",
    "\n",
    "# Print model summary\n",
    "print(model_log_ars.summary())\n",
    "\n",
    "\n",
    "# Define model formula without log transformation\n",
    "formula = 'switch ~ arsenic'\n",
    "\n",
    "# Fit GLM\n",
    "model_ars = glm(formula, data = wells, \n",
    "                     family = sm.families.Binomial()).fit()\n",
    "\n",
    "\n",
    "print('\\n\\n\\nDeviance without log transformation: \\n', model_ars.summary())"
   ]
  },
  {
   "cell_type": "code",
   "execution_count": 53,
   "metadata": {},
   "outputs": [
    {
     "name": "stdout",
     "output_type": "stream",
     "text": [
      "Log transformation reduces deviance by  19.32835896488541\n"
     ]
    }
   ],
   "source": [
    "print('Log transformation reduces deviance by ', -(model_log_ars.deviance - model_ars.deviance))"
   ]
  },
  {
   "cell_type": "markdown",
   "metadata": {},
   "source": [
    "#### Coding categorical variables\n",
    "\n",
    "In previous exercises you practiced creating model matrices for continuous variables and applying variable transformation. During this exercise you will practice the ways of coding a categorical variable.\n",
    "\n",
    "Categorical data provide a way to analyze and compare relationships given different groups or factors. Hence, choosing a reference group is important and often, depending on the study at hand, you might want to change the reference group, from the default one. One frequently used reason for changing the reference group is that the interpretation of coefficient estimates is more applicable and interesting given the study."
   ]
  },
  {
   "cell_type": "code",
   "execution_count": 54,
   "metadata": {},
   "outputs": [
    {
     "data": {
      "text/html": [
       "<div>\n",
       "<style scoped>\n",
       "    .dataframe tbody tr th:only-of-type {\n",
       "        vertical-align: middle;\n",
       "    }\n",
       "\n",
       "    .dataframe tbody tr th {\n",
       "        vertical-align: top;\n",
       "    }\n",
       "\n",
       "    .dataframe thead th {\n",
       "        text-align: right;\n",
       "    }\n",
       "</style>\n",
       "<table border=\"1\" class=\"dataframe\">\n",
       "  <thead>\n",
       "    <tr style=\"text-align: right;\">\n",
       "      <th></th>\n",
       "      <th>crab</th>\n",
       "      <th>sat</th>\n",
       "      <th>y</th>\n",
       "      <th>weight</th>\n",
       "      <th>width</th>\n",
       "      <th>color</th>\n",
       "      <th>spine</th>\n",
       "      <th>width_C</th>\n",
       "      <th>fit_values</th>\n",
       "    </tr>\n",
       "  </thead>\n",
       "  <tbody>\n",
       "    <tr>\n",
       "      <th>0</th>\n",
       "      <td>1</td>\n",
       "      <td>8</td>\n",
       "      <td>1</td>\n",
       "      <td>3.05</td>\n",
       "      <td>28.3</td>\n",
       "      <td>2</td>\n",
       "      <td>3</td>\n",
       "      <td>[28.25, 29.25)</td>\n",
       "      <td>3.810341</td>\n",
       "    </tr>\n",
       "    <tr>\n",
       "      <th>1</th>\n",
       "      <td>2</td>\n",
       "      <td>0</td>\n",
       "      <td>0</td>\n",
       "      <td>1.55</td>\n",
       "      <td>22.5</td>\n",
       "      <td>3</td>\n",
       "      <td>3</td>\n",
       "      <td>[0.0, 23.25)</td>\n",
       "      <td>1.471463</td>\n",
       "    </tr>\n",
       "    <tr>\n",
       "      <th>2</th>\n",
       "      <td>3</td>\n",
       "      <td>9</td>\n",
       "      <td>1</td>\n",
       "      <td>2.30</td>\n",
       "      <td>26.0</td>\n",
       "      <td>1</td>\n",
       "      <td>1</td>\n",
       "      <td>[25.25, 26.25)</td>\n",
       "      <td>2.612781</td>\n",
       "    </tr>\n",
       "    <tr>\n",
       "      <th>3</th>\n",
       "      <td>4</td>\n",
       "      <td>0</td>\n",
       "      <td>0</td>\n",
       "      <td>2.10</td>\n",
       "      <td>24.8</td>\n",
       "      <td>3</td>\n",
       "      <td>3</td>\n",
       "      <td>[24.25, 25.25)</td>\n",
       "      <td>2.145904</td>\n",
       "    </tr>\n",
       "    <tr>\n",
       "      <th>4</th>\n",
       "      <td>5</td>\n",
       "      <td>4</td>\n",
       "      <td>1</td>\n",
       "      <td>2.60</td>\n",
       "      <td>26.0</td>\n",
       "      <td>3</td>\n",
       "      <td>3</td>\n",
       "      <td>[25.25, 26.25)</td>\n",
       "      <td>2.612781</td>\n",
       "    </tr>\n",
       "  </tbody>\n",
       "</table>\n",
       "</div>"
      ],
      "text/plain": [
       "   crab  sat  y  weight  width  color  spine         width_C  fit_values\n",
       "0     1    8  1    3.05   28.3      2      3  [28.25, 29.25)    3.810341\n",
       "1     2    0  0    1.55   22.5      3      3    [0.0, 23.25)    1.471463\n",
       "2     3    9  1    2.30   26.0      1      1  [25.25, 26.25)    2.612781\n",
       "3     4    0  0    2.10   24.8      3      3  [24.25, 25.25)    2.145904\n",
       "4     5    4  1    2.60   26.0      3      3  [25.25, 26.25)    2.612781"
      ]
     },
     "execution_count": 54,
     "metadata": {},
     "output_type": "execute_result"
    }
   ],
   "source": [
    "crab.head()"
   ]
  },
  {
   "cell_type": "code",
   "execution_count": 55,
   "metadata": {},
   "outputs": [
    {
     "name": "stdout",
     "output_type": "stream",
     "text": [
      "   Intercept  C(color)[T.2]  C(color)[T.3]  C(color)[T.4]\n",
      "0        1.0            1.0            0.0            0.0\n",
      "1        1.0            0.0            1.0            0.0\n",
      "2        1.0            0.0            0.0            0.0\n",
      "3        1.0            0.0            1.0            0.0\n",
      "4        1.0            0.0            1.0            0.0\n"
     ]
    }
   ],
   "source": [
    "# Construct and print model matrix for color as categorical variable\n",
    "print(dmatrix('C(color)', data = crab,\n",
    "      return_type = 'dataframe').head())"
   ]
  },
  {
   "cell_type": "code",
   "execution_count": 56,
   "metadata": {},
   "outputs": [
    {
     "name": "stdout",
     "output_type": "stream",
     "text": [
      "   Intercept  C(color, Treatment(3))[T.1]  C(color, Treatment(3))[T.2]  \\\n",
      "0        1.0                          0.0                          1.0   \n",
      "1        1.0                          0.0                          0.0   \n",
      "2        1.0                          1.0                          0.0   \n",
      "3        1.0                          0.0                          0.0   \n",
      "4        1.0                          0.0                          0.0   \n",
      "\n",
      "   C(color, Treatment(3))[T.4]  \n",
      "0                          0.0  \n",
      "1                          0.0  \n",
      "2                          0.0  \n",
      "3                          0.0  \n",
      "4                          0.0  \n"
     ]
    }
   ],
   "source": [
    "# Change the reference group to be the medium dark, i.e. group number 3 using the Treatment argument\n",
    "\n",
    "# Construct and print the model matrix for color with reference group 3\n",
    "print(dmatrix('C(color, Treatment(3) )', \n",
    "      data = crab,\n",
    "      return_type = 'dataframe').head())"
   ]
  },
  {
   "cell_type": "markdown",
   "metadata": {},
   "source": [
    "#### Modeling with categorical variable\n",
    "\n",
    "In previous exercises you have fitted a logistic regression model with color as explanatory variable along with width where you treated the color as quantitative variable. In this exercise you will treat color as a categorical variable which when you construct the model matrix will encode the color into 3 variables with 0/1 encoding.\n",
    "\n",
    "Recall that the default encoding in dmatrix() uses the first group as a reference group. To view model matrix as a dataframe an additional argument in dmatrix(), namely, return_type will be set to 'dataframe'.\n",
    "\n",
    "The color variable has a natural ordering as follows:\n",
    "\n",
    "1: medium light\n",
    "\n",
    "2: medium\n",
    "\n",
    "3: medium dark\n",
    "\n",
    "4: dark"
   ]
  },
  {
   "cell_type": "code",
   "execution_count": 57,
   "metadata": {},
   "outputs": [
    {
     "name": "stdout",
     "output_type": "stream",
     "text": [
      "   Intercept  C(color, Treatment(4))[T.1]  C(color, Treatment(4))[T.2]  \\\n",
      "0        1.0                          0.0                          1.0   \n",
      "1        1.0                          0.0                          0.0   \n",
      "2        1.0                          1.0                          0.0   \n",
      "3        1.0                          0.0                          0.0   \n",
      "4        1.0                          0.0                          0.0   \n",
      "\n",
      "   C(color, Treatment(4))[T.3]  \n",
      "0                          0.0  \n",
      "1                          1.0  \n",
      "2                          0.0  \n",
      "3                          1.0  \n",
      "4                          1.0  \n",
      "                 Generalized Linear Model Regression Results                  \n",
      "==============================================================================\n",
      "Dep. Variable:                      y   No. Observations:                  173\n",
      "Model:                            GLM   Df Residuals:                      169\n",
      "Model Family:                Binomial   Df Model:                            3\n",
      "Link Function:                  logit   Scale:                          1.0000\n",
      "Method:                          IRLS   Log-Likelihood:                -106.03\n",
      "Date:                Mon, 15 Mar 2021   Deviance:                       212.06\n",
      "Time:                        00:49:37   Pearson chi2:                     173.\n",
      "No. Iterations:                     4   Covariance Type:             nonrobust\n",
      "===============================================================================================\n",
      "                                  coef    std err          z      P>|z|      [0.025      0.975]\n",
      "-----------------------------------------------------------------------------------------------\n",
      "Intercept                      -0.7621      0.458     -1.665      0.096      -1.659       0.135\n",
      "C(color, Treatment(4))[T.1]     1.8608      0.809      2.301      0.021       0.276       3.446\n",
      "C(color, Treatment(4))[T.2]     1.7382      0.512      3.393      0.001       0.734       2.742\n",
      "C(color, Treatment(4))[T.3]     1.1299      0.551      2.051      0.040       0.050       2.210\n",
      "===============================================================================================\n"
     ]
    }
   ],
   "source": [
    "# Construct model matrix\n",
    "model_matrix = dmatrix('C(color, Treatment(4))' , data = crab, \n",
    "                       return_type = 'dataframe')\n",
    "\n",
    "# Print first 5 rows of model matrix dataframe\n",
    "print(model_matrix.head())\n",
    "\n",
    "# Fit and print the results of a glm model with the above model matrix configuration\n",
    "model = glm('y ~ C(color, Treatment(4))', data = crab, \n",
    "            family = sm.families.Binomial()).fit()\n",
    "\n",
    "print(model.summary())"
   ]
  },
  {
   "cell_type": "markdown",
   "metadata": {},
   "source": [
    "To the previous model matrix and logistic regression model add **width** as additional explanatory variable. View model matrix before fitting the model and then view model results."
   ]
  },
  {
   "cell_type": "code",
   "execution_count": 58,
   "metadata": {},
   "outputs": [
    {
     "name": "stdout",
     "output_type": "stream",
     "text": [
      "   Intercept  C(color, Treatment(4))[T.1]  C(color, Treatment(4))[T.2]  \\\n",
      "0        1.0                          0.0                          1.0   \n",
      "1        1.0                          0.0                          0.0   \n",
      "2        1.0                          1.0                          0.0   \n",
      "3        1.0                          0.0                          0.0   \n",
      "4        1.0                          0.0                          0.0   \n",
      "\n",
      "   C(color, Treatment(4))[T.3]  width  \n",
      "0                          0.0   28.3  \n",
      "1                          1.0   22.5  \n",
      "2                          0.0   26.0  \n",
      "3                          1.0   24.8  \n",
      "4                          1.0   26.0  \n",
      "                 Generalized Linear Model Regression Results                  \n",
      "==============================================================================\n",
      "Dep. Variable:                      y   No. Observations:                  173\n",
      "Model:                            GLM   Df Residuals:                      168\n",
      "Model Family:                Binomial   Df Model:                            4\n",
      "Link Function:                  logit   Scale:                          1.0000\n",
      "Method:                          IRLS   Log-Likelihood:                -93.729\n",
      "Date:                Mon, 15 Mar 2021   Deviance:                       187.46\n",
      "Time:                        00:49:37   Pearson chi2:                     169.\n",
      "No. Iterations:                     5   Covariance Type:             nonrobust\n",
      "===============================================================================================\n",
      "                                  coef    std err          z      P>|z|      [0.025      0.975]\n",
      "-----------------------------------------------------------------------------------------------\n",
      "Intercept                     -12.7151      2.762     -4.604      0.000     -18.128      -7.302\n",
      "C(color, Treatment(4))[T.1]     1.3299      0.853      1.560      0.119      -0.341       3.001\n",
      "C(color, Treatment(4))[T.2]     1.4023      0.548      2.557      0.011       0.327       2.477\n",
      "C(color, Treatment(4))[T.3]     1.1061      0.592      1.868      0.062      -0.054       2.267\n",
      "width                           0.4680      0.106      4.434      0.000       0.261       0.675\n",
      "===============================================================================================\n"
     ]
    }
   ],
   "source": [
    "# Construct model matrix\n",
    "model_matrix = dmatrix('C(color, Treatment(4)) + width' , data = crab, \n",
    "                       return_type = 'dataframe')\n",
    "\n",
    "# Print first 5 rows of model matrix\n",
    "print(model_matrix.head())\n",
    "\n",
    "# Fit and print the results of a glm model with the above model matrix configuration\n",
    "model = glm('y ~ C(color, Treatment(4)) + width', data = crab, \n",
    "            family = sm.families.Binomial()).fit()\n",
    "\n",
    "print(model.summary())"
   ]
  },
  {
   "cell_type": "markdown",
   "metadata": {},
   "source": [
    "#### Interaction terms\n",
    "\n",
    "In the video you learned how to include interactions in the model structure when there is one continuous and one categorical variable. In this exercise you will analyze the effects of interaction between two continuous variables.\n",
    "\n",
    "You will use centered variables instead of original values to be able to interpret the coefficient effects more easily, i.e. from the level of the mean values rather than 0 which may not be logical for the study at hand. In other words we don't want to interpret the model by assuming 0 for arsenic or distance100 variables."
   ]
  },
  {
   "cell_type": "code",
   "execution_count": 59,
   "metadata": {},
   "outputs": [
    {
     "data": {
      "text/html": [
       "<div>\n",
       "<style scoped>\n",
       "    .dataframe tbody tr th:only-of-type {\n",
       "        vertical-align: middle;\n",
       "    }\n",
       "\n",
       "    .dataframe tbody tr th {\n",
       "        vertical-align: top;\n",
       "    }\n",
       "\n",
       "    .dataframe thead th {\n",
       "        text-align: right;\n",
       "    }\n",
       "</style>\n",
       "<table border=\"1\" class=\"dataframe\">\n",
       "  <thead>\n",
       "    <tr style=\"text-align: right;\">\n",
       "      <th></th>\n",
       "      <th>Intercept</th>\n",
       "      <th>distance100</th>\n",
       "      <th>arsenic</th>\n",
       "      <th>distance100:arsenic</th>\n",
       "    </tr>\n",
       "  </thead>\n",
       "  <tbody>\n",
       "    <tr>\n",
       "      <th>0</th>\n",
       "      <td>1.0</td>\n",
       "      <td>0.16826</td>\n",
       "      <td>2.36</td>\n",
       "      <td>0.397094</td>\n",
       "    </tr>\n",
       "    <tr>\n",
       "      <th>1</th>\n",
       "      <td>1.0</td>\n",
       "      <td>0.47322</td>\n",
       "      <td>0.71</td>\n",
       "      <td>0.335986</td>\n",
       "    </tr>\n",
       "    <tr>\n",
       "      <th>2</th>\n",
       "      <td>1.0</td>\n",
       "      <td>0.20967</td>\n",
       "      <td>2.07</td>\n",
       "      <td>0.434017</td>\n",
       "    </tr>\n",
       "    <tr>\n",
       "      <th>3</th>\n",
       "      <td>1.0</td>\n",
       "      <td>0.21486</td>\n",
       "      <td>1.15</td>\n",
       "      <td>0.247089</td>\n",
       "    </tr>\n",
       "    <tr>\n",
       "      <th>4</th>\n",
       "      <td>1.0</td>\n",
       "      <td>0.40874</td>\n",
       "      <td>1.10</td>\n",
       "      <td>0.449614</td>\n",
       "    </tr>\n",
       "  </tbody>\n",
       "</table>\n",
       "</div>"
      ],
      "text/plain": [
       "   Intercept  distance100  arsenic  distance100:arsenic\n",
       "0        1.0      0.16826     2.36             0.397094\n",
       "1        1.0      0.47322     0.71             0.335986\n",
       "2        1.0      0.20967     2.07             0.434017\n",
       "3        1.0      0.21486     1.15             0.247089\n",
       "4        1.0      0.40874     1.10             0.449614"
      ]
     },
     "execution_count": 59,
     "metadata": {},
     "output_type": "execute_result"
    }
   ],
   "source": [
    "# Without centering\n",
    "dmatrix('distance100 + arsenic + distance100:arsenic', data = wells,\n",
    "       return_type = 'dataframe').head()"
   ]
  },
  {
   "cell_type": "code",
   "execution_count": 60,
   "metadata": {},
   "outputs": [
    {
     "data": {
      "text/html": [
       "<div>\n",
       "<style scoped>\n",
       "    .dataframe tbody tr th:only-of-type {\n",
       "        vertical-align: middle;\n",
       "    }\n",
       "\n",
       "    .dataframe tbody tr th {\n",
       "        vertical-align: top;\n",
       "    }\n",
       "\n",
       "    .dataframe thead th {\n",
       "        text-align: right;\n",
       "    }\n",
       "</style>\n",
       "<table border=\"1\" class=\"dataframe\">\n",
       "  <thead>\n",
       "    <tr style=\"text-align: right;\">\n",
       "      <th></th>\n",
       "      <th>Intercept</th>\n",
       "      <th>center(distance100)</th>\n",
       "      <th>center(arsenic)</th>\n",
       "      <th>center(distance100):center(arsenic)</th>\n",
       "    </tr>\n",
       "  </thead>\n",
       "  <tbody>\n",
       "    <tr>\n",
       "      <th>0</th>\n",
       "      <td>1.0</td>\n",
       "      <td>-0.315532</td>\n",
       "      <td>0.702585</td>\n",
       "      <td>-0.221688</td>\n",
       "    </tr>\n",
       "    <tr>\n",
       "      <th>1</th>\n",
       "      <td>1.0</td>\n",
       "      <td>-0.010572</td>\n",
       "      <td>-0.947415</td>\n",
       "      <td>0.010016</td>\n",
       "    </tr>\n",
       "    <tr>\n",
       "      <th>2</th>\n",
       "      <td>1.0</td>\n",
       "      <td>-0.274122</td>\n",
       "      <td>0.412585</td>\n",
       "      <td>-0.113099</td>\n",
       "    </tr>\n",
       "    <tr>\n",
       "      <th>3</th>\n",
       "      <td>1.0</td>\n",
       "      <td>-0.268932</td>\n",
       "      <td>-0.507415</td>\n",
       "      <td>0.136460</td>\n",
       "    </tr>\n",
       "    <tr>\n",
       "      <th>4</th>\n",
       "      <td>1.0</td>\n",
       "      <td>-0.075052</td>\n",
       "      <td>-0.557415</td>\n",
       "      <td>0.041835</td>\n",
       "    </tr>\n",
       "  </tbody>\n",
       "</table>\n",
       "</div>"
      ],
      "text/plain": [
       "   Intercept  center(distance100)  center(arsenic)  \\\n",
       "0        1.0            -0.315532         0.702585   \n",
       "1        1.0            -0.010572        -0.947415   \n",
       "2        1.0            -0.274122         0.412585   \n",
       "3        1.0            -0.268932        -0.507415   \n",
       "4        1.0            -0.075052        -0.557415   \n",
       "\n",
       "   center(distance100):center(arsenic)  \n",
       "0                            -0.221688  \n",
       "1                             0.010016  \n",
       "2                            -0.113099  \n",
       "3                             0.136460  \n",
       "4                             0.041835  "
      ]
     },
     "execution_count": 60,
     "metadata": {},
     "output_type": "execute_result"
    }
   ],
   "source": [
    "dmatrix('center(distance100) + center(arsenic) + center(distance100):center(arsenic)', \n",
    "        data = wells, return_type = 'dataframe').head() # from the levels of the mean values rather than 0"
   ]
  },
  {
   "cell_type": "code",
   "execution_count": 61,
   "metadata": {},
   "outputs": [
    {
     "name": "stdout",
     "output_type": "stream",
     "text": [
      "                 Generalized Linear Model Regression Results                  \n",
      "==============================================================================\n",
      "Dep. Variable:                 switch   No. Observations:                 3010\n",
      "Model:                            GLM   Df Residuals:                     3006\n",
      "Model Family:                Binomial   Df Model:                            3\n",
      "Link Function:                  logit   Scale:                          1.0000\n",
      "Method:                          IRLS   Log-Likelihood:                -1956.2\n",
      "Date:                Mon, 15 Mar 2021   Deviance:                       3912.4\n",
      "Time:                        00:49:38   Pearson chi2:                 3.08e+03\n",
      "No. Iterations:                     4   Covariance Type:             nonrobust\n",
      "=======================================================================================================\n",
      "                                          coef    std err          z      P>|z|      [0.025      0.975]\n",
      "-------------------------------------------------------------------------------------------------------\n",
      "Intercept                               0.3521      0.040      8.813      0.000       0.274       0.430\n",
      "center(distance100)                    -0.8834      0.105     -8.410      0.000      -1.089      -0.678\n",
      "center(arsenic)                         0.4713      0.042     11.168      0.000       0.389       0.554\n",
      "center(distance100):center(arsenic)    -0.1744      0.103     -1.700      0.089      -0.376       0.027\n",
      "=======================================================================================================\n"
     ]
    }
   ],
   "source": [
    "# Fit GLM and print model summary\n",
    "model_int = glm('switch ~ center(distance100) + center(arsenic) + center(distance100):center(arsenic)', \n",
    "                data = wells, family = sm.families.Binomial()).fit()\n",
    "\n",
    "# View model results\n",
    "print(model_int.summary())"
   ]
  },
  {
   "cell_type": "markdown",
   "metadata": {},
   "source": [
    "- The interaction term increases the importance of distance100 as explanatory variable given one unit increase in arsenic levels.\n",
    "\n",
    "- The interaction term decreases the importance of arsenic as explanatory variable given one unit increase in distance100 values.\n",
    "\n",
    "- At average value of distance100 and arsenic the probability of switching from the current well is equal to 0.59."
   ]
  },
  {
   "cell_type": "code",
   "execution_count": 62,
   "metadata": {},
   "outputs": [
    {
     "name": "stdout",
     "output_type": "stream",
     "text": [
      "                 Generalized Linear Model Regression Results                  \n",
      "==============================================================================\n",
      "Dep. Variable:                 switch   No. Observations:                 3010\n",
      "Model:                            GLM   Df Residuals:                     3006\n",
      "Model Family:                Binomial   Df Model:                            3\n",
      "Link Function:                  logit   Scale:                          1.0000\n",
      "Method:                          IRLS   Log-Likelihood:                -1956.2\n",
      "Date:                Mon, 15 Mar 2021   Deviance:                       3912.4\n",
      "Time:                        00:49:38   Pearson chi2:                 3.08e+03\n",
      "No. Iterations:                     4   Covariance Type:             nonrobust\n",
      "=======================================================================================\n",
      "                          coef    std err          z      P>|z|      [0.025      0.975]\n",
      "---------------------------------------------------------------------------------------\n",
      "Intercept              -0.1416      0.118     -1.201      0.230      -0.373       0.090\n",
      "distance100            -0.5943      0.210     -2.833      0.005      -1.005      -0.183\n",
      "arsenic                 0.5557      0.070      7.987      0.000       0.419       0.692\n",
      "distance100:arsenic    -0.1744      0.103     -1.700      0.089      -0.376       0.027\n",
      "=======================================================================================\n"
     ]
    }
   ],
   "source": [
    "print(glm('switch ~ distance100 + arsenic + distance100:arsenic', \n",
    "                data = wells, family = sm.families.Binomial()).fit().summary())"
   ]
  }
 ],
 "metadata": {
  "kernelspec": {
   "display_name": "Python 3",
   "language": "python",
   "name": "python3"
  },
  "language_info": {
   "codemirror_mode": {
    "name": "ipython",
    "version": 3
   },
   "file_extension": ".py",
   "mimetype": "text/x-python",
   "name": "python",
   "nbconvert_exporter": "python",
   "pygments_lexer": "ipython3",
   "version": "3.6.8"
  }
 },
 "nbformat": 4,
 "nbformat_minor": 2
}
