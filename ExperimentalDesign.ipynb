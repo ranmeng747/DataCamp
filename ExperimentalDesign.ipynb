{
 "cells": [
  {
   "cell_type": "markdown",
   "metadata": {},
   "source": [
    "### Author: Ran Meng\n",
    "\n",
    "This jupyter notebook contains my work for certification of \"Experimental Design in Python\" instructed by Luke Hayden, from [DataCamp](https://www.datacamp.com/courses/experimental-design-in-python)"
   ]
  },
  {
   "cell_type": "code",
   "execution_count": 1,
   "metadata": {},
   "outputs": [],
   "source": [
    "from scipy import stats\n",
    "import pandas as pd\n",
    "import numpy as np\n",
    "import plotnine as p9\n",
    "import statsmodels as sm\n",
    "import statsmodels.stats.power as pwr\n",
    "\n",
    "import warnings\n",
    "warnings.filterwarnings('ignore')"
   ]
  },
  {
   "cell_type": "markdown",
   "metadata": {},
   "source": [
    "**One- Sample T test**:\n",
    "\n",
    "We want to compare the mean heights in cm of the Sample_A group with a given value. We want to see whether the mean weight of the people in this sample is significantly different from the chosen cut-off point of 65 kg"
   ]
  },
  {
   "cell_type": "code",
   "execution_count": 2,
   "metadata": {},
   "outputs": [
    {
     "name": "stdout",
     "output_type": "stream",
     "text": [
      "Ttest_1sampResult(statistic=-0.14187430361917347, pvalue=0.8940381290746852)\n",
      "\n",
      "No significant difference found\n"
     ]
    }
   ],
   "source": [
    "Sample_A = [54.2, 66.4, 66.9, 64.4, 71.1]\n",
    "\n",
    "t_result=stats.ttest_1samp(Sample_A, 65)\n",
    "print(t_result)\n",
    "\n",
    "# Test significance\n",
    "alpha= 0.05\n",
    "if (t_result[1] < alpha):\n",
    "    print(\"mean value of Sample A differs from given value\")\n",
    "else:\n",
    "    print(\"\\nNo significant difference found\")"
   ]
  },
  {
   "cell_type": "markdown",
   "metadata": {},
   "source": [
    "**One-sample t-test**\n",
    "\n",
    "In this exercise, you will perform a one-sample t-test using the ttest_1sample() function. Using eudata, a dataset of country-level statistics, you'll be looking at the sex ratios found in the population of European countries. You'll use a one sample t-test to determine if the mean sex ratio found among European countries differs significantly from 50-50. First, you'll make some plots, then you'll perform your test. pandas, scipy.stats, and plotnine have been loaded into the workspace as pd, stats, and p9."
   ]
  },
  {
   "cell_type": "code",
   "execution_count": 3,
   "metadata": {},
   "outputs": [
    {
     "name": "stdout",
     "output_type": "stream",
     "text": [
      "(229, 50)\n"
     ]
    },
    {
     "data": {
      "text/html": [
       "<div>\n",
       "<style scoped>\n",
       "    .dataframe tbody tr th:only-of-type {\n",
       "        vertical-align: middle;\n",
       "    }\n",
       "\n",
       "    .dataframe tbody tr th {\n",
       "        vertical-align: top;\n",
       "    }\n",
       "\n",
       "    .dataframe thead th {\n",
       "        text-align: right;\n",
       "    }\n",
       "</style>\n",
       "<table border=\"1\" class=\"dataframe\">\n",
       "  <thead>\n",
       "    <tr style=\"text-align: right;\">\n",
       "      <th></th>\n",
       "      <th>country</th>\n",
       "      <th>Region</th>\n",
       "      <th>Surface area (km2)</th>\n",
       "      <th>Population in thousands (2017)</th>\n",
       "      <th>Population density (per km2, 2017)</th>\n",
       "      <th>Sex ratio (m per 100 f, 2017)</th>\n",
       "      <th>GDP: Gross domestic product (million current US$)</th>\n",
       "      <th>GDP growth rate (annual %, const. 2005 prices)</th>\n",
       "      <th>GDP per capita (current US$)</th>\n",
       "      <th>Economy: Agriculture (% of GVA)</th>\n",
       "      <th>...</th>\n",
       "      <th>Mobile-cellular subscriptions (per 100 inhabitants).1</th>\n",
       "      <th>Individuals using the Internet (per 100 inhabitants)</th>\n",
       "      <th>Threatened species (number)</th>\n",
       "      <th>Forested area (% of land area)</th>\n",
       "      <th>CO2 emission estimates (million tons/tons per capita)</th>\n",
       "      <th>Energy production, primary (Petajoules)</th>\n",
       "      <th>Energy supply per capita (Gigajoules)</th>\n",
       "      <th>Pop. using improved drinking water (urban/rural, %)</th>\n",
       "      <th>Pop. using improved sanitation facilities (urban/rural, %)</th>\n",
       "      <th>Net Official Development Assist. received (% of GNI)</th>\n",
       "    </tr>\n",
       "  </thead>\n",
       "  <tbody>\n",
       "    <tr>\n",
       "      <th>0</th>\n",
       "      <td>Afghanistan</td>\n",
       "      <td>SouthernAsia</td>\n",
       "      <td>652864</td>\n",
       "      <td>35530</td>\n",
       "      <td>54.4</td>\n",
       "      <td>106.3</td>\n",
       "      <td>20270.0</td>\n",
       "      <td>-2.4</td>\n",
       "      <td>623.2</td>\n",
       "      <td>23.3</td>\n",
       "      <td>...</td>\n",
       "      <td>8.3</td>\n",
       "      <td>42.0</td>\n",
       "      <td>2.1</td>\n",
       "      <td>9.8/0.3</td>\n",
       "      <td>63.0</td>\n",
       "      <td>5.0</td>\n",
       "      <td>78.2/47.0</td>\n",
       "      <td>45.1/27.0</td>\n",
       "      <td>21.43</td>\n",
       "      <td>NaN</td>\n",
       "    </tr>\n",
       "    <tr>\n",
       "      <th>1</th>\n",
       "      <td>Albania</td>\n",
       "      <td>SouthernEurope</td>\n",
       "      <td>28748</td>\n",
       "      <td>2930</td>\n",
       "      <td>106.9</td>\n",
       "      <td>101.9</td>\n",
       "      <td>11541.0</td>\n",
       "      <td>2.6</td>\n",
       "      <td>3984.2</td>\n",
       "      <td>22.4</td>\n",
       "      <td>...</td>\n",
       "      <td>63.3</td>\n",
       "      <td>130.0</td>\n",
       "      <td>28.2</td>\n",
       "      <td>5.7/2.0</td>\n",
       "      <td>84.0</td>\n",
       "      <td>36.0</td>\n",
       "      <td>94.9/95.2</td>\n",
       "      <td>95.5/90.2</td>\n",
       "      <td>2.96</td>\n",
       "      <td>NaN</td>\n",
       "    </tr>\n",
       "    <tr>\n",
       "      <th>2</th>\n",
       "      <td>Algeria</td>\n",
       "      <td>NorthernAfrica</td>\n",
       "      <td>2381741</td>\n",
       "      <td>41318</td>\n",
       "      <td>17.3</td>\n",
       "      <td>102.0</td>\n",
       "      <td>164779.0</td>\n",
       "      <td>3.8</td>\n",
       "      <td>4154.1</td>\n",
       "      <td>12.2</td>\n",
       "      <td>...</td>\n",
       "      <td>38.2</td>\n",
       "      <td>135.0</td>\n",
       "      <td>0.8</td>\n",
       "      <td>145.4/3.7</td>\n",
       "      <td>5900.0</td>\n",
       "      <td>55.0</td>\n",
       "      <td>84.3/81.8</td>\n",
       "      <td>89.8/82.2</td>\n",
       "      <td>0.05</td>\n",
       "      <td>NaN</td>\n",
       "    </tr>\n",
       "    <tr>\n",
       "      <th>3</th>\n",
       "      <td>American Samoa</td>\n",
       "      <td>Polynesia</td>\n",
       "      <td>199</td>\n",
       "      <td>56</td>\n",
       "      <td>278.2</td>\n",
       "      <td>103.6</td>\n",
       "      <td>NaN</td>\n",
       "      <td>NaN</td>\n",
       "      <td>NaN</td>\n",
       "      <td>NaN</td>\n",
       "      <td>...</td>\n",
       "      <td>NaN</td>\n",
       "      <td>92.0</td>\n",
       "      <td>87.9</td>\n",
       "      <td>NaN</td>\n",
       "      <td>NaN</td>\n",
       "      <td>NaN</td>\n",
       "      <td>100.0/100.0</td>\n",
       "      <td>62.5/62.5</td>\n",
       "      <td>NaN</td>\n",
       "      <td>NaN</td>\n",
       "    </tr>\n",
       "    <tr>\n",
       "      <th>4</th>\n",
       "      <td>Andorra</td>\n",
       "      <td>SouthernEurope</td>\n",
       "      <td>468</td>\n",
       "      <td>77</td>\n",
       "      <td>163.8</td>\n",
       "      <td>102.3</td>\n",
       "      <td>2812.0</td>\n",
       "      <td>0.8</td>\n",
       "      <td>39896.4</td>\n",
       "      <td>0.5</td>\n",
       "      <td>...</td>\n",
       "      <td>96.9</td>\n",
       "      <td>13.0</td>\n",
       "      <td>34</td>\n",
       "      <td>0.5/6.4</td>\n",
       "      <td>1.0</td>\n",
       "      <td>119.0</td>\n",
       "      <td>100.0/100.0</td>\n",
       "      <td>100.0/100.0</td>\n",
       "      <td>NaN</td>\n",
       "      <td>NaN</td>\n",
       "    </tr>\n",
       "  </tbody>\n",
       "</table>\n",
       "<p>5 rows × 50 columns</p>\n",
       "</div>"
      ],
      "text/plain": [
       "          country          Region Surface area (km2)  \\\n",
       "0     Afghanistan    SouthernAsia             652864   \n",
       "1         Albania  SouthernEurope              28748   \n",
       "2         Algeria  NorthernAfrica            2381741   \n",
       "3  American Samoa       Polynesia                199   \n",
       "4         Andorra  SouthernEurope                468   \n",
       "\n",
       "   Population in thousands (2017)  Population density (per km2, 2017)  \\\n",
       "0                           35530                                54.4   \n",
       "1                            2930                               106.9   \n",
       "2                           41318                                17.3   \n",
       "3                              56                               278.2   \n",
       "4                              77                               163.8   \n",
       "\n",
       "   Sex ratio (m per 100 f, 2017)  \\\n",
       "0                          106.3   \n",
       "1                          101.9   \n",
       "2                          102.0   \n",
       "3                          103.6   \n",
       "4                          102.3   \n",
       "\n",
       "   GDP: Gross domestic product (million current US$)  \\\n",
       "0                                            20270.0   \n",
       "1                                            11541.0   \n",
       "2                                           164779.0   \n",
       "3                                                NaN   \n",
       "4                                             2812.0   \n",
       "\n",
       "  GDP growth rate (annual %, const. 2005 prices)  \\\n",
       "0                                           -2.4   \n",
       "1                                            2.6   \n",
       "2                                            3.8   \n",
       "3                                            NaN   \n",
       "4                                            0.8   \n",
       "\n",
       "   GDP per capita (current US$) Economy: Agriculture (% of GVA)  ...  \\\n",
       "0                         623.2                            23.3  ...   \n",
       "1                        3984.2                            22.4  ...   \n",
       "2                        4154.1                            12.2  ...   \n",
       "3                           NaN                             NaN  ...   \n",
       "4                       39896.4                             0.5  ...   \n",
       "\n",
       "   Mobile-cellular subscriptions (per 100 inhabitants).1  \\\n",
       "0                                                8.3       \n",
       "1                                               63.3       \n",
       "2                                               38.2       \n",
       "3                                                NaN       \n",
       "4                                               96.9       \n",
       "\n",
       "   Individuals using the Internet (per 100 inhabitants)  \\\n",
       "0                                               42.0      \n",
       "1                                              130.0      \n",
       "2                                              135.0      \n",
       "3                                               92.0      \n",
       "4                                               13.0      \n",
       "\n",
       "  Threatened species (number) Forested area (% of land area)  \\\n",
       "0                         2.1                        9.8/0.3   \n",
       "1                        28.2                        5.7/2.0   \n",
       "2                         0.8                      145.4/3.7   \n",
       "3                        87.9                            NaN   \n",
       "4                          34                        0.5/6.4   \n",
       "\n",
       "  CO2 emission estimates (million tons/tons per capita)  \\\n",
       "0                                               63.0      \n",
       "1                                               84.0      \n",
       "2                                             5900.0      \n",
       "3                                                NaN      \n",
       "4                                                1.0      \n",
       "\n",
       "  Energy production, primary (Petajoules)  \\\n",
       "0                                     5.0   \n",
       "1                                    36.0   \n",
       "2                                    55.0   \n",
       "3                                     NaN   \n",
       "4                                   119.0   \n",
       "\n",
       "  Energy supply per capita (Gigajoules)  \\\n",
       "0                             78.2/47.0   \n",
       "1                             94.9/95.2   \n",
       "2                             84.3/81.8   \n",
       "3                           100.0/100.0   \n",
       "4                           100.0/100.0   \n",
       "\n",
       "   Pop. using improved drinking water (urban/rural, %)  \\\n",
       "0                                          45.1/27.0     \n",
       "1                                          95.5/90.2     \n",
       "2                                          89.8/82.2     \n",
       "3                                          62.5/62.5     \n",
       "4                                        100.0/100.0     \n",
       "\n",
       "   Pop. using improved sanitation facilities (urban/rural, %)  \\\n",
       "0                                              21.43            \n",
       "1                                               2.96            \n",
       "2                                               0.05            \n",
       "3                                                NaN            \n",
       "4                                                NaN            \n",
       "\n",
       "  Net Official Development Assist. received (% of GNI)  \n",
       "0                                                NaN    \n",
       "1                                                NaN    \n",
       "2                                                NaN    \n",
       "3                                                NaN    \n",
       "4                                                NaN    \n",
       "\n",
       "[5 rows x 50 columns]"
      ]
     },
     "execution_count": 3,
     "metadata": {},
     "output_type": "execute_result"
    }
   ],
   "source": [
    "#import global UN dataset\n",
    "UN = pd.read_csv('UN.csv')\n",
    "\n",
    "print(UN.shape)\n",
    "\n",
    "UN.head()"
   ]
  },
  {
   "cell_type": "code",
   "execution_count": 4,
   "metadata": {},
   "outputs": [
    {
     "name": "stdout",
     "output_type": "stream",
     "text": [
      "Number of Asian countries 50\n",
      "Number of European countries 48\n"
     ]
    }
   ],
   "source": [
    "UN.rename(columns={\"Sex ratio (m per 100 f, 2017)\": \"Sex ratio\"}, inplace = True)\n",
    "\n",
    "# Extract countries that are either in Europe or Asia\n",
    "\n",
    "asia = UN[UN['Region'].str.contains(\"Asia\")]\n",
    "print ('Number of Asian countries', asia.shape[0])\n",
    "\n",
    "europe = UN[UN['Region'].str.contains(\"Europe\")]\n",
    "print ('Number of European countries', europe.shape[0])\n"
   ]
  },
  {
   "cell_type": "code",
   "execution_count": 5,
   "metadata": {},
   "outputs": [
    {
     "data": {
      "image/png": "[encoded data removed]",
      "text/plain": [
       "<Figure size 640x480 with 1 Axes>"
      ]
     },
     "metadata": {},
     "output_type": "display_data"
    },
    {
     "name": "stdout",
     "output_type": "stream",
     "text": [
      "<ggplot: (81679954380)>\n"
     ]
    }
   ],
   "source": [
    "# Create the density plot\n",
    "print(p9.ggplot(europe)+ p9.aes(x='Sex ratio')+ p9.geom_density(alpha=0.5))"
   ]
  },
  {
   "cell_type": "code",
   "execution_count": 6,
   "metadata": {},
   "outputs": [
    {
     "name": "stdout",
     "output_type": "stream",
     "text": [
      "Ttest_1sampResult(statistic=-0.5356948819785791, pvalue=0.5946955313654608)\n",
      "\n",
      "No significant bias found\n"
     ]
    }
   ],
   "source": [
    "# Perform the one-sample t-test\n",
    "t_result= stats.ttest_1samp(europe['Sex ratio'], 100)\n",
    "print(t_result)\n",
    "\n",
    "# Test significance\n",
    "alpha = 0.05\n",
    "if t_result[1] < alpha:\n",
    "    print(\"Sex ratios are significantly biased\")\n",
    "else:\n",
    "    print(\"\\nNo significant bias found\")"
   ]
  },
  {
   "cell_type": "markdown",
   "metadata": {},
   "source": [
    "**Two-sample t-test**\n",
    "\n",
    "Now we'll compare two sets of samples. Again, we'll be looking at the Sex_ratio (number of males per 100 females) found in different countries, but this time we're going to compare the Sex_ratio of European countries with Asian countries. Does the mean sex ratio differ between the two continents? "
   ]
  },
  {
   "cell_type": "code",
   "execution_count": 7,
   "metadata": {},
   "outputs": [
    {
     "data": {
      "text/html": [
       "<div>\n",
       "<style scoped>\n",
       "    .dataframe tbody tr th:only-of-type {\n",
       "        vertical-align: middle;\n",
       "    }\n",
       "\n",
       "    .dataframe tbody tr th {\n",
       "        vertical-align: top;\n",
       "    }\n",
       "\n",
       "    .dataframe thead th {\n",
       "        text-align: right;\n",
       "    }\n",
       "</style>\n",
       "<table border=\"1\" class=\"dataframe\">\n",
       "  <thead>\n",
       "    <tr style=\"text-align: right;\">\n",
       "      <th></th>\n",
       "      <th>country</th>\n",
       "      <th>Region</th>\n",
       "      <th>Surface area (km2)</th>\n",
       "      <th>Population in thousands (2017)</th>\n",
       "      <th>Population density (per km2, 2017)</th>\n",
       "      <th>Sex ratio</th>\n",
       "      <th>GDP: Gross domestic product (million current US$)</th>\n",
       "      <th>GDP growth rate (annual %, const. 2005 prices)</th>\n",
       "      <th>GDP per capita (current US$)</th>\n",
       "      <th>Economy: Agriculture (% of GVA)</th>\n",
       "      <th>...</th>\n",
       "      <th>Mobile-cellular subscriptions (per 100 inhabitants).1</th>\n",
       "      <th>Individuals using the Internet (per 100 inhabitants)</th>\n",
       "      <th>Threatened species (number)</th>\n",
       "      <th>Forested area (% of land area)</th>\n",
       "      <th>CO2 emission estimates (million tons/tons per capita)</th>\n",
       "      <th>Energy production, primary (Petajoules)</th>\n",
       "      <th>Energy supply per capita (Gigajoules)</th>\n",
       "      <th>Pop. using improved drinking water (urban/rural, %)</th>\n",
       "      <th>Pop. using improved sanitation facilities (urban/rural, %)</th>\n",
       "      <th>Net Official Development Assist. received (% of GNI)</th>\n",
       "    </tr>\n",
       "  </thead>\n",
       "  <tbody>\n",
       "    <tr>\n",
       "      <th>1</th>\n",
       "      <td>Albania</td>\n",
       "      <td>SouthernEurope</td>\n",
       "      <td>28748</td>\n",
       "      <td>2930</td>\n",
       "      <td>106.9</td>\n",
       "      <td>101.9</td>\n",
       "      <td>11541.0</td>\n",
       "      <td>2.6</td>\n",
       "      <td>3984.2</td>\n",
       "      <td>22.4</td>\n",
       "      <td>...</td>\n",
       "      <td>63.3</td>\n",
       "      <td>130.0</td>\n",
       "      <td>28.2</td>\n",
       "      <td>5.7/2.0</td>\n",
       "      <td>84.0</td>\n",
       "      <td>36.0</td>\n",
       "      <td>94.9/95.2</td>\n",
       "      <td>95.5/90.2</td>\n",
       "      <td>2.96</td>\n",
       "      <td>NaN</td>\n",
       "    </tr>\n",
       "    <tr>\n",
       "      <th>4</th>\n",
       "      <td>Andorra</td>\n",
       "      <td>SouthernEurope</td>\n",
       "      <td>468</td>\n",
       "      <td>77</td>\n",
       "      <td>163.8</td>\n",
       "      <td>102.3</td>\n",
       "      <td>2812.0</td>\n",
       "      <td>0.8</td>\n",
       "      <td>39896.4</td>\n",
       "      <td>0.5</td>\n",
       "      <td>...</td>\n",
       "      <td>96.9</td>\n",
       "      <td>13.0</td>\n",
       "      <td>34</td>\n",
       "      <td>0.5/6.4</td>\n",
       "      <td>1.0</td>\n",
       "      <td>119.0</td>\n",
       "      <td>100.0/100.0</td>\n",
       "      <td>100.0/100.0</td>\n",
       "      <td>NaN</td>\n",
       "      <td>NaN</td>\n",
       "    </tr>\n",
       "    <tr>\n",
       "      <th>12</th>\n",
       "      <td>Austria</td>\n",
       "      <td>WesternEurope</td>\n",
       "      <td>83871</td>\n",
       "      <td>8736</td>\n",
       "      <td>106.0</td>\n",
       "      <td>96.2</td>\n",
       "      <td>376967.0</td>\n",
       "      <td>1</td>\n",
       "      <td>44117.7</td>\n",
       "      <td>1.3</td>\n",
       "      <td>...</td>\n",
       "      <td>83.9</td>\n",
       "      <td>118.0</td>\n",
       "      <td>46.9</td>\n",
       "      <td>58.7/6.9</td>\n",
       "      <td>505.0</td>\n",
       "      <td>158.0</td>\n",
       "      <td>100.0/100.0</td>\n",
       "      <td>100.0/100.0</td>\n",
       "      <td>NaN</td>\n",
       "      <td>NaN</td>\n",
       "    </tr>\n",
       "    <tr>\n",
       "      <th>18</th>\n",
       "      <td>Belarus</td>\n",
       "      <td>EasternEurope</td>\n",
       "      <td>207600</td>\n",
       "      <td>9468</td>\n",
       "      <td>46.7</td>\n",
       "      <td>87.0</td>\n",
       "      <td>54609.0</td>\n",
       "      <td>-3.9</td>\n",
       "      <td>5750.8</td>\n",
       "      <td>7.5</td>\n",
       "      <td>...</td>\n",
       "      <td>62.2</td>\n",
       "      <td>25.0</td>\n",
       "      <td>42.5</td>\n",
       "      <td>63.5/6.7</td>\n",
       "      <td>155.0</td>\n",
       "      <td>122.0</td>\n",
       "      <td>99.9/99.1</td>\n",
       "      <td>94.1/95.2</td>\n",
       "      <td>0.2</td>\n",
       "      <td>NaN</td>\n",
       "    </tr>\n",
       "    <tr>\n",
       "      <th>19</th>\n",
       "      <td>Belgium</td>\n",
       "      <td>WesternEurope</td>\n",
       "      <td>30528</td>\n",
       "      <td>11429</td>\n",
       "      <td>377.5</td>\n",
       "      <td>97.3</td>\n",
       "      <td>455107.0</td>\n",
       "      <td>1.5</td>\n",
       "      <td>40277.8</td>\n",
       "      <td>0.7</td>\n",
       "      <td>...</td>\n",
       "      <td>85.1</td>\n",
       "      <td>37.0</td>\n",
       "      <td>22.6</td>\n",
       "      <td>93.4/8.3</td>\n",
       "      <td>520.0</td>\n",
       "      <td>196.0</td>\n",
       "      <td>100.0/100.0</td>\n",
       "      <td>99.5/99.4</td>\n",
       "      <td>NaN</td>\n",
       "      <td>NaN</td>\n",
       "    </tr>\n",
       "  </tbody>\n",
       "</table>\n",
       "<p>5 rows × 50 columns</p>\n",
       "</div>"
      ],
      "text/plain": [
       "    country          Region Surface area (km2)  \\\n",
       "1   Albania  SouthernEurope              28748   \n",
       "4   Andorra  SouthernEurope                468   \n",
       "12  Austria   WesternEurope              83871   \n",
       "18  Belarus   EasternEurope             207600   \n",
       "19  Belgium   WesternEurope              30528   \n",
       "\n",
       "    Population in thousands (2017)  Population density (per km2, 2017)  \\\n",
       "1                             2930                               106.9   \n",
       "4                               77                               163.8   \n",
       "12                            8736                               106.0   \n",
       "18                            9468                                46.7   \n",
       "19                           11429                               377.5   \n",
       "\n",
       "    Sex ratio  GDP: Gross domestic product (million current US$)  \\\n",
       "1       101.9                                            11541.0   \n",
       "4       102.3                                             2812.0   \n",
       "12       96.2                                           376967.0   \n",
       "18       87.0                                            54609.0   \n",
       "19       97.3                                           455107.0   \n",
       "\n",
       "   GDP growth rate (annual %, const. 2005 prices)  \\\n",
       "1                                             2.6   \n",
       "4                                             0.8   \n",
       "12                                              1   \n",
       "18                                           -3.9   \n",
       "19                                            1.5   \n",
       "\n",
       "    GDP per capita (current US$) Economy: Agriculture (% of GVA)  ...  \\\n",
       "1                         3984.2                            22.4  ...   \n",
       "4                        39896.4                             0.5  ...   \n",
       "12                       44117.7                             1.3  ...   \n",
       "18                        5750.8                             7.5  ...   \n",
       "19                       40277.8                             0.7  ...   \n",
       "\n",
       "    Mobile-cellular subscriptions (per 100 inhabitants).1  \\\n",
       "1                                                63.3       \n",
       "4                                                96.9       \n",
       "12                                               83.9       \n",
       "18                                               62.2       \n",
       "19                                               85.1       \n",
       "\n",
       "    Individuals using the Internet (per 100 inhabitants)  \\\n",
       "1                                               130.0      \n",
       "4                                                13.0      \n",
       "12                                              118.0      \n",
       "18                                               25.0      \n",
       "19                                               37.0      \n",
       "\n",
       "   Threatened species (number) Forested area (% of land area)  \\\n",
       "1                         28.2                        5.7/2.0   \n",
       "4                           34                        0.5/6.4   \n",
       "12                        46.9                       58.7/6.9   \n",
       "18                        42.5                       63.5/6.7   \n",
       "19                        22.6                       93.4/8.3   \n",
       "\n",
       "   CO2 emission estimates (million tons/tons per capita)  \\\n",
       "1                                                84.0      \n",
       "4                                                 1.0      \n",
       "12                                              505.0      \n",
       "18                                              155.0      \n",
       "19                                              520.0      \n",
       "\n",
       "   Energy production, primary (Petajoules)  \\\n",
       "1                                     36.0   \n",
       "4                                    119.0   \n",
       "12                                   158.0   \n",
       "18                                   122.0   \n",
       "19                                   196.0   \n",
       "\n",
       "   Energy supply per capita (Gigajoules)  \\\n",
       "1                              94.9/95.2   \n",
       "4                            100.0/100.0   \n",
       "12                           100.0/100.0   \n",
       "18                             99.9/99.1   \n",
       "19                           100.0/100.0   \n",
       "\n",
       "    Pop. using improved drinking water (urban/rural, %)  \\\n",
       "1                                           95.5/90.2     \n",
       "4                                         100.0/100.0     \n",
       "12                                        100.0/100.0     \n",
       "18                                          94.1/95.2     \n",
       "19                                          99.5/99.4     \n",
       "\n",
       "    Pop. using improved sanitation facilities (urban/rural, %)  \\\n",
       "1                                                2.96            \n",
       "4                                                 NaN            \n",
       "12                                                NaN            \n",
       "18                                                0.2            \n",
       "19                                                NaN            \n",
       "\n",
       "   Net Official Development Assist. received (% of GNI)  \n",
       "1                                                 NaN    \n",
       "4                                                 NaN    \n",
       "12                                                NaN    \n",
       "18                                                NaN    \n",
       "19                                                NaN    \n",
       "\n",
       "[5 rows x 50 columns]"
      ]
     },
     "execution_count": 7,
     "metadata": {},
     "output_type": "execute_result"
    }
   ],
   "source": [
    "europe.head()"
   ]
  },
  {
   "cell_type": "code",
   "execution_count": 8,
   "metadata": {},
   "outputs": [
    {
     "data": {
      "text/html": [
       "<div>\n",
       "<style scoped>\n",
       "    .dataframe tbody tr th:only-of-type {\n",
       "        vertical-align: middle;\n",
       "    }\n",
       "\n",
       "    .dataframe tbody tr th {\n",
       "        vertical-align: top;\n",
       "    }\n",
       "\n",
       "    .dataframe thead th {\n",
       "        text-align: right;\n",
       "    }\n",
       "</style>\n",
       "<table border=\"1\" class=\"dataframe\">\n",
       "  <thead>\n",
       "    <tr style=\"text-align: right;\">\n",
       "      <th></th>\n",
       "      <th>country</th>\n",
       "      <th>Region</th>\n",
       "      <th>Surface area (km2)</th>\n",
       "      <th>Population in thousands (2017)</th>\n",
       "      <th>Population density (per km2, 2017)</th>\n",
       "      <th>Sex ratio</th>\n",
       "      <th>GDP: Gross domestic product (million current US$)</th>\n",
       "      <th>GDP growth rate (annual %, const. 2005 prices)</th>\n",
       "      <th>GDP per capita (current US$)</th>\n",
       "      <th>Economy: Agriculture (% of GVA)</th>\n",
       "      <th>...</th>\n",
       "      <th>Mobile-cellular subscriptions (per 100 inhabitants).1</th>\n",
       "      <th>Individuals using the Internet (per 100 inhabitants)</th>\n",
       "      <th>Threatened species (number)</th>\n",
       "      <th>Forested area (% of land area)</th>\n",
       "      <th>CO2 emission estimates (million tons/tons per capita)</th>\n",
       "      <th>Energy production, primary (Petajoules)</th>\n",
       "      <th>Energy supply per capita (Gigajoules)</th>\n",
       "      <th>Pop. using improved drinking water (urban/rural, %)</th>\n",
       "      <th>Pop. using improved sanitation facilities (urban/rural, %)</th>\n",
       "      <th>Net Official Development Assist. received (% of GNI)</th>\n",
       "    </tr>\n",
       "  </thead>\n",
       "  <tbody>\n",
       "    <tr>\n",
       "      <th>0</th>\n",
       "      <td>Afghanistan</td>\n",
       "      <td>SouthernAsia</td>\n",
       "      <td>652864</td>\n",
       "      <td>35530</td>\n",
       "      <td>54.4</td>\n",
       "      <td>106.3</td>\n",
       "      <td>20270.0</td>\n",
       "      <td>-2.4</td>\n",
       "      <td>623.2</td>\n",
       "      <td>23.3</td>\n",
       "      <td>...</td>\n",
       "      <td>8.3</td>\n",
       "      <td>42.0</td>\n",
       "      <td>2.1</td>\n",
       "      <td>9.8/0.3</td>\n",
       "      <td>63.0</td>\n",
       "      <td>5.0</td>\n",
       "      <td>78.2/47.0</td>\n",
       "      <td>45.1/27.0</td>\n",
       "      <td>21.43</td>\n",
       "      <td>NaN</td>\n",
       "    </tr>\n",
       "    <tr>\n",
       "      <th>9</th>\n",
       "      <td>Armenia</td>\n",
       "      <td>WesternAsia</td>\n",
       "      <td>29743</td>\n",
       "      <td>2930</td>\n",
       "      <td>102.9</td>\n",
       "      <td>88.8</td>\n",
       "      <td>10529.0</td>\n",
       "      <td>3</td>\n",
       "      <td>3489.1</td>\n",
       "      <td>19</td>\n",
       "      <td>...</td>\n",
       "      <td>58.2</td>\n",
       "      <td>114.0</td>\n",
       "      <td>11.7</td>\n",
       "      <td>5.5/1.8</td>\n",
       "      <td>48.0</td>\n",
       "      <td>46.0</td>\n",
       "      <td>100.0/100.0</td>\n",
       "      <td>96.2/78.2</td>\n",
       "      <td>3.17</td>\n",
       "      <td>NaN</td>\n",
       "    </tr>\n",
       "    <tr>\n",
       "      <th>13</th>\n",
       "      <td>Azerbaijan</td>\n",
       "      <td>WesternAsia</td>\n",
       "      <td>86600</td>\n",
       "      <td>9828</td>\n",
       "      <td>118.9</td>\n",
       "      <td>99.3</td>\n",
       "      <td>53049.0</td>\n",
       "      <td>0.7</td>\n",
       "      <td>5438.7</td>\n",
       "      <td>6.7</td>\n",
       "      <td>...</td>\n",
       "      <td>77</td>\n",
       "      <td>97.0</td>\n",
       "      <td>13.5</td>\n",
       "      <td>37.5/3.9</td>\n",
       "      <td>2459.0</td>\n",
       "      <td>61.0</td>\n",
       "      <td>94.7/77.8</td>\n",
       "      <td>91.6/86.6</td>\n",
       "      <td>0.14</td>\n",
       "      <td>NaN</td>\n",
       "    </tr>\n",
       "    <tr>\n",
       "      <th>15</th>\n",
       "      <td>Bahrain</td>\n",
       "      <td>WesternAsia</td>\n",
       "      <td>771</td>\n",
       "      <td>1493</td>\n",
       "      <td>1963.9</td>\n",
       "      <td>168.3</td>\n",
       "      <td>31126.0</td>\n",
       "      <td>2.9</td>\n",
       "      <td>22600.2</td>\n",
       "      <td>0.3</td>\n",
       "      <td>...</td>\n",
       "      <td>93.5</td>\n",
       "      <td>36.0</td>\n",
       "      <td>0.8</td>\n",
       "      <td>31.3/23.0</td>\n",
       "      <td>961.0</td>\n",
       "      <td>413.0</td>\n",
       "      <td>100.0/100.0</td>\n",
       "      <td>99.2/99.2</td>\n",
       "      <td>NaN</td>\n",
       "      <td>NaN</td>\n",
       "    </tr>\n",
       "    <tr>\n",
       "      <th>16</th>\n",
       "      <td>Bangladesh</td>\n",
       "      <td>SouthernAsia</td>\n",
       "      <td>147570</td>\n",
       "      <td>164670</td>\n",
       "      <td>1265.0</td>\n",
       "      <td>101.7</td>\n",
       "      <td>194466.0</td>\n",
       "      <td>6.6</td>\n",
       "      <td>1207.9</td>\n",
       "      <td>15.5</td>\n",
       "      <td>...</td>\n",
       "      <td>14.4</td>\n",
       "      <td>151.0</td>\n",
       "      <td>11</td>\n",
       "      <td>73.2/0.5</td>\n",
       "      <td>1438.0</td>\n",
       "      <td>11.0</td>\n",
       "      <td>86.5/87.0</td>\n",
       "      <td>57.7/62.1</td>\n",
       "      <td>1.24</td>\n",
       "      <td>NaN</td>\n",
       "    </tr>\n",
       "  </tbody>\n",
       "</table>\n",
       "<p>5 rows × 50 columns</p>\n",
       "</div>"
      ],
      "text/plain": [
       "        country        Region Surface area (km2)  \\\n",
       "0   Afghanistan  SouthernAsia             652864   \n",
       "9       Armenia   WesternAsia              29743   \n",
       "13   Azerbaijan   WesternAsia              86600   \n",
       "15      Bahrain   WesternAsia                771   \n",
       "16   Bangladesh  SouthernAsia             147570   \n",
       "\n",
       "    Population in thousands (2017)  Population density (per km2, 2017)  \\\n",
       "0                            35530                                54.4   \n",
       "9                             2930                               102.9   \n",
       "13                            9828                               118.9   \n",
       "15                            1493                              1963.9   \n",
       "16                          164670                              1265.0   \n",
       "\n",
       "    Sex ratio  GDP: Gross domestic product (million current US$)  \\\n",
       "0       106.3                                            20270.0   \n",
       "9        88.8                                            10529.0   \n",
       "13       99.3                                            53049.0   \n",
       "15      168.3                                            31126.0   \n",
       "16      101.7                                           194466.0   \n",
       "\n",
       "   GDP growth rate (annual %, const. 2005 prices)  \\\n",
       "0                                            -2.4   \n",
       "9                                               3   \n",
       "13                                            0.7   \n",
       "15                                            2.9   \n",
       "16                                            6.6   \n",
       "\n",
       "    GDP per capita (current US$) Economy: Agriculture (% of GVA)  ...  \\\n",
       "0                          623.2                            23.3  ...   \n",
       "9                         3489.1                              19  ...   \n",
       "13                        5438.7                             6.7  ...   \n",
       "15                       22600.2                             0.3  ...   \n",
       "16                        1207.9                            15.5  ...   \n",
       "\n",
       "    Mobile-cellular subscriptions (per 100 inhabitants).1  \\\n",
       "0                                                 8.3       \n",
       "9                                                58.2       \n",
       "13                                                 77       \n",
       "15                                               93.5       \n",
       "16                                               14.4       \n",
       "\n",
       "    Individuals using the Internet (per 100 inhabitants)  \\\n",
       "0                                                42.0      \n",
       "9                                               114.0      \n",
       "13                                               97.0      \n",
       "15                                               36.0      \n",
       "16                                              151.0      \n",
       "\n",
       "   Threatened species (number) Forested area (% of land area)  \\\n",
       "0                          2.1                        9.8/0.3   \n",
       "9                         11.7                        5.5/1.8   \n",
       "13                        13.5                       37.5/3.9   \n",
       "15                         0.8                      31.3/23.0   \n",
       "16                          11                       73.2/0.5   \n",
       "\n",
       "   CO2 emission estimates (million tons/tons per capita)  \\\n",
       "0                                                63.0      \n",
       "9                                                48.0      \n",
       "13                                             2459.0      \n",
       "15                                              961.0      \n",
       "16                                             1438.0      \n",
       "\n",
       "   Energy production, primary (Petajoules)  \\\n",
       "0                                      5.0   \n",
       "9                                     46.0   \n",
       "13                                    61.0   \n",
       "15                                   413.0   \n",
       "16                                    11.0   \n",
       "\n",
       "   Energy supply per capita (Gigajoules)  \\\n",
       "0                              78.2/47.0   \n",
       "9                            100.0/100.0   \n",
       "13                             94.7/77.8   \n",
       "15                           100.0/100.0   \n",
       "16                             86.5/87.0   \n",
       "\n",
       "    Pop. using improved drinking water (urban/rural, %)  \\\n",
       "0                                           45.1/27.0     \n",
       "9                                           96.2/78.2     \n",
       "13                                          91.6/86.6     \n",
       "15                                          99.2/99.2     \n",
       "16                                          57.7/62.1     \n",
       "\n",
       "    Pop. using improved sanitation facilities (urban/rural, %)  \\\n",
       "0                                               21.43            \n",
       "9                                                3.17            \n",
       "13                                               0.14            \n",
       "15                                                NaN            \n",
       "16                                               1.24            \n",
       "\n",
       "   Net Official Development Assist. received (% of GNI)  \n",
       "0                                                 NaN    \n",
       "9                                                 NaN    \n",
       "13                                                NaN    \n",
       "15                                                NaN    \n",
       "16                                                NaN    \n",
       "\n",
       "[5 rows x 50 columns]"
      ]
     },
     "execution_count": 8,
     "metadata": {},
     "output_type": "execute_result"
    }
   ],
   "source": [
    "asia.head()"
   ]
  },
  {
   "cell_type": "code",
   "execution_count": 9,
   "metadata": {},
   "outputs": [
    {
     "name": "stdout",
     "output_type": "stream",
     "text": [
      "Ttest_indResult(statistic=-2.1196552594510925, pvalue=0.03661463597787138)\n",
      "Europe and Asia have different mean sex ratios\n"
     ]
    }
   ],
   "source": [
    "# Perform two- Sample t test\n",
    "\n",
    "t_result= stats.ttest_ind(europe['Sex ratio'], asia['Sex ratio'])\n",
    "print(t_result)\n",
    "\n",
    "# Test significance\n",
    "alpha= 0.05\n",
    "if (t_result[1] < alpha):\n",
    "    print(\"Europe and Asia have different mean sex ratios\")\n",
    "    \n",
    "else: print(\"No significant difference found\")"
   ]
  },
  {
   "cell_type": "markdown",
   "metadata": {},
   "source": [
    "**Chi-square test**\n",
    "\n",
    "Chi- square test examines proportions of discrete categories. \n",
    "\n",
    "In this exercise, you will be working with the Olympics dataset. Here, we're going to look at the sex ratio of the American Olympic squads. Is a bias present? That is to say, does the ratio of male to female athletes significantly depart from 50-50?"
   ]
  },
  {
   "cell_type": "code",
   "execution_count": 10,
   "metadata": {
    "scrolled": true
   },
   "outputs": [
    {
     "name": "stdout",
     "output_type": "stream",
     "text": [
      "(61819, 14)\n"
     ]
    },
    {
     "data": {
      "text/html": [
       "<div>\n",
       "<style scoped>\n",
       "    .dataframe tbody tr th:only-of-type {\n",
       "        vertical-align: middle;\n",
       "    }\n",
       "\n",
       "    .dataframe tbody tr th {\n",
       "        vertical-align: top;\n",
       "    }\n",
       "\n",
       "    .dataframe thead th {\n",
       "        text-align: right;\n",
       "    }\n",
       "</style>\n",
       "<table border=\"1\" class=\"dataframe\">\n",
       "  <thead>\n",
       "    <tr style=\"text-align: right;\">\n",
       "      <th></th>\n",
       "      <th>Unnamed: 0</th>\n",
       "      <th>Name</th>\n",
       "      <th>Sex</th>\n",
       "      <th>Age</th>\n",
       "      <th>Height</th>\n",
       "      <th>Weight</th>\n",
       "      <th>Team</th>\n",
       "      <th>NOC</th>\n",
       "      <th>Games</th>\n",
       "      <th>Year</th>\n",
       "      <th>City</th>\n",
       "      <th>Sport</th>\n",
       "      <th>Event</th>\n",
       "      <th>Medal</th>\n",
       "    </tr>\n",
       "  </thead>\n",
       "  <tbody>\n",
       "    <tr>\n",
       "      <th>0</th>\n",
       "      <td>27</td>\n",
       "      <td>Cornelia \"Cor\" Aalten (-Strannood)</td>\n",
       "      <td>F</td>\n",
       "      <td>18.0</td>\n",
       "      <td>168.0</td>\n",
       "      <td>NaN</td>\n",
       "      <td>Netherlands</td>\n",
       "      <td>NED</td>\n",
       "      <td>1932 Summer</td>\n",
       "      <td>1932</td>\n",
       "      <td>Los Angeles</td>\n",
       "      <td>Athletics</td>\n",
       "      <td>Athletics Women's 100 metres</td>\n",
       "      <td>NaN</td>\n",
       "    </tr>\n",
       "    <tr>\n",
       "      <th>1</th>\n",
       "      <td>28</td>\n",
       "      <td>Cornelia \"Cor\" Aalten (-Strannood)</td>\n",
       "      <td>F</td>\n",
       "      <td>18.0</td>\n",
       "      <td>168.0</td>\n",
       "      <td>NaN</td>\n",
       "      <td>Netherlands</td>\n",
       "      <td>NED</td>\n",
       "      <td>1932 Summer</td>\n",
       "      <td>1932</td>\n",
       "      <td>Los Angeles</td>\n",
       "      <td>Athletics</td>\n",
       "      <td>Athletics Women's 4 x 100 metres Relay</td>\n",
       "      <td>NaN</td>\n",
       "    </tr>\n",
       "    <tr>\n",
       "      <th>2</th>\n",
       "      <td>30</td>\n",
       "      <td>Einar Ferdinand \"Einari\" Aalto</td>\n",
       "      <td>M</td>\n",
       "      <td>26.0</td>\n",
       "      <td>NaN</td>\n",
       "      <td>NaN</td>\n",
       "      <td>Finland</td>\n",
       "      <td>FIN</td>\n",
       "      <td>1952 Summer</td>\n",
       "      <td>1952</td>\n",
       "      <td>Helsinki</td>\n",
       "      <td>Swimming</td>\n",
       "      <td>Swimming Men's 400 metres Freestyle</td>\n",
       "      <td>NaN</td>\n",
       "    </tr>\n",
       "    <tr>\n",
       "      <th>3</th>\n",
       "      <td>36</td>\n",
       "      <td>Arvo Ossian Aaltonen</td>\n",
       "      <td>M</td>\n",
       "      <td>22.0</td>\n",
       "      <td>NaN</td>\n",
       "      <td>NaN</td>\n",
       "      <td>Finland</td>\n",
       "      <td>FIN</td>\n",
       "      <td>1912 Summer</td>\n",
       "      <td>1912</td>\n",
       "      <td>Stockholm</td>\n",
       "      <td>Swimming</td>\n",
       "      <td>Swimming Men's 200 metres Breaststroke</td>\n",
       "      <td>NaN</td>\n",
       "    </tr>\n",
       "    <tr>\n",
       "      <th>4</th>\n",
       "      <td>37</td>\n",
       "      <td>Arvo Ossian Aaltonen</td>\n",
       "      <td>M</td>\n",
       "      <td>22.0</td>\n",
       "      <td>NaN</td>\n",
       "      <td>NaN</td>\n",
       "      <td>Finland</td>\n",
       "      <td>FIN</td>\n",
       "      <td>1912 Summer</td>\n",
       "      <td>1912</td>\n",
       "      <td>Stockholm</td>\n",
       "      <td>Swimming</td>\n",
       "      <td>Swimming Men's 400 metres Breaststroke</td>\n",
       "      <td>NaN</td>\n",
       "    </tr>\n",
       "  </tbody>\n",
       "</table>\n",
       "</div>"
      ],
      "text/plain": [
       "   Unnamed: 0                                Name Sex   Age  Height  Weight  \\\n",
       "0          27  Cornelia \"Cor\" Aalten (-Strannood)   F  18.0   168.0     NaN   \n",
       "1          28  Cornelia \"Cor\" Aalten (-Strannood)   F  18.0   168.0     NaN   \n",
       "2          30      Einar Ferdinand \"Einari\" Aalto   M  26.0     NaN     NaN   \n",
       "3          36                Arvo Ossian Aaltonen   M  22.0     NaN     NaN   \n",
       "4          37                Arvo Ossian Aaltonen   M  22.0     NaN     NaN   \n",
       "\n",
       "          Team  NOC        Games  Year         City      Sport  \\\n",
       "0  Netherlands  NED  1932 Summer  1932  Los Angeles  Athletics   \n",
       "1  Netherlands  NED  1932 Summer  1932  Los Angeles  Athletics   \n",
       "2      Finland  FIN  1952 Summer  1952     Helsinki   Swimming   \n",
       "3      Finland  FIN  1912 Summer  1912    Stockholm   Swimming   \n",
       "4      Finland  FIN  1912 Summer  1912    Stockholm   Swimming   \n",
       "\n",
       "                                    Event Medal  \n",
       "0            Athletics Women's 100 metres   NaN  \n",
       "1  Athletics Women's 4 x 100 metres Relay   NaN  \n",
       "2     Swimming Men's 400 metres Freestyle   NaN  \n",
       "3  Swimming Men's 200 metres Breaststroke   NaN  \n",
       "4  Swimming Men's 400 metres Breaststroke   NaN  "
      ]
     },
     "execution_count": 10,
     "metadata": {},
     "output_type": "execute_result"
    }
   ],
   "source": [
    "#import global olympics dataset\n",
    "olympics = pd.read_csv('olympics.csv')\n",
    "\n",
    "print(olympics.shape)\n",
    "\n",
    "olympics.head()"
   ]
  },
  {
   "cell_type": "code",
   "execution_count": 11,
   "metadata": {},
   "outputs": [
    {
     "name": "stdout",
     "output_type": "stream",
     "text": [
      "Athletics:  (38624, 14)\n",
      "Swimming:  (23195, 14)\n"
     ]
    }
   ],
   "source": [
    "athletics = olympics[olympics['Sport'] == 'Athletics']\n",
    "print('Athletics: ', athletics.shape)\n",
    "\n",
    "swimming = olympics[olympics['Sport'] == 'Swimming'] \n",
    "print('Swimming: ', swimming.shape)"
   ]
  },
  {
   "cell_type": "code",
   "execution_count": 12,
   "metadata": {},
   "outputs": [
    {
     "data": {
      "text/plain": [
       "M    26958\n",
       "F    11666\n",
       "Name: Sex, dtype: int64"
      ]
     },
     "execution_count": 12,
     "metadata": {},
     "output_type": "execute_result"
    }
   ],
   "source": [
    "# Extract sex ratio\n",
    "sexratio = athletics['Sex'].value_counts()\n",
    "\n",
    "sexratio"
   ]
  },
  {
   "cell_type": "code",
   "execution_count": 13,
   "metadata": {},
   "outputs": [
    {
     "name": "stdout",
     "output_type": "stream",
     "text": [
      "Power_divergenceResult(statistic=6054.403065451533, pvalue=0.0)\n",
      "Difference between sexes is statistically significant\n"
     ]
    }
   ],
   "source": [
    "# Perform Chi-square test\n",
    "chi= stats.chisquare(sexratio)\n",
    "print(chi)\n",
    "\n",
    "# Test significance\n",
    "alpha= 0.05\n",
    "if chi[1] < alpha:\n",
    "    print(\"Difference between sexes is statistically significant\")\n",
    "else:\n",
    "    print(\"No significant difference between sexes found\")"
   ]
  },
  {
   "cell_type": "markdown",
   "metadata": {},
   "source": [
    "**Fisher's exact test**\n",
    "\n",
    "Now, you will work with the Olympics dataset to look at the relative success of the American swimming and athletics teams. Whether each athlete received a medal is coded as True or False in the MedalTF column of athletes. Do a larger proportion of swimming or athletics participants come home with medals? A Fisher exact test is a useful way to compare proportions of samples falling into discrete categories. To test this, you will need to perform a Fisher exact test on MedalTF in relation to Sport. pandas and plotnine have already been imported as pd and p9."
   ]
  },
  {
   "cell_type": "code",
   "execution_count": 14,
   "metadata": {},
   "outputs": [
    {
     "data": {
      "text/html": [
       "<div>\n",
       "<style scoped>\n",
       "    .dataframe tbody tr th:only-of-type {\n",
       "        vertical-align: middle;\n",
       "    }\n",
       "\n",
       "    .dataframe tbody tr th {\n",
       "        vertical-align: top;\n",
       "    }\n",
       "\n",
       "    .dataframe thead th {\n",
       "        text-align: right;\n",
       "    }\n",
       "</style>\n",
       "<table border=\"1\" class=\"dataframe\">\n",
       "  <thead>\n",
       "    <tr style=\"text-align: right;\">\n",
       "      <th></th>\n",
       "      <th>Unnamed: 0</th>\n",
       "      <th>Name</th>\n",
       "      <th>Sex</th>\n",
       "      <th>Age</th>\n",
       "      <th>Height</th>\n",
       "      <th>Weight</th>\n",
       "      <th>Team</th>\n",
       "      <th>NOC</th>\n",
       "      <th>Games</th>\n",
       "      <th>Year</th>\n",
       "      <th>City</th>\n",
       "      <th>Sport</th>\n",
       "      <th>Event</th>\n",
       "      <th>Medal</th>\n",
       "    </tr>\n",
       "  </thead>\n",
       "  <tbody>\n",
       "    <tr>\n",
       "      <th>51</th>\n",
       "      <td>274</td>\n",
       "      <td>David \"Dave\" Abbott</td>\n",
       "      <td>M</td>\n",
       "      <td>26.0</td>\n",
       "      <td>183.0</td>\n",
       "      <td>75.0</td>\n",
       "      <td>United States</td>\n",
       "      <td>USA</td>\n",
       "      <td>1928 Summer</td>\n",
       "      <td>1928</td>\n",
       "      <td>Amsterdam</td>\n",
       "      <td>Athletics</td>\n",
       "      <td>Athletics Men's 5,000 metres</td>\n",
       "      <td>NaN</td>\n",
       "    </tr>\n",
       "    <tr>\n",
       "      <th>81</th>\n",
       "      <td>467</td>\n",
       "      <td>Abdihakim \"Abdi\" Abdirahman</td>\n",
       "      <td>M</td>\n",
       "      <td>23.0</td>\n",
       "      <td>178.0</td>\n",
       "      <td>61.0</td>\n",
       "      <td>United States</td>\n",
       "      <td>USA</td>\n",
       "      <td>2000 Summer</td>\n",
       "      <td>2000</td>\n",
       "      <td>Sydney</td>\n",
       "      <td>Athletics</td>\n",
       "      <td>Athletics Men's 10,000 metres</td>\n",
       "      <td>NaN</td>\n",
       "    </tr>\n",
       "    <tr>\n",
       "      <th>82</th>\n",
       "      <td>468</td>\n",
       "      <td>Abdihakim \"Abdi\" Abdirahman</td>\n",
       "      <td>M</td>\n",
       "      <td>27.0</td>\n",
       "      <td>178.0</td>\n",
       "      <td>61.0</td>\n",
       "      <td>United States</td>\n",
       "      <td>USA</td>\n",
       "      <td>2004 Summer</td>\n",
       "      <td>2004</td>\n",
       "      <td>Athina</td>\n",
       "      <td>Athletics</td>\n",
       "      <td>Athletics Men's 10,000 metres</td>\n",
       "      <td>NaN</td>\n",
       "    </tr>\n",
       "    <tr>\n",
       "      <th>83</th>\n",
       "      <td>469</td>\n",
       "      <td>Abdihakim \"Abdi\" Abdirahman</td>\n",
       "      <td>M</td>\n",
       "      <td>31.0</td>\n",
       "      <td>178.0</td>\n",
       "      <td>61.0</td>\n",
       "      <td>United States</td>\n",
       "      <td>USA</td>\n",
       "      <td>2008 Summer</td>\n",
       "      <td>2008</td>\n",
       "      <td>Beijing</td>\n",
       "      <td>Athletics</td>\n",
       "      <td>Athletics Men's 10,000 metres</td>\n",
       "      <td>NaN</td>\n",
       "    </tr>\n",
       "    <tr>\n",
       "      <th>84</th>\n",
       "      <td>470</td>\n",
       "      <td>Abdihakim \"Abdi\" Abdirahman</td>\n",
       "      <td>M</td>\n",
       "      <td>35.0</td>\n",
       "      <td>178.0</td>\n",
       "      <td>61.0</td>\n",
       "      <td>United States</td>\n",
       "      <td>USA</td>\n",
       "      <td>2012 Summer</td>\n",
       "      <td>2012</td>\n",
       "      <td>London</td>\n",
       "      <td>Athletics</td>\n",
       "      <td>Athletics Men's Marathon</td>\n",
       "      <td>NaN</td>\n",
       "    </tr>\n",
       "  </tbody>\n",
       "</table>\n",
       "</div>"
      ],
      "text/plain": [
       "    Unnamed: 0                         Name Sex   Age  Height  Weight  \\\n",
       "51         274          David \"Dave\" Abbott   M  26.0   183.0    75.0   \n",
       "81         467  Abdihakim \"Abdi\" Abdirahman   M  23.0   178.0    61.0   \n",
       "82         468  Abdihakim \"Abdi\" Abdirahman   M  27.0   178.0    61.0   \n",
       "83         469  Abdihakim \"Abdi\" Abdirahman   M  31.0   178.0    61.0   \n",
       "84         470  Abdihakim \"Abdi\" Abdirahman   M  35.0   178.0    61.0   \n",
       "\n",
       "             Team  NOC        Games  Year       City      Sport  \\\n",
       "51  United States  USA  1928 Summer  1928  Amsterdam  Athletics   \n",
       "81  United States  USA  2000 Summer  2000     Sydney  Athletics   \n",
       "82  United States  USA  2004 Summer  2004     Athina  Athletics   \n",
       "83  United States  USA  2008 Summer  2008    Beijing  Athletics   \n",
       "84  United States  USA  2012 Summer  2012     London  Athletics   \n",
       "\n",
       "                            Event Medal  \n",
       "51   Athletics Men's 5,000 metres   NaN  \n",
       "81  Athletics Men's 10,000 metres   NaN  \n",
       "82  Athletics Men's 10,000 metres   NaN  \n",
       "83  Athletics Men's 10,000 metres   NaN  \n",
       "84       Athletics Men's Marathon   NaN  "
      ]
     },
     "execution_count": 14,
     "metadata": {},
     "output_type": "execute_result"
    }
   ],
   "source": [
    "americans = olympics[olympics['Team'] == 'United States']\n",
    "americans.head()"
   ]
  },
  {
   "cell_type": "code",
   "execution_count": 15,
   "metadata": {},
   "outputs": [],
   "source": [
    "americans['MedalTF'] = americans['Medal'].notnull() #If null in Medal, then assigns False(meaning no medal)"
   ]
  },
  {
   "cell_type": "code",
   "execution_count": 16,
   "metadata": {},
   "outputs": [
    {
     "name": "stdout",
     "output_type": "stream",
     "text": [
      "Sport    Athletics  Swimming\n",
      "MedalTF                     \n",
      "False         2131       556\n",
      "True          1071      1066\n",
      "(3.8148405645231716, 2.4220956742371155e-101)\n",
      "Proportions of medal winners differ significantly\n"
     ]
    }
   ],
   "source": [
    "# Create a table of cross-tabulations\n",
    "table = pd.crosstab(americans['MedalTF'], americans['Sport'])\n",
    "print(table)\n",
    "\n",
    "# Perform the Fisher exact test\n",
    "fisher = stats.fisher_exact(table, alternative='two-sided')\n",
    "print(fisher)\n",
    "\n",
    "# Is the result significant?\n",
    "alpha = 0.05\n",
    "if fisher[1] < alpha:\n",
    "    print(\"Proportions of medal winners differ significantly\")\n",
    "else:\n",
    "    print(\"No significant difference in proportions of medal winners found\")"
   ]
  },
  {
   "cell_type": "markdown",
   "metadata": {},
   "source": [
    "**Pearson correlation**\n",
    "\n",
    "In this exercise, you will be using the Olympic athletes dataset and focusing on just one event, the men's 100 meter running race. The dataset is provided in your workspace as athletes. You're going to be looking at how the weights of competitors have changed over time. A Pearson correlation test allows us to determine whether a linear relationship exists between two variables. pandas, scipy.stats, and plotnine have been loaded into the workspace as pd, stats, and p9, respectively. First, you'll make some plots, then you'll see how the sprinters' weights have changed over time."
   ]
  },
  {
   "cell_type": "code",
   "execution_count": 17,
   "metadata": {},
   "outputs": [
    {
     "name": "stdout",
     "output_type": "stream",
     "text": [
      "(118, 14)\n"
     ]
    },
    {
     "data": {
      "text/html": [
       "<div>\n",
       "<style scoped>\n",
       "    .dataframe tbody tr th:only-of-type {\n",
       "        vertical-align: middle;\n",
       "    }\n",
       "\n",
       "    .dataframe tbody tr th {\n",
       "        vertical-align: top;\n",
       "    }\n",
       "\n",
       "    .dataframe thead th {\n",
       "        text-align: right;\n",
       "    }\n",
       "</style>\n",
       "<table border=\"1\" class=\"dataframe\">\n",
       "  <thead>\n",
       "    <tr style=\"text-align: right;\">\n",
       "      <th></th>\n",
       "      <th>Unnamed: 0</th>\n",
       "      <th>Name</th>\n",
       "      <th>Sex</th>\n",
       "      <th>Age</th>\n",
       "      <th>Height</th>\n",
       "      <th>Weight</th>\n",
       "      <th>Team</th>\n",
       "      <th>NOC</th>\n",
       "      <th>Games</th>\n",
       "      <th>Year</th>\n",
       "      <th>City</th>\n",
       "      <th>Sport</th>\n",
       "      <th>Event</th>\n",
       "      <th>Medal</th>\n",
       "    </tr>\n",
       "  </thead>\n",
       "  <tbody>\n",
       "    <tr>\n",
       "      <th>3334</th>\n",
       "      <td>12693</td>\n",
       "      <td>Ryan Bailey</td>\n",
       "      <td>M</td>\n",
       "      <td>23.0</td>\n",
       "      <td>193.0</td>\n",
       "      <td>82.0</td>\n",
       "      <td>United States</td>\n",
       "      <td>USA</td>\n",
       "      <td>2012 Summer</td>\n",
       "      <td>2012</td>\n",
       "      <td>London</td>\n",
       "      <td>Athletics</td>\n",
       "      <td>Athletics Men's 100 metres</td>\n",
       "      <td>NaN</td>\n",
       "    </tr>\n",
       "    <tr>\n",
       "      <th>3411</th>\n",
       "      <td>12941</td>\n",
       "      <td>Walter Thane Baker</td>\n",
       "      <td>M</td>\n",
       "      <td>25.0</td>\n",
       "      <td>183.0</td>\n",
       "      <td>72.0</td>\n",
       "      <td>United States</td>\n",
       "      <td>USA</td>\n",
       "      <td>1956 Summer</td>\n",
       "      <td>1956</td>\n",
       "      <td>Melbourne</td>\n",
       "      <td>Athletics</td>\n",
       "      <td>Athletics Men's 100 metres</td>\n",
       "      <td>Silver</td>\n",
       "    </tr>\n",
       "    <tr>\n",
       "      <th>4645</th>\n",
       "      <td>18447</td>\n",
       "      <td>Frank Vern Belote</td>\n",
       "      <td>M</td>\n",
       "      <td>28.0</td>\n",
       "      <td>172.0</td>\n",
       "      <td>69.0</td>\n",
       "      <td>United States</td>\n",
       "      <td>USA</td>\n",
       "      <td>1912 Summer</td>\n",
       "      <td>1912</td>\n",
       "      <td>Stockholm</td>\n",
       "      <td>Athletics</td>\n",
       "      <td>Athletics Men's 100 metres</td>\n",
       "      <td>NaN</td>\n",
       "    </tr>\n",
       "    <tr>\n",
       "      <th>5605</th>\n",
       "      <td>22929</td>\n",
       "      <td>Clyde Amel Blair</td>\n",
       "      <td>M</td>\n",
       "      <td>22.0</td>\n",
       "      <td>NaN</td>\n",
       "      <td>NaN</td>\n",
       "      <td>United States</td>\n",
       "      <td>USA</td>\n",
       "      <td>1904 Summer</td>\n",
       "      <td>1904</td>\n",
       "      <td>St. Louis</td>\n",
       "      <td>Athletics</td>\n",
       "      <td>Athletics Men's 100 metres</td>\n",
       "      <td>NaN</td>\n",
       "    </tr>\n",
       "    <tr>\n",
       "      <th>5782</th>\n",
       "      <td>23692</td>\n",
       "      <td>Dixon H. Boardman</td>\n",
       "      <td>M</td>\n",
       "      <td>20.0</td>\n",
       "      <td>NaN</td>\n",
       "      <td>NaN</td>\n",
       "      <td>United States</td>\n",
       "      <td>USA</td>\n",
       "      <td>1900 Summer</td>\n",
       "      <td>1900</td>\n",
       "      <td>Paris</td>\n",
       "      <td>Athletics</td>\n",
       "      <td>Athletics Men's 100 metres</td>\n",
       "      <td>NaN</td>\n",
       "    </tr>\n",
       "  </tbody>\n",
       "</table>\n",
       "</div>"
      ],
      "text/plain": [
       "      Unnamed: 0                Name Sex   Age  Height  Weight           Team  \\\n",
       "3334       12693         Ryan Bailey   M  23.0   193.0    82.0  United States   \n",
       "3411       12941  Walter Thane Baker   M  25.0   183.0    72.0  United States   \n",
       "4645       18447   Frank Vern Belote   M  28.0   172.0    69.0  United States   \n",
       "5605       22929    Clyde Amel Blair   M  22.0     NaN     NaN  United States   \n",
       "5782       23692   Dixon H. Boardman   M  20.0     NaN     NaN  United States   \n",
       "\n",
       "      NOC        Games  Year       City      Sport  \\\n",
       "3334  USA  2012 Summer  2012     London  Athletics   \n",
       "3411  USA  1956 Summer  1956  Melbourne  Athletics   \n",
       "4645  USA  1912 Summer  1912  Stockholm  Athletics   \n",
       "5605  USA  1904 Summer  1904  St. Louis  Athletics   \n",
       "5782  USA  1900 Summer  1900      Paris  Athletics   \n",
       "\n",
       "                           Event   Medal  \n",
       "3334  Athletics Men's 100 metres     NaN  \n",
       "3411  Athletics Men's 100 metres  Silver  \n",
       "4645  Athletics Men's 100 metres     NaN  \n",
       "5605  Athletics Men's 100 metres     NaN  \n",
       "5782  Athletics Men's 100 metres     NaN  "
      ]
     },
     "execution_count": 17,
     "metadata": {},
     "output_type": "execute_result"
    }
   ],
   "source": [
    "men_100m = olympics[(olympics['Event'] == 'Athletics Men\\'s 100 metres') &  (olympics['Team'] == 'United States')]\n",
    "\n",
    "print(men_100m.shape)\n",
    "men_100m.head()"
   ]
  },
  {
   "cell_type": "code",
   "execution_count": 18,
   "metadata": {},
   "outputs": [
    {
     "data": {
      "image/png": "[encoded data removed]",
      "text/plain": [
       "<Figure size 640x480 with 1 Axes>"
      ]
     },
     "metadata": {},
     "output_type": "display_data"
    },
    {
     "name": "stdout",
     "output_type": "stream",
     "text": [
      "<ggplot: (81680167779)>\n"
     ]
    }
   ],
   "source": [
    "# Create the scatter plot\n",
    "print(p9.ggplot(men_100m)+ p9.aes(x='Year', y='Weight', color='Event')+  p9.geom_point())"
   ]
  },
  {
   "cell_type": "code",
   "execution_count": 19,
   "metadata": {},
   "outputs": [
    {
     "name": "stdout",
     "output_type": "stream",
     "text": [
      "(nan, 1.0)\n",
      "No significant correlation found\n"
     ]
    }
   ],
   "source": [
    "# Run the correlation test\n",
    "pearson = stats.pearsonr(men_100m['Year'], men_100m['Weight'])\n",
    "print(pearson)\n",
    "\n",
    "# Test if p-value is bigger or smaller than alpha\n",
    "alpha = 0.05\n",
    "if pearson[1] < alpha:\n",
    "    print(\"Weights and year are significantly correlated\")\n",
    "else:\n",
    "    print(\"No significant correlation found\")"
   ]
  },
  {
   "cell_type": "markdown",
   "metadata": {},
   "source": [
    "**Exploring confounding variables**\n",
    "\n",
    "In this exercise, you're going to do some exploratory data analysis (EDA) to better understand confounding variables. Once again, we'll be looking at trends in weights of Olympic athletes from the athletes DataFrame. We are interested in possible differences between the weights of athletes from different countries, which may be more difficult to determine than it seems."
   ]
  },
  {
   "cell_type": "code",
   "execution_count": 20,
   "metadata": {},
   "outputs": [
    {
     "name": "stdout",
     "output_type": "stream",
     "text": [
      "(772, 14)\n"
     ]
    },
    {
     "data": {
      "text/html": [
       "<div>\n",
       "<style scoped>\n",
       "    .dataframe tbody tr th:only-of-type {\n",
       "        vertical-align: middle;\n",
       "    }\n",
       "\n",
       "    .dataframe tbody tr th {\n",
       "        vertical-align: top;\n",
       "    }\n",
       "\n",
       "    .dataframe thead th {\n",
       "        text-align: right;\n",
       "    }\n",
       "</style>\n",
       "<table border=\"1\" class=\"dataframe\">\n",
       "  <thead>\n",
       "    <tr style=\"text-align: right;\">\n",
       "      <th></th>\n",
       "      <th>Unnamed: 0</th>\n",
       "      <th>Name</th>\n",
       "      <th>Sex</th>\n",
       "      <th>Age</th>\n",
       "      <th>Height</th>\n",
       "      <th>Weight</th>\n",
       "      <th>Team</th>\n",
       "      <th>NOC</th>\n",
       "      <th>Games</th>\n",
       "      <th>Year</th>\n",
       "      <th>City</th>\n",
       "      <th>Sport</th>\n",
       "      <th>Event</th>\n",
       "      <th>Medal</th>\n",
       "    </tr>\n",
       "  </thead>\n",
       "  <tbody>\n",
       "    <tr>\n",
       "      <th>144</th>\n",
       "      <td>655</td>\n",
       "      <td>Addis Abebe</td>\n",
       "      <td>M</td>\n",
       "      <td>21.0</td>\n",
       "      <td>160.0</td>\n",
       "      <td>50.0</td>\n",
       "      <td>Ethiopia</td>\n",
       "      <td>ETH</td>\n",
       "      <td>1992 Summer</td>\n",
       "      <td>1992</td>\n",
       "      <td>Barcelona</td>\n",
       "      <td>Athletics</td>\n",
       "      <td>Athletics Men's 5,000 metres</td>\n",
       "      <td>NaN</td>\n",
       "    </tr>\n",
       "    <tr>\n",
       "      <th>145</th>\n",
       "      <td>656</td>\n",
       "      <td>Addis Abebe</td>\n",
       "      <td>M</td>\n",
       "      <td>21.0</td>\n",
       "      <td>160.0</td>\n",
       "      <td>50.0</td>\n",
       "      <td>Ethiopia</td>\n",
       "      <td>ETH</td>\n",
       "      <td>1992 Summer</td>\n",
       "      <td>1992</td>\n",
       "      <td>Barcelona</td>\n",
       "      <td>Athletics</td>\n",
       "      <td>Athletics Men's 10,000 metres</td>\n",
       "      <td>Bronze</td>\n",
       "    </tr>\n",
       "    <tr>\n",
       "      <th>152</th>\n",
       "      <td>721</td>\n",
       "      <td>Gezahgne Abera</td>\n",
       "      <td>M</td>\n",
       "      <td>22.0</td>\n",
       "      <td>166.0</td>\n",
       "      <td>58.0</td>\n",
       "      <td>Ethiopia</td>\n",
       "      <td>ETH</td>\n",
       "      <td>2000 Summer</td>\n",
       "      <td>2000</td>\n",
       "      <td>Sydney</td>\n",
       "      <td>Athletics</td>\n",
       "      <td>Athletics Men's Marathon</td>\n",
       "      <td>Gold</td>\n",
       "    </tr>\n",
       "    <tr>\n",
       "      <th>153</th>\n",
       "      <td>722</td>\n",
       "      <td>Tesfaye Abera Dibaba</td>\n",
       "      <td>M</td>\n",
       "      <td>24.0</td>\n",
       "      <td>192.0</td>\n",
       "      <td>68.0</td>\n",
       "      <td>Ethiopia</td>\n",
       "      <td>ETH</td>\n",
       "      <td>2016 Summer</td>\n",
       "      <td>2016</td>\n",
       "      <td>Rio de Janeiro</td>\n",
       "      <td>Athletics</td>\n",
       "      <td>Athletics Men's Marathon</td>\n",
       "      <td>NaN</td>\n",
       "    </tr>\n",
       "    <tr>\n",
       "      <th>250</th>\n",
       "      <td>1049</td>\n",
       "      <td>Ayele Abshero Biza</td>\n",
       "      <td>M</td>\n",
       "      <td>21.0</td>\n",
       "      <td>168.0</td>\n",
       "      <td>62.0</td>\n",
       "      <td>Ethiopia</td>\n",
       "      <td>ETH</td>\n",
       "      <td>2012 Summer</td>\n",
       "      <td>2012</td>\n",
       "      <td>London</td>\n",
       "      <td>Athletics</td>\n",
       "      <td>Athletics Men's Marathon</td>\n",
       "      <td>NaN</td>\n",
       "    </tr>\n",
       "  </tbody>\n",
       "</table>\n",
       "</div>"
      ],
      "text/plain": [
       "     Unnamed: 0                  Name Sex   Age  Height  Weight      Team  \\\n",
       "144         655           Addis Abebe   M  21.0   160.0    50.0  Ethiopia   \n",
       "145         656           Addis Abebe   M  21.0   160.0    50.0  Ethiopia   \n",
       "152         721        Gezahgne Abera   M  22.0   166.0    58.0  Ethiopia   \n",
       "153         722  Tesfaye Abera Dibaba   M  24.0   192.0    68.0  Ethiopia   \n",
       "250        1049    Ayele Abshero Biza   M  21.0   168.0    62.0  Ethiopia   \n",
       "\n",
       "     NOC        Games  Year            City      Sport  \\\n",
       "144  ETH  1992 Summer  1992       Barcelona  Athletics   \n",
       "145  ETH  1992 Summer  1992       Barcelona  Athletics   \n",
       "152  ETH  2000 Summer  2000          Sydney  Athletics   \n",
       "153  ETH  2016 Summer  2016  Rio de Janeiro  Athletics   \n",
       "250  ETH  2012 Summer  2012          London  Athletics   \n",
       "\n",
       "                             Event   Medal  \n",
       "144   Athletics Men's 5,000 metres     NaN  \n",
       "145  Athletics Men's 10,000 metres  Bronze  \n",
       "152       Athletics Men's Marathon    Gold  \n",
       "153       Athletics Men's Marathon     NaN  \n",
       "250       Athletics Men's Marathon     NaN  "
      ]
     },
     "execution_count": 20,
     "metadata": {},
     "output_type": "execute_result"
    }
   ],
   "source": [
    "# Extract athletes from either Kenya or Ethopia\n",
    "\n",
    "kenya_ethopia = olympics[(olympics['Team'] == 'Kenya') | (olympics['Team'] == 'Ethiopia')]\n",
    "\n",
    "print(kenya_ethopia.shape)\n",
    "\n",
    "kenya_ethopia.head()"
   ]
  },
  {
   "cell_type": "code",
   "execution_count": 21,
   "metadata": {},
   "outputs": [
    {
     "data": {
      "image/png": "[encoded data removed]",
      "text/plain": [
       "<Figure size 640x480 with 1 Axes>"
      ]
     },
     "metadata": {},
     "output_type": "display_data"
    },
    {
     "name": "stdout",
     "output_type": "stream",
     "text": [
      "<ggplot: (-9223371955174609671)> "
     ]
    },
    {
     "data": {
      "image/png": "[encoded data removed]",
      "text/plain": [
       "<Figure size 640x480 with 1 Axes>"
      ]
     },
     "metadata": {},
     "output_type": "display_data"
    },
    {
     "name": "stdout",
     "output_type": "stream",
     "text": [
      "<ggplot: (-9223371955174609818)>\n",
      "Sport     Athletics  Swimming\n",
      "Team                         \n",
      "Ethiopia        289         4\n",
      "Kenya           466        13\n"
     ]
    }
   ],
   "source": [
    "# Create boxplot of Team versus Weight\n",
    "plotTeamVWeight = p9.ggplot(kenya_ethopia)+ p9.aes('Team','Weight')+ p9.geom_boxplot()\n",
    "\n",
    "# Create boxplot of Sport versus Weight\n",
    "plotSportVWeight = p9.ggplot(kenya_ethopia)+ p9.aes('Sport','Weight')+ p9.geom_boxplot()\n",
    "      \n",
    "# Print plots \n",
    "print(plotTeamVWeight, plotSportVWeight)\n",
    "\n",
    "# Create crosstabulation & print table\n",
    "table = pd.crosstab(kenya_ethopia['Team'], kenya_ethopia['Sport'])\n",
    "print(table)"
   ]
  },
  {
   "cell_type": "markdown",
   "metadata": {},
   "source": [
    "**Finding confounding variables**\n",
    "\n",
    "We're going to explore the topic of confounding a little more. Returning to our UN demographic data, we'll again be looking to make a comparison between countries in Asia and Europe. Here we're interested in comparing Asian and European life expectancy, using a DataFrame provided as euasdata. For each Country, you have three figures available: their GDP per capita in USD (GDP_per_cap), their female life expectancy (Life_exp) and their unemployment rate (Unemployment). Which of these factors may be confounding? You'll need to create some plots in order to explore these issues. pandas and plotnine have been loaded into the workspace as pd and p9."
   ]
  },
  {
   "cell_type": "code",
   "execution_count": 22,
   "metadata": {},
   "outputs": [
    {
     "data": {
      "text/html": [
       "<div>\n",
       "<style scoped>\n",
       "    .dataframe tbody tr th:only-of-type {\n",
       "        vertical-align: middle;\n",
       "    }\n",
       "\n",
       "    .dataframe tbody tr th {\n",
       "        vertical-align: top;\n",
       "    }\n",
       "\n",
       "    .dataframe thead th {\n",
       "        text-align: right;\n",
       "    }\n",
       "</style>\n",
       "<table border=\"1\" class=\"dataframe\">\n",
       "  <thead>\n",
       "    <tr style=\"text-align: right;\">\n",
       "      <th></th>\n",
       "      <th>country</th>\n",
       "      <th>Region</th>\n",
       "      <th>Surface area (km2)</th>\n",
       "      <th>Population in thousands (2017)</th>\n",
       "      <th>Population density (per km2, 2017)</th>\n",
       "      <th>Sex ratio</th>\n",
       "      <th>GDP: Gross domestic product (million current US$)</th>\n",
       "      <th>GDP growth rate (annual %, const. 2005 prices)</th>\n",
       "      <th>GDP per capita (current US$)</th>\n",
       "      <th>Economy: Agriculture (% of GVA)</th>\n",
       "      <th>...</th>\n",
       "      <th>Individuals using the Internet (per 100 inhabitants)</th>\n",
       "      <th>Threatened species (number)</th>\n",
       "      <th>Forested area (% of land area)</th>\n",
       "      <th>CO2 emission estimates (million tons/tons per capita)</th>\n",
       "      <th>Energy production, primary (Petajoules)</th>\n",
       "      <th>Energy supply per capita (Gigajoules)</th>\n",
       "      <th>Pop. using improved drinking water (urban/rural, %)</th>\n",
       "      <th>Pop. using improved sanitation facilities (urban/rural, %)</th>\n",
       "      <th>Net Official Development Assist. received (% of GNI)</th>\n",
       "      <th>Continent</th>\n",
       "    </tr>\n",
       "  </thead>\n",
       "  <tbody>\n",
       "    <tr>\n",
       "      <th>1</th>\n",
       "      <td>Albania</td>\n",
       "      <td>SouthernEurope</td>\n",
       "      <td>28748</td>\n",
       "      <td>2930</td>\n",
       "      <td>106.9</td>\n",
       "      <td>101.9</td>\n",
       "      <td>11541.0</td>\n",
       "      <td>2.6</td>\n",
       "      <td>3984.2</td>\n",
       "      <td>22.4</td>\n",
       "      <td>...</td>\n",
       "      <td>130.0</td>\n",
       "      <td>28.2</td>\n",
       "      <td>5.7/2.0</td>\n",
       "      <td>84.0</td>\n",
       "      <td>36.0</td>\n",
       "      <td>94.9/95.2</td>\n",
       "      <td>95.5/90.2</td>\n",
       "      <td>2.96</td>\n",
       "      <td>NaN</td>\n",
       "      <td>Europe</td>\n",
       "    </tr>\n",
       "    <tr>\n",
       "      <th>4</th>\n",
       "      <td>Andorra</td>\n",
       "      <td>SouthernEurope</td>\n",
       "      <td>468</td>\n",
       "      <td>77</td>\n",
       "      <td>163.8</td>\n",
       "      <td>102.3</td>\n",
       "      <td>2812.0</td>\n",
       "      <td>0.8</td>\n",
       "      <td>39896.4</td>\n",
       "      <td>0.5</td>\n",
       "      <td>...</td>\n",
       "      <td>13.0</td>\n",
       "      <td>34</td>\n",
       "      <td>0.5/6.4</td>\n",
       "      <td>1.0</td>\n",
       "      <td>119.0</td>\n",
       "      <td>100.0/100.0</td>\n",
       "      <td>100.0/100.0</td>\n",
       "      <td>NaN</td>\n",
       "      <td>NaN</td>\n",
       "      <td>Europe</td>\n",
       "    </tr>\n",
       "    <tr>\n",
       "      <th>12</th>\n",
       "      <td>Austria</td>\n",
       "      <td>WesternEurope</td>\n",
       "      <td>83871</td>\n",
       "      <td>8736</td>\n",
       "      <td>106.0</td>\n",
       "      <td>96.2</td>\n",
       "      <td>376967.0</td>\n",
       "      <td>1</td>\n",
       "      <td>44117.7</td>\n",
       "      <td>1.3</td>\n",
       "      <td>...</td>\n",
       "      <td>118.0</td>\n",
       "      <td>46.9</td>\n",
       "      <td>58.7/6.9</td>\n",
       "      <td>505.0</td>\n",
       "      <td>158.0</td>\n",
       "      <td>100.0/100.0</td>\n",
       "      <td>100.0/100.0</td>\n",
       "      <td>NaN</td>\n",
       "      <td>NaN</td>\n",
       "      <td>Europe</td>\n",
       "    </tr>\n",
       "    <tr>\n",
       "      <th>18</th>\n",
       "      <td>Belarus</td>\n",
       "      <td>EasternEurope</td>\n",
       "      <td>207600</td>\n",
       "      <td>9468</td>\n",
       "      <td>46.7</td>\n",
       "      <td>87.0</td>\n",
       "      <td>54609.0</td>\n",
       "      <td>-3.9</td>\n",
       "      <td>5750.8</td>\n",
       "      <td>7.5</td>\n",
       "      <td>...</td>\n",
       "      <td>25.0</td>\n",
       "      <td>42.5</td>\n",
       "      <td>63.5/6.7</td>\n",
       "      <td>155.0</td>\n",
       "      <td>122.0</td>\n",
       "      <td>99.9/99.1</td>\n",
       "      <td>94.1/95.2</td>\n",
       "      <td>0.2</td>\n",
       "      <td>NaN</td>\n",
       "      <td>Europe</td>\n",
       "    </tr>\n",
       "    <tr>\n",
       "      <th>19</th>\n",
       "      <td>Belgium</td>\n",
       "      <td>WesternEurope</td>\n",
       "      <td>30528</td>\n",
       "      <td>11429</td>\n",
       "      <td>377.5</td>\n",
       "      <td>97.3</td>\n",
       "      <td>455107.0</td>\n",
       "      <td>1.5</td>\n",
       "      <td>40277.8</td>\n",
       "      <td>0.7</td>\n",
       "      <td>...</td>\n",
       "      <td>37.0</td>\n",
       "      <td>22.6</td>\n",
       "      <td>93.4/8.3</td>\n",
       "      <td>520.0</td>\n",
       "      <td>196.0</td>\n",
       "      <td>100.0/100.0</td>\n",
       "      <td>99.5/99.4</td>\n",
       "      <td>NaN</td>\n",
       "      <td>NaN</td>\n",
       "      <td>Europe</td>\n",
       "    </tr>\n",
       "  </tbody>\n",
       "</table>\n",
       "<p>5 rows × 51 columns</p>\n",
       "</div>"
      ],
      "text/plain": [
       "    country          Region Surface area (km2)  \\\n",
       "1   Albania  SouthernEurope              28748   \n",
       "4   Andorra  SouthernEurope                468   \n",
       "12  Austria   WesternEurope              83871   \n",
       "18  Belarus   EasternEurope             207600   \n",
       "19  Belgium   WesternEurope              30528   \n",
       "\n",
       "    Population in thousands (2017)  Population density (per km2, 2017)  \\\n",
       "1                             2930                               106.9   \n",
       "4                               77                               163.8   \n",
       "12                            8736                               106.0   \n",
       "18                            9468                                46.7   \n",
       "19                           11429                               377.5   \n",
       "\n",
       "    Sex ratio  GDP: Gross domestic product (million current US$)  \\\n",
       "1       101.9                                            11541.0   \n",
       "4       102.3                                             2812.0   \n",
       "12       96.2                                           376967.0   \n",
       "18       87.0                                            54609.0   \n",
       "19       97.3                                           455107.0   \n",
       "\n",
       "   GDP growth rate (annual %, const. 2005 prices)  \\\n",
       "1                                             2.6   \n",
       "4                                             0.8   \n",
       "12                                              1   \n",
       "18                                           -3.9   \n",
       "19                                            1.5   \n",
       "\n",
       "    GDP per capita (current US$) Economy: Agriculture (% of GVA)  ...  \\\n",
       "1                         3984.2                            22.4  ...   \n",
       "4                        39896.4                             0.5  ...   \n",
       "12                       44117.7                             1.3  ...   \n",
       "18                        5750.8                             7.5  ...   \n",
       "19                       40277.8                             0.7  ...   \n",
       "\n",
       "    Individuals using the Internet (per 100 inhabitants)  \\\n",
       "1                                               130.0      \n",
       "4                                                13.0      \n",
       "12                                              118.0      \n",
       "18                                               25.0      \n",
       "19                                               37.0      \n",
       "\n",
       "    Threatened species (number) Forested area (% of land area)  \\\n",
       "1                          28.2                        5.7/2.0   \n",
       "4                            34                        0.5/6.4   \n",
       "12                         46.9                       58.7/6.9   \n",
       "18                         42.5                       63.5/6.7   \n",
       "19                         22.6                       93.4/8.3   \n",
       "\n",
       "   CO2 emission estimates (million tons/tons per capita)  \\\n",
       "1                                                84.0      \n",
       "4                                                 1.0      \n",
       "12                                              505.0      \n",
       "18                                              155.0      \n",
       "19                                              520.0      \n",
       "\n",
       "   Energy production, primary (Petajoules)  \\\n",
       "1                                     36.0   \n",
       "4                                    119.0   \n",
       "12                                   158.0   \n",
       "18                                   122.0   \n",
       "19                                   196.0   \n",
       "\n",
       "   Energy supply per capita (Gigajoules)  \\\n",
       "1                              94.9/95.2   \n",
       "4                            100.0/100.0   \n",
       "12                           100.0/100.0   \n",
       "18                             99.9/99.1   \n",
       "19                           100.0/100.0   \n",
       "\n",
       "   Pop. using improved drinking water (urban/rural, %)  \\\n",
       "1                                           95.5/90.2    \n",
       "4                                         100.0/100.0    \n",
       "12                                        100.0/100.0    \n",
       "18                                          94.1/95.2    \n",
       "19                                          99.5/99.4    \n",
       "\n",
       "    Pop. using improved sanitation facilities (urban/rural, %)  \\\n",
       "1                                                2.96            \n",
       "4                                                 NaN            \n",
       "12                                                NaN            \n",
       "18                                                0.2            \n",
       "19                                                NaN            \n",
       "\n",
       "    Net Official Development Assist. received (% of GNI) Continent  \n",
       "1                                                 NaN       Europe  \n",
       "4                                                 NaN       Europe  \n",
       "12                                                NaN       Europe  \n",
       "18                                                NaN       Europe  \n",
       "19                                                NaN       Europe  \n",
       "\n",
       "[5 rows x 51 columns]"
      ]
     },
     "execution_count": 22,
     "metadata": {},
     "output_type": "execute_result"
    }
   ],
   "source": [
    "asia['Continent'] = 'Asia'\n",
    "europe['Continent'] = 'Europe'\n",
    "\n",
    "europe.head()"
   ]
  },
  {
   "cell_type": "code",
   "execution_count": 23,
   "metadata": {},
   "outputs": [
    {
     "name": "stdout",
     "output_type": "stream",
     "text": [
      "(98, 51)\n"
     ]
    },
    {
     "data": {
      "text/html": [
       "<div>\n",
       "<style scoped>\n",
       "    .dataframe tbody tr th:only-of-type {\n",
       "        vertical-align: middle;\n",
       "    }\n",
       "\n",
       "    .dataframe tbody tr th {\n",
       "        vertical-align: top;\n",
       "    }\n",
       "\n",
       "    .dataframe thead th {\n",
       "        text-align: right;\n",
       "    }\n",
       "</style>\n",
       "<table border=\"1\" class=\"dataframe\">\n",
       "  <thead>\n",
       "    <tr style=\"text-align: right;\">\n",
       "      <th></th>\n",
       "      <th>country</th>\n",
       "      <th>Region</th>\n",
       "      <th>Surface area (km2)</th>\n",
       "      <th>Population in thousands (2017)</th>\n",
       "      <th>Population density (per km2, 2017)</th>\n",
       "      <th>Sex ratio</th>\n",
       "      <th>GDP: Gross domestic product (million current US$)</th>\n",
       "      <th>GDP growth rate (annual %, const. 2005 prices)</th>\n",
       "      <th>GDP per capita (current US$)</th>\n",
       "      <th>Economy: Agriculture (% of GVA)</th>\n",
       "      <th>...</th>\n",
       "      <th>Individuals using the Internet (per 100 inhabitants)</th>\n",
       "      <th>Threatened species (number)</th>\n",
       "      <th>Forested area (% of land area)</th>\n",
       "      <th>CO2 emission estimates (million tons/tons per capita)</th>\n",
       "      <th>Energy production, primary (Petajoules)</th>\n",
       "      <th>Energy supply per capita (Gigajoules)</th>\n",
       "      <th>Pop. using improved drinking water (urban/rural, %)</th>\n",
       "      <th>Pop. using improved sanitation facilities (urban/rural, %)</th>\n",
       "      <th>Net Official Development Assist. received (% of GNI)</th>\n",
       "      <th>Continent</th>\n",
       "    </tr>\n",
       "  </thead>\n",
       "  <tbody>\n",
       "    <tr>\n",
       "      <th>0</th>\n",
       "      <td>Afghanistan</td>\n",
       "      <td>SouthernAsia</td>\n",
       "      <td>652864</td>\n",
       "      <td>35530</td>\n",
       "      <td>54.4</td>\n",
       "      <td>106.3</td>\n",
       "      <td>20270.0</td>\n",
       "      <td>-2.4</td>\n",
       "      <td>623.2</td>\n",
       "      <td>23.3</td>\n",
       "      <td>...</td>\n",
       "      <td>42.0</td>\n",
       "      <td>2.1</td>\n",
       "      <td>9.8/0.3</td>\n",
       "      <td>63.0</td>\n",
       "      <td>5.0</td>\n",
       "      <td>78.2/47.0</td>\n",
       "      <td>45.1/27.0</td>\n",
       "      <td>21.43</td>\n",
       "      <td>NaN</td>\n",
       "      <td>Asia</td>\n",
       "    </tr>\n",
       "    <tr>\n",
       "      <th>9</th>\n",
       "      <td>Armenia</td>\n",
       "      <td>WesternAsia</td>\n",
       "      <td>29743</td>\n",
       "      <td>2930</td>\n",
       "      <td>102.9</td>\n",
       "      <td>88.8</td>\n",
       "      <td>10529.0</td>\n",
       "      <td>3</td>\n",
       "      <td>3489.1</td>\n",
       "      <td>19</td>\n",
       "      <td>...</td>\n",
       "      <td>114.0</td>\n",
       "      <td>11.7</td>\n",
       "      <td>5.5/1.8</td>\n",
       "      <td>48.0</td>\n",
       "      <td>46.0</td>\n",
       "      <td>100.0/100.0</td>\n",
       "      <td>96.2/78.2</td>\n",
       "      <td>3.17</td>\n",
       "      <td>NaN</td>\n",
       "      <td>Asia</td>\n",
       "    </tr>\n",
       "    <tr>\n",
       "      <th>13</th>\n",
       "      <td>Azerbaijan</td>\n",
       "      <td>WesternAsia</td>\n",
       "      <td>86600</td>\n",
       "      <td>9828</td>\n",
       "      <td>118.9</td>\n",
       "      <td>99.3</td>\n",
       "      <td>53049.0</td>\n",
       "      <td>0.7</td>\n",
       "      <td>5438.7</td>\n",
       "      <td>6.7</td>\n",
       "      <td>...</td>\n",
       "      <td>97.0</td>\n",
       "      <td>13.5</td>\n",
       "      <td>37.5/3.9</td>\n",
       "      <td>2459.0</td>\n",
       "      <td>61.0</td>\n",
       "      <td>94.7/77.8</td>\n",
       "      <td>91.6/86.6</td>\n",
       "      <td>0.14</td>\n",
       "      <td>NaN</td>\n",
       "      <td>Asia</td>\n",
       "    </tr>\n",
       "    <tr>\n",
       "      <th>15</th>\n",
       "      <td>Bahrain</td>\n",
       "      <td>WesternAsia</td>\n",
       "      <td>771</td>\n",
       "      <td>1493</td>\n",
       "      <td>1963.9</td>\n",
       "      <td>168.3</td>\n",
       "      <td>31126.0</td>\n",
       "      <td>2.9</td>\n",
       "      <td>22600.2</td>\n",
       "      <td>0.3</td>\n",
       "      <td>...</td>\n",
       "      <td>36.0</td>\n",
       "      <td>0.8</td>\n",
       "      <td>31.3/23.0</td>\n",
       "      <td>961.0</td>\n",
       "      <td>413.0</td>\n",
       "      <td>100.0/100.0</td>\n",
       "      <td>99.2/99.2</td>\n",
       "      <td>NaN</td>\n",
       "      <td>NaN</td>\n",
       "      <td>Asia</td>\n",
       "    </tr>\n",
       "    <tr>\n",
       "      <th>16</th>\n",
       "      <td>Bangladesh</td>\n",
       "      <td>SouthernAsia</td>\n",
       "      <td>147570</td>\n",
       "      <td>164670</td>\n",
       "      <td>1265.0</td>\n",
       "      <td>101.7</td>\n",
       "      <td>194466.0</td>\n",
       "      <td>6.6</td>\n",
       "      <td>1207.9</td>\n",
       "      <td>15.5</td>\n",
       "      <td>...</td>\n",
       "      <td>151.0</td>\n",
       "      <td>11</td>\n",
       "      <td>73.2/0.5</td>\n",
       "      <td>1438.0</td>\n",
       "      <td>11.0</td>\n",
       "      <td>86.5/87.0</td>\n",
       "      <td>57.7/62.1</td>\n",
       "      <td>1.24</td>\n",
       "      <td>NaN</td>\n",
       "      <td>Asia</td>\n",
       "    </tr>\n",
       "  </tbody>\n",
       "</table>\n",
       "<p>5 rows × 51 columns</p>\n",
       "</div>"
      ],
      "text/plain": [
       "        country        Region Surface area (km2)  \\\n",
       "0   Afghanistan  SouthernAsia             652864   \n",
       "9       Armenia   WesternAsia              29743   \n",
       "13   Azerbaijan   WesternAsia              86600   \n",
       "15      Bahrain   WesternAsia                771   \n",
       "16   Bangladesh  SouthernAsia             147570   \n",
       "\n",
       "    Population in thousands (2017)  Population density (per km2, 2017)  \\\n",
       "0                            35530                                54.4   \n",
       "9                             2930                               102.9   \n",
       "13                            9828                               118.9   \n",
       "15                            1493                              1963.9   \n",
       "16                          164670                              1265.0   \n",
       "\n",
       "    Sex ratio  GDP: Gross domestic product (million current US$)  \\\n",
       "0       106.3                                            20270.0   \n",
       "9        88.8                                            10529.0   \n",
       "13       99.3                                            53049.0   \n",
       "15      168.3                                            31126.0   \n",
       "16      101.7                                           194466.0   \n",
       "\n",
       "   GDP growth rate (annual %, const. 2005 prices)  \\\n",
       "0                                            -2.4   \n",
       "9                                               3   \n",
       "13                                            0.7   \n",
       "15                                            2.9   \n",
       "16                                            6.6   \n",
       "\n",
       "    GDP per capita (current US$) Economy: Agriculture (% of GVA)  ...  \\\n",
       "0                          623.2                            23.3  ...   \n",
       "9                         3489.1                              19  ...   \n",
       "13                        5438.7                             6.7  ...   \n",
       "15                       22600.2                             0.3  ...   \n",
       "16                        1207.9                            15.5  ...   \n",
       "\n",
       "    Individuals using the Internet (per 100 inhabitants)  \\\n",
       "0                                                42.0      \n",
       "9                                               114.0      \n",
       "13                                               97.0      \n",
       "15                                               36.0      \n",
       "16                                              151.0      \n",
       "\n",
       "    Threatened species (number) Forested area (% of land area)  \\\n",
       "0                           2.1                        9.8/0.3   \n",
       "9                          11.7                        5.5/1.8   \n",
       "13                         13.5                       37.5/3.9   \n",
       "15                          0.8                      31.3/23.0   \n",
       "16                           11                       73.2/0.5   \n",
       "\n",
       "   CO2 emission estimates (million tons/tons per capita)  \\\n",
       "0                                                63.0      \n",
       "9                                                48.0      \n",
       "13                                             2459.0      \n",
       "15                                              961.0      \n",
       "16                                             1438.0      \n",
       "\n",
       "   Energy production, primary (Petajoules)  \\\n",
       "0                                      5.0   \n",
       "9                                     46.0   \n",
       "13                                    61.0   \n",
       "15                                   413.0   \n",
       "16                                    11.0   \n",
       "\n",
       "   Energy supply per capita (Gigajoules)  \\\n",
       "0                              78.2/47.0   \n",
       "9                            100.0/100.0   \n",
       "13                             94.7/77.8   \n",
       "15                           100.0/100.0   \n",
       "16                             86.5/87.0   \n",
       "\n",
       "   Pop. using improved drinking water (urban/rural, %)  \\\n",
       "0                                           45.1/27.0    \n",
       "9                                           96.2/78.2    \n",
       "13                                          91.6/86.6    \n",
       "15                                          99.2/99.2    \n",
       "16                                          57.7/62.1    \n",
       "\n",
       "    Pop. using improved sanitation facilities (urban/rural, %)  \\\n",
       "0                                               21.43            \n",
       "9                                                3.17            \n",
       "13                                               0.14            \n",
       "15                                                NaN            \n",
       "16                                               1.24            \n",
       "\n",
       "    Net Official Development Assist. received (% of GNI) Continent  \n",
       "0                                                 NaN         Asia  \n",
       "9                                                 NaN         Asia  \n",
       "13                                                NaN         Asia  \n",
       "15                                                NaN         Asia  \n",
       "16                                                NaN         Asia  \n",
       "\n",
       "[5 rows x 51 columns]"
      ]
     },
     "execution_count": 23,
     "metadata": {},
     "output_type": "execute_result"
    }
   ],
   "source": [
    "euasdata = asia.append(europe)\n",
    "print(euasdata.shape)\n",
    "\n",
    "euasdata.head()"
   ]
  },
  {
   "cell_type": "code",
   "execution_count": 24,
   "metadata": {},
   "outputs": [
    {
     "data": {
      "text/plain": [
       "0      63.5/61.0\n",
       "9      77.0/70.6\n",
       "13     74.6/68.6\n",
       "15     77.5/75.6\n",
       "16     72.9/69.8\n",
       "23     68.9/68.6\n",
       "30     78.4/75.1\n",
       "35     69.6/65.5\n",
       "43     86.4/80.5\n",
       "44     86.2/80.3\n",
       "45     77.2/74.2\n",
       "53     82.2/77.7\n",
       "55     74.1/67.2\n",
       "77     77.0/68.5\n",
       "95     69.1/66.2\n",
       "96     70.7/66.6\n",
       "97     76.2/74.0\n",
       "98     71.4/67.0\n",
       "101    83.7/80.0\n",
       "104    86.4/80.0\n",
       "105    75.5/72.2\n",
       "106    73.9/64.3\n",
       "109    75.5/73.5\n",
       "110    74.3/66.4\n",
       "111    66.8/63.9\n",
       "113    80.9/77.3\n",
       "122    77.1/72.6\n",
       "123    77.4/75.4\n",
       "134    72.7/64.5\n",
       "139    68.3/63.7\n",
       "         ...    \n",
       "91           NaN\n",
       "93     78.8/71.7\n",
       "94     83.8/80.6\n",
       "99     83.0/78.7\n",
       "100          NaN\n",
       "102    84.7/79.9\n",
       "112    78.7/68.8\n",
       "117          NaN\n",
       "118    79.3/68.5\n",
       "119    83.4/78.8\n",
       "125    82.0/78.6\n",
       "133          NaN\n",
       "135    78.8/74.0\n",
       "143    83.1/79.4\n",
       "151    83.6/79.5\n",
       "160    81.0/72.9\n",
       "161    83.5/77.3\n",
       "165    75.2/66.7\n",
       "166    78.4/71.4\n",
       "167    75.9/64.7\n",
       "175    86.4/81.7\n",
       "179    77.5/71.8\n",
       "184    79.8/72.6\n",
       "185    83.2/77.2\n",
       "190    85.3/79.6\n",
       "196    83.7/80.0\n",
       "197    84.8/80.5\n",
       "201    77.2/73.2\n",
       "213    76.0/66.1\n",
       "215    82.8/79.0\n",
       "Name: Life expectancy at birth (females/males, years), Length: 98, dtype: object"
      ]
     },
     "execution_count": 24,
     "metadata": {},
     "output_type": "execute_result"
    }
   ],
   "source": [
    "euasdata['Life expectancy at birth (females/males, years)']"
   ]
  },
  {
   "cell_type": "code",
   "execution_count": 25,
   "metadata": {},
   "outputs": [],
   "source": [
    "euasdata = euasdata[euasdata['Life expectancy at birth (females/males, years)'] != '.../...']"
   ]
  },
  {
   "cell_type": "code",
   "execution_count": 26,
   "metadata": {},
   "outputs": [],
   "source": [
    "euasdata['Female Life Expectancy'] = euasdata['Life expectancy at birth (females/males, years)'].str[:4]"
   ]
  },
  {
   "cell_type": "code",
   "execution_count": 27,
   "metadata": {},
   "outputs": [],
   "source": [
    "euasdata['Female Life Expectancy'].dropna(inplace = True)"
   ]
  },
  {
   "cell_type": "code",
   "execution_count": 28,
   "metadata": {},
   "outputs": [
    {
     "data": {
      "text/plain": [
       "array(['63.5', '77.0', '74.6', '77.5', '72.9', '68.9', '78.4', '69.6',\n",
       "       '86.4', '86.2', '77.2', '82.2', '74.1', '69.1', '70.7', '76.2',\n",
       "       '71.4', '83.7', '75.5', '73.9', '74.3', '66.8', '80.9', '77.1',\n",
       "       '77.4', '72.7', '68.3', '70.4', '78.7', '72.1', '79.4', '84.4',\n",
       "       '75.6', '84.5', '78.0', '74.8', '76.3', '73.5', '69.5', '78.1',\n",
       "       '70.8', '78.2', '80.3', '65.6', '79.9', '83.5', '77.7', '83.0',\n",
       "       '78.8', '77.8', '82.4', '80.4', '81.2', '85.0', '82.9', '83.3',\n",
       "       '83.8', '84.7', '79.3', '83.4', '82.0', '83.1', '83.6', '81.0',\n",
       "       '75.2', '75.9', '79.8', '83.2', '85.3', '84.8', '76.0', '82.8'],\n",
       "      dtype=object)"
      ]
     },
     "execution_count": 28,
     "metadata": {},
     "output_type": "execute_result"
    }
   ],
   "source": [
    "euasdata['Female Life Expectancy'].unique()"
   ]
  },
  {
   "cell_type": "code",
   "execution_count": 29,
   "metadata": {},
   "outputs": [
    {
     "data": {
      "image/png": "[encoded data removed]",
      "text/plain": [
       "<Figure size 640x480 with 1 Axes>"
      ]
     },
     "metadata": {},
     "output_type": "display_data"
    },
    {
     "name": "stdout",
     "output_type": "stream",
     "text": [
      "<ggplot: (81681029517)> "
     ]
    },
    {
     "data": {
      "image/png": "[encoded data removed]",
      "text/plain": [
       "<Figure size 640x480 with 1 Axes>"
      ]
     },
     "metadata": {},
     "output_type": "display_data"
    },
    {
     "name": "stdout",
     "output_type": "stream",
     "text": [
      "<ggplot: (81681029622)>\n"
     ]
    }
   ],
   "source": [
    "# Life expectancy density plot\n",
    "plotLifeVCont = p9.ggplot(euasdata) + p9.aes(x='Female Life Expectancy', fill='Continent') +p9.geom_density(alpha=0.5)\n",
    "\n",
    "# GDP vs life expectancy scatter plot\n",
    "plotGDPVLife = p9.ggplot(euasdata) + p9.aes(x='GDP per capita (current US$)', y='Female Life Expectancy') +p9.geom_point()\n",
    "\n",
    "# GDP density plot\n",
    "plotGDPVCont = p9.ggplot(euasdata) + p9.aes(x='GDP per capita (current US$)', fill='Continent') + p9.geom_density(alpha=0.5)\n",
    "\n",
    "# Print plots\n",
    "print(plotGDPVLife, plotGDPVCont)\n",
    "\n",
    "\n",
    "#GDP per Capita appears to be the confounding variable because it correlates with life expectancy \n",
    "#and differs between the continents"
   ]
  },
  {
   "cell_type": "code",
   "execution_count": 30,
   "metadata": {},
   "outputs": [
    {
     "data": {
      "text/plain": [
       "(4824, 15)"
      ]
     },
     "execution_count": 30,
     "metadata": {},
     "output_type": "execute_result"
    }
   ],
   "source": [
    "americans.shape"
   ]
  },
  {
   "cell_type": "markdown",
   "metadata": {},
   "source": [
    "**Random sampling**\n",
    "\n",
    "In this exercise, we're going to look at random sampling. You have been provided with a large dataset (athletes) containing the details of a large number of American athletes. For the purposes of this exercise, we are interested in differences between the body Weight of competitors in swimming and athletics. In order to test this, you'll be using a two-sample t-test. However, you will be performing this test on a random sample of the data. By playing with the random subset chosen, you'll see how randomness affects our results. You will need to extract a random subset of athletes from both events in order to run your test."
   ]
  },
  {
   "cell_type": "code",
   "execution_count": 31,
   "metadata": {},
   "outputs": [],
   "source": [
    "# Create subsets\n",
    "seed = 0\n",
    "subsetathl = athletics.sample(n=50, random_state= seed)\n",
    "subsetswim = swimming.sample(n=50, random_state= seed)"
   ]
  },
  {
   "cell_type": "code",
   "execution_count": 32,
   "metadata": {},
   "outputs": [],
   "source": [
    "subsetathl['Weight'].dropna(inplace = True)\n",
    "subsetswim['Weight'].dropna(inplace = True)"
   ]
  },
  {
   "cell_type": "code",
   "execution_count": 33,
   "metadata": {},
   "outputs": [
    {
     "name": "stdout",
     "output_type": "stream",
     "text": [
      "Ttest_indResult(statistic=-0.5136265346773201, pvalue=0.6089288342819512)\n"
     ]
    }
   ],
   "source": [
    "#Performs two-sample t test on weight of athletes vs swimmers\n",
    "t_result = stats.ttest_ind(subsetathl.Weight, subsetswim.Weight)\n",
    "print(t_result) # No significant difference with this particular seed!"
   ]
  },
  {
   "cell_type": "markdown",
   "metadata": {},
   "source": [
    "**Blocking**\n",
    "\n",
    "We're going to have another look at the same data but, this time, we'll use blocking to improve our approach. Like last time, you'll be using a two-sample t-test on athlete Weight within your DataFrame, athletes. This time, however, you will control for Sex as a blocking factor, sampling equally from male and female participants. You will need to extract a random subset of athletes from both events to run your test. pandas, scipy.stats, plotnine, and random have been loaded into the workspace as pd, stats, p9, and ran, respectively."
   ]
  },
  {
   "cell_type": "code",
   "execution_count": 34,
   "metadata": {},
   "outputs": [
    {
     "name": "stdout",
     "output_type": "stream",
     "text": [
      "Ttest_indResult(statistic=-1.7819916586183633, pvalue=0.08094779480898769)\n"
     ]
    }
   ],
   "source": [
    "seed = 9000\n",
    "\n",
    "# Create subset blocks\n",
    "subsetathlm = athletics[athletics.Sex == 'M'].sample(n=15, random_state= seed)\n",
    "subsetathlf = athletics[athletics.Sex == 'F'].sample(n=15, random_state= seed)\n",
    "subsetswimm = swimming[swimming.Sex == 'M'].sample(n=15, random_state= seed)\n",
    "subsetswimf = swimming[swimming.Sex == 'F'].sample(n=15, random_state= seed)\n",
    "\n",
    "\n",
    "# Combine blocks\n",
    "subsetathl = pd.concat([subsetathlm, subsetathlf])\n",
    "subsetswim = pd.concat([subsetswimm, subsetswimf])\n",
    "\n",
    "#Drop nan\n",
    "subsetathl['Weight'].dropna(inplace = True)\n",
    "subsetswim['Weight'].dropna(inplace = True)\n",
    "\n",
    "# Perform the two-sample t-test\n",
    "print(stats.ttest_ind(subsetathl.Weight, subsetswim.Weight))"
   ]
  },
  {
   "cell_type": "markdown",
   "metadata": {},
   "source": [
    "**One-Way ANOVA** (1 factor with 3+ levels)\n",
    "\n",
    "Ex: Does potato production differ between 3 fertilizers?"
   ]
  },
  {
   "cell_type": "markdown",
   "metadata": {},
   "source": [
    "Let's have another look at some data from our Olympic dataset. How does the Weight of athletes vary between teams from different countries? In this exercise, you're going to use a one-way ANOVA to check for the presence of significant variation in Weight of Olympic athletes. You have been provided with the athletes DataFrame, containing details about male athletes from the Team of the United States, France, and China\n",
    "\n",
    "A one-way ANOVA will allow you to see whether any differences between these groups of values are significant."
   ]
  },
  {
   "cell_type": "code",
   "execution_count": 35,
   "metadata": {},
   "outputs": [],
   "source": [
    "France_athletes_weight = athletics[athletics.Team == 'France'].Weight\n",
    "France_athletes_weight.dropna(inplace = True)\n",
    "\n",
    "US_athletes_weight = athletics[athletics.Team == 'United States'].Weight\n",
    "US_athletes_weight.dropna(inplace = True)\n",
    "\n",
    "China_athletes_weight = athletics[athletics.Team == 'China'].Weight\n",
    "China_athletes_weight.dropna(inplace = True)"
   ]
  },
  {
   "cell_type": "code",
   "execution_count": 36,
   "metadata": {},
   "outputs": [
    {
     "data": {
      "text/plain": [
       "count    1121.000000\n",
       "mean       68.663693\n",
       "std        13.430117\n",
       "min        41.000000\n",
       "25%        59.000000\n",
       "50%        67.000000\n",
       "75%        75.000000\n",
       "max       150.000000\n",
       "Name: Weight, dtype: float64"
      ]
     },
     "execution_count": 36,
     "metadata": {},
     "output_type": "execute_result"
    }
   ],
   "source": [
    "France_athletes_weight.describe()"
   ]
  },
  {
   "cell_type": "code",
   "execution_count": 37,
   "metadata": {},
   "outputs": [
    {
     "data": {
      "text/plain": [
       "count    2977.000000\n",
       "mean       72.795096\n",
       "std        16.606117\n",
       "min        41.000000\n",
       "25%        61.000000\n",
       "50%        70.000000\n",
       "75%        80.000000\n",
       "max       158.000000\n",
       "Name: Weight, dtype: float64"
      ]
     },
     "execution_count": 37,
     "metadata": {},
     "output_type": "execute_result"
    }
   ],
   "source": [
    "US_athletes_weight.describe()"
   ]
  },
  {
   "cell_type": "code",
   "execution_count": 38,
   "metadata": {},
   "outputs": [
    {
     "data": {
      "text/plain": [
       "count    420.000000\n",
       "mean      68.130952\n",
       "std       15.938710\n",
       "min       42.000000\n",
       "25%       55.000000\n",
       "50%       65.000000\n",
       "75%       77.000000\n",
       "max      120.000000\n",
       "Name: Weight, dtype: float64"
      ]
     },
     "execution_count": 38,
     "metadata": {},
     "output_type": "execute_result"
    }
   ],
   "source": [
    "China_athletes_weight.describe()"
   ]
  },
  {
   "cell_type": "code",
   "execution_count": 39,
   "metadata": {},
   "outputs": [
    {
     "name": "stdout",
     "output_type": "stream",
     "text": [
      "F_onewayResult(statistic=37.302750273231275, pvalue=8.550900718103951e-17)\n"
     ]
    }
   ],
   "source": [
    "# Perform one-way ANOVA\n",
    "anova = stats.f_oneway(France_athletes_weight,US_athletes_weight,China_athletes_weight)\n",
    "print(anova) #Significant differences exist"
   ]
  },
  {
   "cell_type": "markdown",
   "metadata": {},
   "source": [
    "**Twe-Way ANOVA** (2 factors with 2+ levels)\n",
    "\n",
    "Ex: Does each factor explain variation in the dependent variable? \n",
    "\n",
    "We can have 2 fertilizers, 2 potato varieties, and see how potato production (DV) is affected"
   ]
  },
  {
   "cell_type": "markdown",
   "metadata": {},
   "source": [
    "Let's have another look at some data from our Olympic dataset. How does the Weight of athletes vary between teams from different countries and of different sexes? In this exercise, you're going to use a two-way ANOVA to check for the presence of significant variation in the Weight of Olympic sprinters. You have been provided with the athletes DataFrame, containing details about athletes from the Team of the United States, and China, from both sexes.\n",
    "\n",
    "A two-way ANOVA will allow you to see which of these two factors, Sex and Team, have a significant effect on Weight. pandas, statsmodels, and plotnine have been loaded into the workspace as pd, sm, and p9, respectively."
   ]
  },
  {
   "cell_type": "code",
   "execution_count": 40,
   "metadata": {},
   "outputs": [
    {
     "name": "stdout",
     "output_type": "stream",
     "text": [
      "(3659, 14)\n"
     ]
    },
    {
     "data": {
      "text/html": [
       "<div>\n",
       "<style scoped>\n",
       "    .dataframe tbody tr th:only-of-type {\n",
       "        vertical-align: middle;\n",
       "    }\n",
       "\n",
       "    .dataframe tbody tr th {\n",
       "        vertical-align: top;\n",
       "    }\n",
       "\n",
       "    .dataframe thead th {\n",
       "        text-align: right;\n",
       "    }\n",
       "</style>\n",
       "<table border=\"1\" class=\"dataframe\">\n",
       "  <thead>\n",
       "    <tr style=\"text-align: right;\">\n",
       "      <th></th>\n",
       "      <th>Unnamed: 0</th>\n",
       "      <th>Name</th>\n",
       "      <th>Sex</th>\n",
       "      <th>Age</th>\n",
       "      <th>Height</th>\n",
       "      <th>Weight</th>\n",
       "      <th>Team</th>\n",
       "      <th>NOC</th>\n",
       "      <th>Games</th>\n",
       "      <th>Year</th>\n",
       "      <th>City</th>\n",
       "      <th>Sport</th>\n",
       "      <th>Event</th>\n",
       "      <th>Medal</th>\n",
       "    </tr>\n",
       "  </thead>\n",
       "  <tbody>\n",
       "    <tr>\n",
       "      <th>51</th>\n",
       "      <td>274</td>\n",
       "      <td>David \"Dave\" Abbott</td>\n",
       "      <td>M</td>\n",
       "      <td>26.0</td>\n",
       "      <td>183.0</td>\n",
       "      <td>75.0</td>\n",
       "      <td>United States</td>\n",
       "      <td>USA</td>\n",
       "      <td>1928 Summer</td>\n",
       "      <td>1928</td>\n",
       "      <td>Amsterdam</td>\n",
       "      <td>Athletics</td>\n",
       "      <td>Athletics Men's 5,000 metres</td>\n",
       "      <td>NaN</td>\n",
       "    </tr>\n",
       "    <tr>\n",
       "      <th>81</th>\n",
       "      <td>467</td>\n",
       "      <td>Abdihakim \"Abdi\" Abdirahman</td>\n",
       "      <td>M</td>\n",
       "      <td>23.0</td>\n",
       "      <td>178.0</td>\n",
       "      <td>61.0</td>\n",
       "      <td>United States</td>\n",
       "      <td>USA</td>\n",
       "      <td>2000 Summer</td>\n",
       "      <td>2000</td>\n",
       "      <td>Sydney</td>\n",
       "      <td>Athletics</td>\n",
       "      <td>Athletics Men's 10,000 metres</td>\n",
       "      <td>NaN</td>\n",
       "    </tr>\n",
       "    <tr>\n",
       "      <th>82</th>\n",
       "      <td>468</td>\n",
       "      <td>Abdihakim \"Abdi\" Abdirahman</td>\n",
       "      <td>M</td>\n",
       "      <td>27.0</td>\n",
       "      <td>178.0</td>\n",
       "      <td>61.0</td>\n",
       "      <td>United States</td>\n",
       "      <td>USA</td>\n",
       "      <td>2004 Summer</td>\n",
       "      <td>2004</td>\n",
       "      <td>Athina</td>\n",
       "      <td>Athletics</td>\n",
       "      <td>Athletics Men's 10,000 metres</td>\n",
       "      <td>NaN</td>\n",
       "    </tr>\n",
       "    <tr>\n",
       "      <th>83</th>\n",
       "      <td>469</td>\n",
       "      <td>Abdihakim \"Abdi\" Abdirahman</td>\n",
       "      <td>M</td>\n",
       "      <td>31.0</td>\n",
       "      <td>178.0</td>\n",
       "      <td>61.0</td>\n",
       "      <td>United States</td>\n",
       "      <td>USA</td>\n",
       "      <td>2008 Summer</td>\n",
       "      <td>2008</td>\n",
       "      <td>Beijing</td>\n",
       "      <td>Athletics</td>\n",
       "      <td>Athletics Men's 10,000 metres</td>\n",
       "      <td>NaN</td>\n",
       "    </tr>\n",
       "    <tr>\n",
       "      <th>84</th>\n",
       "      <td>470</td>\n",
       "      <td>Abdihakim \"Abdi\" Abdirahman</td>\n",
       "      <td>M</td>\n",
       "      <td>35.0</td>\n",
       "      <td>178.0</td>\n",
       "      <td>61.0</td>\n",
       "      <td>United States</td>\n",
       "      <td>USA</td>\n",
       "      <td>2012 Summer</td>\n",
       "      <td>2012</td>\n",
       "      <td>London</td>\n",
       "      <td>Athletics</td>\n",
       "      <td>Athletics Men's Marathon</td>\n",
       "      <td>NaN</td>\n",
       "    </tr>\n",
       "  </tbody>\n",
       "</table>\n",
       "</div>"
      ],
      "text/plain": [
       "    Unnamed: 0                         Name Sex   Age  Height  Weight  \\\n",
       "51         274          David \"Dave\" Abbott   M  26.0   183.0    75.0   \n",
       "81         467  Abdihakim \"Abdi\" Abdirahman   M  23.0   178.0    61.0   \n",
       "82         468  Abdihakim \"Abdi\" Abdirahman   M  27.0   178.0    61.0   \n",
       "83         469  Abdihakim \"Abdi\" Abdirahman   M  31.0   178.0    61.0   \n",
       "84         470  Abdihakim \"Abdi\" Abdirahman   M  35.0   178.0    61.0   \n",
       "\n",
       "             Team  NOC        Games  Year       City      Sport  \\\n",
       "51  United States  USA  1928 Summer  1928  Amsterdam  Athletics   \n",
       "81  United States  USA  2000 Summer  2000     Sydney  Athletics   \n",
       "82  United States  USA  2004 Summer  2004     Athina  Athletics   \n",
       "83  United States  USA  2008 Summer  2008    Beijing  Athletics   \n",
       "84  United States  USA  2012 Summer  2012     London  Athletics   \n",
       "\n",
       "                            Event Medal  \n",
       "51   Athletics Men's 5,000 metres   NaN  \n",
       "81  Athletics Men's 10,000 metres   NaN  \n",
       "82  Athletics Men's 10,000 metres   NaN  \n",
       "83  Athletics Men's 10,000 metres   NaN  \n",
       "84       Athletics Men's Marathon   NaN  "
      ]
     },
     "execution_count": 40,
     "metadata": {},
     "output_type": "execute_result"
    }
   ],
   "source": [
    "# Extract athletes from either China or US\n",
    "\n",
    "China_US = athletics[(athletics['Team'] == 'China') | (athletics['Team'] == 'United States')]\n",
    "\n",
    "print(China_US.shape)\n",
    "\n",
    "China_US.head()"
   ]
  },
  {
   "cell_type": "code",
   "execution_count": 41,
   "metadata": {},
   "outputs": [
    {
     "name": "stdout",
     "output_type": "stream",
     "text": [
      "                 sum_sq      df           F         PR(>F)\n",
      "Sex       130639.961475     1.0  556.693074  4.214237e-114\n",
      "Team         130.523646     1.0    0.556197   4.558481e-01\n",
      "Residual  796474.844541  3394.0         NaN            NaN\n"
     ]
    }
   ],
   "source": [
    "# Create model\n",
    "formula = 'Weight ~ Sex + Team'\n",
    "model = sm.api.formula.ols(formula, data = China_US).fit()\n",
    "\n",
    "# Perform ANOVA and print table\n",
    "aov_table = sm.api.stats.anova_lm(model, typ=2)\n",
    "print(aov_table) #According to the result, Sex has a significant impact but Team does not"
   ]
  },
  {
   "cell_type": "markdown",
   "metadata": {},
   "source": [
    "**Two-way ANOVA with interactive effects**\n",
    "\n",
    "Once again, you're going to look at our dataset of Olympic athletes. As in previous exercises, you'll be looking at the variation in athlete Weight. You're going to look at athletes of either Sex competing in one of two Events: the 100 meter and 10,000 meter run"
   ]
  },
  {
   "cell_type": "code",
   "execution_count": 42,
   "metadata": {},
   "outputs": [
    {
     "data": {
      "text/plain": [
       "array([\"Athletics Women's 100 metres\",\n",
       "       \"Athletics Women's 4 x 100 metres Relay\",\n",
       "       \"Athletics Men's Shot Put\", \"Athletics Men's Pole Vault\",\n",
       "       \"Athletics Men's High Jump\", \"Athletics Men's 1,500 metres\",\n",
       "       \"Athletics Men's 4 x 100 metres Relay\",\n",
       "       \"Athletics Men's Long Jump\", \"Athletics Women's Javelin Throw\",\n",
       "       \"Athletics Men's 5,000 metres\", \"Athletics Women's Shot Put\",\n",
       "       \"Athletics Men's 110 metres Hurdles\", \"Athletics Women's Marathon\",\n",
       "       \"Athletics Men's 100 metres\", \"Athletics Men's 400 metres Hurdles\",\n",
       "       \"Athletics Men's 400 metres\", \"Athletics Men's Hammer Throw\",\n",
       "       \"Athletics Men's 800 metres\", \"Athletics Men's Marathon\",\n",
       "       \"Athletics Men's 4 x 400 metres Relay\",\n",
       "       \"Athletics Men's 10,000 metres\", \"Athletics Women's 3,000 metres\",\n",
       "       \"Athletics Men's 200 metres\", \"Athletics Men's Javelin Throw\",\n",
       "       \"Athletics Men's 3,000 metres Steeplechase\",\n",
       "       \"Athletics Women's 200 metres\", \"Athletics Men's Triple Jump\",\n",
       "       \"Athletics Women's Long Jump\", \"Athletics Women's 5,000 metres\",\n",
       "       \"Athletics Men's Discus Throw\", \"Athletics Women's 10,000 metres\",\n",
       "       \"Athletics Men's Decathlon\", \"Athletics Women's Discus Throw\",\n",
       "       \"Athletics Women's 1,500 metres\", \"Athletics Women's Pole Vault\",\n",
       "       \"Athletics Women's 4 x 400 metres Relay\",\n",
       "       \"Athletics Women's 800 metres\", \"Athletics Women's 400 metres\",\n",
       "       \"Athletics Men's Javelin Throw, Both Hands\",\n",
       "       \"Athletics Women's 400 metres Hurdles\",\n",
       "       \"Athletics Women's Pentathlon\", \"Athletics Women's High Jump\",\n",
       "       \"Athletics Men's Standing High Jump\",\n",
       "       \"Athletics Men's Standing Long Jump\",\n",
       "       \"Athletics Men's 20 kilometres Walk\",\n",
       "       \"Athletics Men's 50 kilometres Walk\",\n",
       "       \"Athletics Women's 100 metres Hurdles\",\n",
       "       \"Athletics Men's Discus Throw, Greek Style\",\n",
       "       \"Athletics Women's Heptathlon\", \"Athletics Men's Stone Throw\",\n",
       "       \"Athletics Men's Javelin Throw, Freestyle\",\n",
       "       \"Athletics Men's Pentathlon (Ancient)\",\n",
       "       \"Athletics Women's 3,000 metres Steeplechase\",\n",
       "       \"Athletics Men's Shot Put, Both Hands\",\n",
       "       \"Athletics Men's 10 kilometres Walk\",\n",
       "       \"Athletics Women's 20 kilometres Walk\",\n",
       "       \"Athletics Women's 80 metres Hurdles\",\n",
       "       \"Athletics Women's Triple Jump\",\n",
       "       \"Athletics Women's 10 kilometres Walk\",\n",
       "       \"Athletics Men's Cross-Country, Individual\",\n",
       "       \"Athletics Men's Cross-Country, Team\",\n",
       "       \"Athletics Men's 3,000 metres, Team\", \"Athletics Men's Pentathlon\",\n",
       "       \"Athletics Men's 3,000 metres Walk\", \"Athletics Men's 5 mile\",\n",
       "       \"Athletics Women's Hammer Throw\",\n",
       "       \"Athletics Men's 3,200 metres Steeplechase\",\n",
       "       \"Athletics Men's Standing Triple Jump\",\n",
       "       \"Athletics Men's 4,000 metres Steeplechase\",\n",
       "       \"Athletics Men's 5,000 metres, Team\",\n",
       "       \"Athletics Men's 1,600 metres Medley Relay\",\n",
       "       \"Athletics Men's 60 metres\", \"Athletics Men's 1,500 metres Walk\",\n",
       "       \"Athletics Men's 3 mile, Team\",\n",
       "       \"Athletics Men's 3,500 metres Walk\",\n",
       "       \"Athletics Men's 10 mile Walk\",\n",
       "       \"Athletics Men's Discus Throw, Both Hands\",\n",
       "       \"Athletics Men's 200 metres Hurdles\",\n",
       "       \"Athletics Men's 56-pound Weight Throw\",\n",
       "       \"Athletics Men's 2,500 metres Steeplechase\",\n",
       "       \"Athletics Men's All-Around Championship\",\n",
       "       \"Athletics Men's 2,590 metres Steeplechase\",\n",
       "       \"Athletics Men's 4 mile, Team\"], dtype=object)"
      ]
     },
     "execution_count": 42,
     "metadata": {},
     "output_type": "execute_result"
    }
   ],
   "source": [
    "athletics.Event.unique()"
   ]
  },
  {
   "cell_type": "code",
   "execution_count": 43,
   "metadata": {},
   "outputs": [
    {
     "name": "stdout",
     "output_type": "stream",
     "text": [
      "[\"Athletics Women's 100 metres\" \"Athletics Men's 100 metres\"]\n",
      "(2999, 14)\n",
      "[\"Athletics Men's 10,000 metres\" \"Athletics Women's 10,000 metres\"]\n",
      "(1129, 14)\n",
      "(4128, 14)\n"
     ]
    },
    {
     "data": {
      "text/html": [
       "<div>\n",
       "<style scoped>\n",
       "    .dataframe tbody tr th:only-of-type {\n",
       "        vertical-align: middle;\n",
       "    }\n",
       "\n",
       "    .dataframe tbody tr th {\n",
       "        vertical-align: top;\n",
       "    }\n",
       "\n",
       "    .dataframe thead th {\n",
       "        text-align: right;\n",
       "    }\n",
       "</style>\n",
       "<table border=\"1\" class=\"dataframe\">\n",
       "  <thead>\n",
       "    <tr style=\"text-align: right;\">\n",
       "      <th></th>\n",
       "      <th>Unnamed: 0</th>\n",
       "      <th>Name</th>\n",
       "      <th>Sex</th>\n",
       "      <th>Age</th>\n",
       "      <th>Height</th>\n",
       "      <th>Weight</th>\n",
       "      <th>Team</th>\n",
       "      <th>NOC</th>\n",
       "      <th>Games</th>\n",
       "      <th>Year</th>\n",
       "      <th>City</th>\n",
       "      <th>Sport</th>\n",
       "      <th>Event</th>\n",
       "      <th>Medal</th>\n",
       "    </tr>\n",
       "  </thead>\n",
       "  <tbody>\n",
       "    <tr>\n",
       "      <th>0</th>\n",
       "      <td>27</td>\n",
       "      <td>Cornelia \"Cor\" Aalten (-Strannood)</td>\n",
       "      <td>F</td>\n",
       "      <td>18.0</td>\n",
       "      <td>168.0</td>\n",
       "      <td>NaN</td>\n",
       "      <td>Netherlands</td>\n",
       "      <td>NED</td>\n",
       "      <td>1932 Summer</td>\n",
       "      <td>1932</td>\n",
       "      <td>Los Angeles</td>\n",
       "      <td>Athletics</td>\n",
       "      <td>100m</td>\n",
       "      <td>NaN</td>\n",
       "    </tr>\n",
       "    <tr>\n",
       "      <th>34</th>\n",
       "      <td>204</td>\n",
       "      <td>Carlos Rodolfo Abaunza Balladares</td>\n",
       "      <td>M</td>\n",
       "      <td>18.0</td>\n",
       "      <td>168.0</td>\n",
       "      <td>60.0</td>\n",
       "      <td>Nicaragua</td>\n",
       "      <td>NCA</td>\n",
       "      <td>2004 Summer</td>\n",
       "      <td>2004</td>\n",
       "      <td>Athina</td>\n",
       "      <td>Athletics</td>\n",
       "      <td>100m</td>\n",
       "      <td>NaN</td>\n",
       "    </tr>\n",
       "    <tr>\n",
       "      <th>38</th>\n",
       "      <td>216</td>\n",
       "      <td>Gana Abba Kimet</td>\n",
       "      <td>M</td>\n",
       "      <td>26.0</td>\n",
       "      <td>NaN</td>\n",
       "      <td>NaN</td>\n",
       "      <td>Chad</td>\n",
       "      <td>CHA</td>\n",
       "      <td>1972 Summer</td>\n",
       "      <td>1972</td>\n",
       "      <td>Munich</td>\n",
       "      <td>Athletics</td>\n",
       "      <td>100m</td>\n",
       "      <td>NaN</td>\n",
       "    </tr>\n",
       "    <tr>\n",
       "      <th>49</th>\n",
       "      <td>258</td>\n",
       "      <td>Ruslan Abbasov</td>\n",
       "      <td>M</td>\n",
       "      <td>22.0</td>\n",
       "      <td>181.0</td>\n",
       "      <td>74.0</td>\n",
       "      <td>Azerbaijan</td>\n",
       "      <td>AZE</td>\n",
       "      <td>2008 Summer</td>\n",
       "      <td>2008</td>\n",
       "      <td>Beijing</td>\n",
       "      <td>Athletics</td>\n",
       "      <td>100m</td>\n",
       "      <td>NaN</td>\n",
       "    </tr>\n",
       "    <tr>\n",
       "      <th>56</th>\n",
       "      <td>316</td>\n",
       "      <td>Younis Abdallah Rabee</td>\n",
       "      <td>M</td>\n",
       "      <td>23.0</td>\n",
       "      <td>169.0</td>\n",
       "      <td>68.0</td>\n",
       "      <td>Kuwait</td>\n",
       "      <td>KUW</td>\n",
       "      <td>1972 Summer</td>\n",
       "      <td>1972</td>\n",
       "      <td>Munich</td>\n",
       "      <td>Athletics</td>\n",
       "      <td>100m</td>\n",
       "      <td>NaN</td>\n",
       "    </tr>\n",
       "  </tbody>\n",
       "</table>\n",
       "</div>"
      ],
      "text/plain": [
       "    Unnamed: 0                                Name Sex   Age  Height  Weight  \\\n",
       "0           27  Cornelia \"Cor\" Aalten (-Strannood)   F  18.0   168.0     NaN   \n",
       "34         204   Carlos Rodolfo Abaunza Balladares   M  18.0   168.0    60.0   \n",
       "38         216                     Gana Abba Kimet   M  26.0     NaN     NaN   \n",
       "49         258                      Ruslan Abbasov   M  22.0   181.0    74.0   \n",
       "56         316               Younis Abdallah Rabee   M  23.0   169.0    68.0   \n",
       "\n",
       "           Team  NOC        Games  Year         City      Sport Event Medal  \n",
       "0   Netherlands  NED  1932 Summer  1932  Los Angeles  Athletics  100m   NaN  \n",
       "34    Nicaragua  NCA  2004 Summer  2004       Athina  Athletics  100m   NaN  \n",
       "38         Chad  CHA  1972 Summer  1972       Munich  Athletics  100m   NaN  \n",
       "49   Azerbaijan  AZE  2008 Summer  2008      Beijing  Athletics  100m   NaN  \n",
       "56       Kuwait  KUW  1972 Summer  1972       Munich  Athletics  100m   NaN  "
      ]
     },
     "execution_count": 43,
     "metadata": {},
     "output_type": "execute_result"
    }
   ],
   "source": [
    "# Extract data of 100m and 10000m \n",
    "running_100 = olympics[(olympics['Event'] == 'Athletics Men\\'s 100 metres') |  (olympics['Event'] == 'Athletics Women\\'s 100 metres')]\n",
    "print(running_100.Event.unique())\n",
    "print(running_100.shape)\n",
    "running_100['Event'] = '100m'   \n",
    "\n",
    "running_10000 = olympics[(olympics['Event'] == 'Athletics Men\\'s 10,000 metres') | (olympics['Event'] == 'Athletics Women\\'s 10,000 metres')]\n",
    "print(running_10000.Event.unique())\n",
    "running_10000['Event'] = '10000m'\n",
    "print(running_10000.shape)\n",
    "\n",
    "running = pd.concat([running_100, running_10000])\n",
    "\n",
    "\n",
    "print(running.shape)\n",
    "running.head()"
   ]
  },
  {
   "cell_type": "code",
   "execution_count": 44,
   "metadata": {},
   "outputs": [
    {
     "data": {
      "image/png": "[encoded data removed]",
      "text/plain": [
       "<Figure size 640x480 with 1 Axes>"
      ]
     },
     "metadata": {},
     "output_type": "display_data"
    },
    {
     "data": {
      "text/plain": [
       "<ggplot: (81681238052)>"
      ]
     },
     "execution_count": 44,
     "metadata": {},
     "output_type": "execute_result"
    }
   ],
   "source": [
    "p9.ggplot(running)+ p9.aes('Event','Weight', fill = 'Sex')+ p9.geom_boxplot()"
   ]
  },
  {
   "cell_type": "markdown",
   "metadata": {},
   "source": [
    "This dataset is provided in your workspace as athletes. An ANOVA will allow you to work out which of these variables affect Weight and whether an interactive effect is present. pandas, statsmodels, and plotnine have been loaded into the workspace as pd, sm, and p9, respectively"
   ]
  },
  {
   "cell_type": "code",
   "execution_count": 45,
   "metadata": {},
   "outputs": [
    {
     "name": "stdout",
     "output_type": "stream",
     "text": [
      "                  sum_sq      df            F        PR(>F)\n",
      "Sex        141607.485844     1.0  3191.693293  0.000000e+00\n",
      "Event       83295.483535     1.0  1877.398179  0.000000e+00\n",
      "Sex:Event    1551.609798     1.0    34.971757  3.680613e-09\n",
      "Residual   148986.100430  3358.0          NaN           NaN\n"
     ]
    }
   ],
   "source": [
    "# Run the ANOVA\n",
    "model = sm.api.formula.ols('Weight ~  Sex + Event + Sex:Event', data = running).fit()\n",
    "\n",
    "# Extract our table\n",
    "aov_table = sm.api.stats.anova_lm(model, typ=2)\n",
    "\n",
    "# Print the table\n",
    "print(aov_table) #Sex, Event and Sex:Event all have a significant effect on Weight. This means both factors influence weight\n",
    "#and the effect of one factor is dependent on the other"
   ]
  },
  {
   "cell_type": "markdown",
   "metadata": {},
   "source": [
    "**Bonferroni correction** : Correct p-values for multiple non-independent tests and avoid 'p-value fishing'\n",
    "\n",
    "\n",
    "Improved nutrition and healthcare has lead to increased human heights in most societies over the past century. But is this trend also reflected amongst elite athletes? To examine this, we'll be looking at another slice from our Olympic dataset and performing multiple tests.\n",
    "\n",
    "You have been provided with the athletes dataset containing information about American male Olympic athletes from three years: 1924, 1952, and 2016. You will perform two-sample t-tests to compare the three timepoints, seen in boxplots. Between which times do significant differences exist? As you'll be performing multiple non-independent tests, you will need to perform Bonferroni correction on the results. statsmodels, scipy.stats, and pandas have been loaded for you as sm, stats, and pd."
   ]
  },
  {
   "cell_type": "code",
   "execution_count": 46,
   "metadata": {},
   "outputs": [
    {
     "data": {
      "text/html": [
       "<div>\n",
       "<style scoped>\n",
       "    .dataframe tbody tr th:only-of-type {\n",
       "        vertical-align: middle;\n",
       "    }\n",
       "\n",
       "    .dataframe tbody tr th {\n",
       "        vertical-align: top;\n",
       "    }\n",
       "\n",
       "    .dataframe thead th {\n",
       "        text-align: right;\n",
       "    }\n",
       "</style>\n",
       "<table border=\"1\" class=\"dataframe\">\n",
       "  <thead>\n",
       "    <tr style=\"text-align: right;\">\n",
       "      <th></th>\n",
       "      <th>Unnamed: 0</th>\n",
       "      <th>Name</th>\n",
       "      <th>Sex</th>\n",
       "      <th>Age</th>\n",
       "      <th>Height</th>\n",
       "      <th>Weight</th>\n",
       "      <th>Team</th>\n",
       "      <th>NOC</th>\n",
       "      <th>Games</th>\n",
       "      <th>Year</th>\n",
       "      <th>City</th>\n",
       "      <th>Sport</th>\n",
       "      <th>Event</th>\n",
       "      <th>Medal</th>\n",
       "      <th>MedalTF</th>\n",
       "    </tr>\n",
       "  </thead>\n",
       "  <tbody>\n",
       "    <tr>\n",
       "      <th>51</th>\n",
       "      <td>274</td>\n",
       "      <td>David \"Dave\" Abbott</td>\n",
       "      <td>M</td>\n",
       "      <td>26.0</td>\n",
       "      <td>183.0</td>\n",
       "      <td>75.0</td>\n",
       "      <td>United States</td>\n",
       "      <td>USA</td>\n",
       "      <td>1928 Summer</td>\n",
       "      <td>1928</td>\n",
       "      <td>Amsterdam</td>\n",
       "      <td>Athletics</td>\n",
       "      <td>Athletics Men's 5,000 metres</td>\n",
       "      <td>NaN</td>\n",
       "      <td>False</td>\n",
       "    </tr>\n",
       "    <tr>\n",
       "      <th>81</th>\n",
       "      <td>467</td>\n",
       "      <td>Abdihakim \"Abdi\" Abdirahman</td>\n",
       "      <td>M</td>\n",
       "      <td>23.0</td>\n",
       "      <td>178.0</td>\n",
       "      <td>61.0</td>\n",
       "      <td>United States</td>\n",
       "      <td>USA</td>\n",
       "      <td>2000 Summer</td>\n",
       "      <td>2000</td>\n",
       "      <td>Sydney</td>\n",
       "      <td>Athletics</td>\n",
       "      <td>Athletics Men's 10,000 metres</td>\n",
       "      <td>NaN</td>\n",
       "      <td>False</td>\n",
       "    </tr>\n",
       "    <tr>\n",
       "      <th>82</th>\n",
       "      <td>468</td>\n",
       "      <td>Abdihakim \"Abdi\" Abdirahman</td>\n",
       "      <td>M</td>\n",
       "      <td>27.0</td>\n",
       "      <td>178.0</td>\n",
       "      <td>61.0</td>\n",
       "      <td>United States</td>\n",
       "      <td>USA</td>\n",
       "      <td>2004 Summer</td>\n",
       "      <td>2004</td>\n",
       "      <td>Athina</td>\n",
       "      <td>Athletics</td>\n",
       "      <td>Athletics Men's 10,000 metres</td>\n",
       "      <td>NaN</td>\n",
       "      <td>False</td>\n",
       "    </tr>\n",
       "    <tr>\n",
       "      <th>83</th>\n",
       "      <td>469</td>\n",
       "      <td>Abdihakim \"Abdi\" Abdirahman</td>\n",
       "      <td>M</td>\n",
       "      <td>31.0</td>\n",
       "      <td>178.0</td>\n",
       "      <td>61.0</td>\n",
       "      <td>United States</td>\n",
       "      <td>USA</td>\n",
       "      <td>2008 Summer</td>\n",
       "      <td>2008</td>\n",
       "      <td>Beijing</td>\n",
       "      <td>Athletics</td>\n",
       "      <td>Athletics Men's 10,000 metres</td>\n",
       "      <td>NaN</td>\n",
       "      <td>False</td>\n",
       "    </tr>\n",
       "    <tr>\n",
       "      <th>84</th>\n",
       "      <td>470</td>\n",
       "      <td>Abdihakim \"Abdi\" Abdirahman</td>\n",
       "      <td>M</td>\n",
       "      <td>35.0</td>\n",
       "      <td>178.0</td>\n",
       "      <td>61.0</td>\n",
       "      <td>United States</td>\n",
       "      <td>USA</td>\n",
       "      <td>2012 Summer</td>\n",
       "      <td>2012</td>\n",
       "      <td>London</td>\n",
       "      <td>Athletics</td>\n",
       "      <td>Athletics Men's Marathon</td>\n",
       "      <td>NaN</td>\n",
       "      <td>False</td>\n",
       "    </tr>\n",
       "  </tbody>\n",
       "</table>\n",
       "</div>"
      ],
      "text/plain": [
       "    Unnamed: 0                         Name Sex   Age  Height  Weight  \\\n",
       "51         274          David \"Dave\" Abbott   M  26.0   183.0    75.0   \n",
       "81         467  Abdihakim \"Abdi\" Abdirahman   M  23.0   178.0    61.0   \n",
       "82         468  Abdihakim \"Abdi\" Abdirahman   M  27.0   178.0    61.0   \n",
       "83         469  Abdihakim \"Abdi\" Abdirahman   M  31.0   178.0    61.0   \n",
       "84         470  Abdihakim \"Abdi\" Abdirahman   M  35.0   178.0    61.0   \n",
       "\n",
       "             Team  NOC        Games  Year       City      Sport  \\\n",
       "51  United States  USA  1928 Summer  1928  Amsterdam  Athletics   \n",
       "81  United States  USA  2000 Summer  2000     Sydney  Athletics   \n",
       "82  United States  USA  2004 Summer  2004     Athina  Athletics   \n",
       "83  United States  USA  2008 Summer  2008    Beijing  Athletics   \n",
       "84  United States  USA  2012 Summer  2012     London  Athletics   \n",
       "\n",
       "                            Event Medal  MedalTF  \n",
       "51   Athletics Men's 5,000 metres   NaN    False  \n",
       "81  Athletics Men's 10,000 metres   NaN    False  \n",
       "82  Athletics Men's 10,000 metres   NaN    False  \n",
       "83  Athletics Men's 10,000 metres   NaN    False  \n",
       "84       Athletics Men's Marathon   NaN    False  "
      ]
     },
     "execution_count": 46,
     "metadata": {},
     "output_type": "execute_result"
    }
   ],
   "source": [
    "americans_males = americans[americans['Sex'] == 'M']\n",
    "\n",
    "americans_males.head()"
   ]
  },
  {
   "cell_type": "code",
   "execution_count": 47,
   "metadata": {},
   "outputs": [
    {
     "name": "stdout",
     "output_type": "stream",
     "text": [
      "(130, 15)\n",
      "(95, 15)\n",
      "(123, 15)\n"
     ]
    }
   ],
   "source": [
    "americans_males_1924 = americans_males[americans_males['Year'] == 1924]\n",
    "print (americans_males_1924.shape)\n",
    "\n",
    "americans_males_1952 = americans_males[americans_males['Year'] == 1952]\n",
    "print (americans_males_1952.shape)\n",
    "\n",
    "americans_males_2016 = americans_males[americans_males['Year'] == 2016]\n",
    "print (americans_males_2016.shape)"
   ]
  },
  {
   "cell_type": "code",
   "execution_count": 48,
   "metadata": {},
   "outputs": [
    {
     "name": "stdout",
     "output_type": "stream",
     "text": [
      "[2.0995273280295586e-16, 4.484419167217926e-05, 0.00013562429334889784]\n",
      "(array([ True,  True,  True]), array([6.29858198e-16, 1.34532575e-04, 4.06872880e-04]), 0.016952427508441503, 0.016666666666666666)\n"
     ]
    }
   ],
   "source": [
    "#Drop NA values\n",
    "americans_males_1924.Height.dropna(inplace = True)\n",
    "americans_males_1952.Height.dropna(inplace = True)\n",
    "americans_males_2016.Height.dropna(inplace = True)\n",
    "\n",
    "# Perform t-tests \n",
    "t_result_1924v2016= stats.ttest_ind(americans_males_1924.Height, americans_males_2016.Height)\n",
    "t_result_1952v2016= stats.ttest_ind(americans_males_1952.Height, americans_males_2016.Height)\n",
    "t_result_1924v1952= stats.ttest_ind(americans_males_1924.Height, americans_males_1952.Height)\n",
    "\n",
    "# Create array of p-values\n",
    "pvals_array = [t_result_1924v2016[1], t_result_1952v2016[1], t_result_1924v1952[1]]\n",
    "print(pvals_array)\n",
    "\n",
    "# Perform Bonferroni correction\n",
    "adjustedvalues = sm.stats.multitest.multipletests(pvals_array, alpha=0.05, method='b')\n",
    "print(adjustedvalues)"
   ]
  },
  {
   "cell_type": "markdown",
   "metadata": {},
   "source": [
    "**Šídák correction** \n",
    "\n",
    "We're looking at how the Height of Olympic athletes from the athletes dataset has changed over time. In this exercise, we're considering three events, the 100 meter, the High Jump, and the Marathon. You'll be examining the correlation between Height and Year separately for each Event. As you did before, you'll need to correct for multiple hypothesis tests, but, since these tests are independent, you can use the less-strict Šídák correction."
   ]
  },
  {
   "cell_type": "code",
   "execution_count": 49,
   "metadata": {},
   "outputs": [
    {
     "data": {
      "text/plain": [
       "0                         Athletics Women's 100 metres\n",
       "1               Athletics Women's 4 x 100 metres Relay\n",
       "2                  Swimming Men's 400 metres Freestyle\n",
       "3               Swimming Men's 200 metres Breaststroke\n",
       "4               Swimming Men's 400 metres Breaststroke\n",
       "5               Swimming Men's 200 metres Breaststroke\n",
       "6               Swimming Men's 400 metres Breaststroke\n",
       "7               Swimming Men's 200 metres Breaststroke\n",
       "8                             Athletics Men's Shot Put\n",
       "9                           Athletics Men's Pole Vault\n",
       "10                           Athletics Men's High Jump\n",
       "11                        Athletics Men's 1,500 metres\n",
       "12                 Swimming Men's 100 metres Butterfly\n",
       "13                 Swimming Men's 200 metres Butterfly\n",
       "14          Swimming Men's 4 x 100 metres Medley Relay\n",
       "15                 Swimming Men's 100 metres Butterfly\n",
       "16                 Swimming Men's 200 metres Butterfly\n",
       "17                Athletics Men's 4 x 100 metres Relay\n",
       "18                           Athletics Men's Long Jump\n",
       "19                           Athletics Men's Long Jump\n",
       "20                           Athletics Men's Long Jump\n",
       "21                     Athletics Women's Javelin Throw\n",
       "22                     Athletics Women's Javelin Throw\n",
       "23                          Athletics Men's Pole Vault\n",
       "24                        Athletics Men's 5,000 metres\n",
       "25                     Athletics Women's Javelin Throw\n",
       "26                     Athletics Women's Javelin Throw\n",
       "27                 Swimming Men's 100 metres Butterfly\n",
       "28          Swimming Men's 4 x 100 metres Medley Relay\n",
       "29                        Athletics Men's 1,500 metres\n",
       "                             ...                      \n",
       "61789                       Athletics Men's 100 metres\n",
       "61790             Athletics Men's 4 x 100 metres Relay\n",
       "61791              Swimming Men's 100 metres Freestyle\n",
       "61792              Swimming Men's 400 metres Freestyle\n",
       "61793    Swimming Men's 4 x 200 metres Freestyle Relay\n",
       "61794             Swimming Men's 100 metres Backstroke\n",
       "61795             Swimming Men's 200 metres Backstroke\n",
       "61796       Swimming Men's 4 x 100 metres Medley Relay\n",
       "61797    Swimming Men's 4 x 100 metres Freestyle Relay\n",
       "61798                         Athletics Men's Marathon\n",
       "61799                     Athletics Women's 800 metres\n",
       "61800                      Athletics Women's High Jump\n",
       "61801           Swimming Men's 200 metres Breaststroke\n",
       "61802        Athletics Men's 3,000 metres Steeplechase\n",
       "61803                       Athletics Men's 100 metres\n",
       "61804             Athletics Men's 4 x 100 metres Relay\n",
       "61805                     Athletics Women's 200 metres\n",
       "61806                     Athletics Women's 100 metres\n",
       "61807                     Athletics Women's 200 metres\n",
       "61808           Athletics Women's 4 x 100 metres Relay\n",
       "61809                       Athletics Women's Shot Put\n",
       "61810                  Athletics Women's Javelin Throw\n",
       "61811                       Athletics Women's Shot Put\n",
       "61812                       Athletics Women's Shot Put\n",
       "61813                       Athletics Women's Shot Put\n",
       "61814              Swimming Men's 100 metres Butterfly\n",
       "61815              Swimming Men's 200 metres Butterfly\n",
       "61816                         Athletics Men's Marathon\n",
       "61817           Athletics Women's 4 x 400 metres Relay\n",
       "61818           Athletics Women's 4 x 400 metres Relay\n",
       "Name: Event, Length: 61819, dtype: object"
      ]
     },
     "execution_count": 49,
     "metadata": {},
     "output_type": "execute_result"
    }
   ],
   "source": [
    "olympics.Event"
   ]
  },
  {
   "cell_type": "code",
   "execution_count": 50,
   "metadata": {},
   "outputs": [],
   "source": [
    "men_marathon = olympics[(olympics['Event'] == 'Athletics Men\\'s Marathon') &  (olympics['Team'] == 'United States')]\n",
    "men_highjump = olympics[(olympics['Event'] == 'Athletics Men\\'s High Jump') &  (olympics['Team'] == 'United States')]\n",
    "\n",
    "#drop NA values\n",
    "#men_100m.Height.dropna(inplace = True)\n",
    "#men_marathon.Height.dropna(inplace = True)\n",
    "#men_highjump.Height.dropna(inplace = True)"
   ]
  },
  {
   "cell_type": "code",
   "execution_count": 51,
   "metadata": {},
   "outputs": [
    {
     "data": {
      "image/png": "[encoded data removed]",
      "text/plain": [
       "<Figure size 640x480 with 1 Axes>"
      ]
     },
     "metadata": {},
     "output_type": "display_data"
    },
    {
     "name": "stdout",
     "output_type": "stream",
     "text": [
      "<ggplot: (81680144374)>\n"
     ]
    }
   ],
   "source": [
    "mara_high_100 = pd.concat([men_100m, men_marathon, men_highjump])\n",
    "\n",
    "print(p9.ggplot(mara_high_100)+ p9.aes(x='Year', y='Height', color='Event')+  p9.geom_point())"
   ]
  },
  {
   "cell_type": "code",
   "execution_count": 52,
   "metadata": {},
   "outputs": [
    {
     "name": "stdout",
     "output_type": "stream",
     "text": [
      "[1.0, 1.0, 1.0]\n",
      "(array([False, False, False]), array([1., 1., 1.]), 0.016952427508441503, 0.016666666666666666)\n"
     ]
    }
   ],
   "source": [
    "# Perform Pearson correlations\n",
    "pearson100 = stats.pearsonr(men_100m.Height, men_100m.Year)\n",
    "pearsonHigh = stats.pearsonr(men_highjump.Height, men_highjump.Year)\n",
    "pearsonMara = stats.pearsonr(men_marathon.Height, men_marathon.Year)\n",
    "\n",
    "# Create array of p-values\n",
    "pvals_array = [pearson100[1], pearsonHigh[1], pearsonMara[1]]\n",
    "print(pvals_array)\n",
    "\n",
    "# Perform Šídák correction\n",
    "adjustedvalues=  sm.stats.multitest.multipletests(pvals_array, method= 's')\n",
    "print(adjustedvalues)"
   ]
  },
  {
   "cell_type": "markdown",
   "metadata": {},
   "source": [
    "**Exploring sample size**\n",
    "\n",
    "Now we'll explore the effect of sample size on the results of statistical tests. Here, we'll be comparing the Weight of American Athletics and Swimming competitors in the olympics dataset.\n",
    "\n",
    "Conclusion is significance results are very different due to different sample sizes"
   ]
  },
  {
   "cell_type": "code",
   "execution_count": 53,
   "metadata": {},
   "outputs": [
    {
     "name": "stdout",
     "output_type": "stream",
     "text": [
      "Ttest_indResult(statistic=-2.8864016020783976, pvalue=0.003946984990011393)\n"
     ]
    }
   ],
   "source": [
    "# Create sample with defined random seed and perform t-test\n",
    "athletics_subset = athletics.sample(n=1000, random_state= 507)\n",
    "athletics_subset.Weight.dropna(inplace = True)\n",
    "\n",
    "swimming_subset = swimming.sample(n=1000, random_state= 507)\n",
    "swimming_subset.Weight.dropna(inplace = True)\n",
    "print(stats.ttest_ind(athletics_subset.Weight, swimming_subset.Weight))"
   ]
  },
  {
   "cell_type": "code",
   "execution_count": 54,
   "metadata": {},
   "outputs": [
    {
     "name": "stdout",
     "output_type": "stream",
     "text": [
      "Ttest_indResult(statistic=-1.0863236095771527, pvalue=0.2781287133728327)\n"
     ]
    }
   ],
   "source": [
    "# Create sample with defined random seed and perform t-test\n",
    "athletics_subset = athletics.sample(n=200, random_state= 507)\n",
    "athletics_subset.Weight.dropna(inplace = True)\n",
    "\n",
    "swimming_subset = swimming.sample(n=200, random_state= 507)\n",
    "swimming_subset.Weight.dropna(inplace = True)\n",
    "print(stats.ttest_ind(athletics_subset.Weight, swimming_subset.Weight))"
   ]
  },
  {
   "cell_type": "code",
   "execution_count": 55,
   "metadata": {},
   "outputs": [
    {
     "name": "stdout",
     "output_type": "stream",
     "text": [
      "Ttest_indResult(statistic=-0.6204060794422013, pvalue=0.5367321474719067)\n"
     ]
    }
   ],
   "source": [
    "# Create sample with defined random seed and perform t-test\n",
    "athletics_subset = athletics.sample(n=50, random_state= 507)\n",
    "athletics_subset.Weight.dropna(inplace = True)\n",
    "\n",
    "swimming_subset = swimming.sample(n=50, random_state= 507)\n",
    "swimming_subset.Weight.dropna(inplace = True)\n",
    "print(stats.ttest_ind(athletics_subset.Weight, swimming_subset.Weight))"
   ]
  },
  {
   "cell_type": "markdown",
   "metadata": {},
   "source": [
    "**Sample size for a t-test**\n",
    "\n",
    "\n",
    "Now that we've seen the importance of sample size, let's have another look at the same athletes dataset and see if we can determine the sample size we would need to get a significant result.\n",
    "\n",
    "Determine the sample size we would need to have an 80% chance of detecting a small (0.4) difference between these two samples."
   ]
  },
  {
   "cell_type": "code",
   "execution_count": 56,
   "metadata": {},
   "outputs": [
    {
     "name": "stdout",
     "output_type": "stream",
     "text": [
      "Minimal Sample size to give significant results for given effect size, power and significance level:  131.9525742881456\n"
     ]
    }
   ],
   "source": [
    "# Set parameters\n",
    "effect = 0.4\n",
    "power = 0.8\n",
    "alpha = 0.05\n",
    "\n",
    "# Calculate ratio\n",
    "swimmercount = float(len(swimming))\n",
    "athletecount = float(len(athletics))\n",
    "ratio = swimmercount/athletecount\n",
    "\n",
    "# Initialize analysis and calculate sample size\n",
    "analysis = pwr.TTestIndPower()\n",
    "ssresult = analysis.solve_power(effect_size = effect, power=power, alpha= alpha, nobs1=None, ratio=ratio)#Number of observations of sample one\n",
    "print('Minimal Sample size to give significant results for given effect size, power and significance level: ', ssresult) "
   ]
  },
  {
   "cell_type": "markdown",
   "metadata": {},
   "source": [
    "**Effect size for a t-test** \n",
    "\n",
    "Significance: How sure we are that effect exists\n",
    "Effect Size: How much difference that effect makes\n",
    "\n",
    "Now, we're going to have a look at effect sizes. We are examining the same slice from the atheletes dataset, comparing the body weights of competitors from swimming and athletics events. \n",
    "\n",
    "You're going to calculate the effect sizes we are able to detect for a couple of different sampling strategies. First, you'll determine the smallest effect size detectable using the complete dataset. Then, in Step 2, you'll determine the size effect we could detect using 300 samples from each Sport\n",
    "\n",
    "Conclusion is given all other parameters the same, the larger the sample size the smaller the effect size"
   ]
  },
  {
   "cell_type": "code",
   "execution_count": 57,
   "metadata": {},
   "outputs": [
    {
     "name": "stdout",
     "output_type": "stream",
     "text": [
      "Effect Size： 0.023272712832054957\n"
     ]
    }
   ],
   "source": [
    "# Set parameters\n",
    "alpha = 0.05\n",
    "power = 0.8\n",
    "samp_size = athletecount\n",
    "\n",
    "# Initialize analysis & calculate sample size\n",
    "analysis = pwr.TTestIndPower()\n",
    "esresult = analysis.solve_power(effect_size=None, power=power, alpha = alpha, ratio=ratio, nobs1 = samp_size)\n",
    "print('Effect Size：', esresult) #Effect size"
   ]
  },
  {
   "cell_type": "code",
   "execution_count": 58,
   "metadata": {},
   "outputs": [
    {
     "name": "stdout",
     "output_type": "stream",
     "text": [
      "Effect Size： 0.22911649250766367\n"
     ]
    }
   ],
   "source": [
    "#Change parameters for a sample of 300 competitors from each group.\n",
    "#Repeat effect size analysis and print result\n",
    "\n",
    "# Set parameters\n",
    "alpha = 0.05\n",
    "power = 0.8\n",
    "ratio = 1\n",
    "samp_size = 300\n",
    "\n",
    "# Initialize analysis & calculate sample size\n",
    "analysis = pwr.TTestIndPower()\n",
    "esresult = analysis.solve_power(effect_size=None, power=power, nobs1=samp_size, ratio=ratio, alpha=alpha)\n",
    "print('Effect Size：', esresult) "
   ]
  },
  {
   "cell_type": "markdown",
   "metadata": {},
   "source": [
    "**Computing Cohen's d**\n",
    "\n",
    "Cohen's d: It is an effect size is used to indicate the standardised difference between 2 means\n",
    "Now, using the same comparison of Weight difference between Sports, let's calculate the actual effect size for this comparison. "
   ]
  },
  {
   "cell_type": "code",
   "execution_count": 59,
   "metadata": {},
   "outputs": [
    {
     "name": "stdout",
     "output_type": "stream",
     "text": [
      "Cohen's d:  0.09908167340439906\n"
     ]
    }
   ],
   "source": [
    "# Create series\n",
    "athl = athletics.Weight.dropna()\n",
    "swim = swimming.Weight.dropna()\n",
    "\n",
    "# Calculate difference between means and pooled standard deviation\n",
    "diff = swim.mean() - athl.mean()\n",
    "pooledstdev = np.sqrt((athl.std()**2 + swim.std()**2)/2 )\n",
    "\n",
    "# Calculate Cohen's d\n",
    "cohend = diff / pooledstdev\n",
    "print('Cohen\\'s d: ', cohend) #Since Cohen's d > effect size(0.023), we can expect the parameters \n",
    "#from the last exercise to detect a difference like this"
   ]
  },
  {
   "cell_type": "markdown",
   "metadata": {},
   "source": [
    "**Effect sizes for Pearson correlation**\n",
    "\n",
    "Now we're going to look at effect sizes for Pearson correlations. In a previous exercise, we used Pearson correlation to examine the link between Weight and Height for athletes from our Olympic dataset. Now, we're going to focus a single event, the 10,000 meter run, and compare the results we obtain for Pearson tests of correlation for competitors from two Teams, Kenya (ken DataFrame) and Ethiopia (eth DataFrame). Which has a higher effect strength? "
   ]
  },
  {
   "cell_type": "code",
   "execution_count": 60,
   "metadata": {},
   "outputs": [
    {
     "data": {
      "image/png": "[encoded data removed]",
      "text/plain": [
       "<Figure size 640x480 with 1 Axes>"
      ]
     },
     "metadata": {},
     "output_type": "display_data"
    },
    {
     "name": "stdout",
     "output_type": "stream",
     "text": [
      "<ggplot: (-9223371955173645424)>\n"
     ]
    }
   ],
   "source": [
    "ken = olympics[(olympics['Team'] == 'Kenya') & (olympics['Event'] == 'Athletics Men\\'s 10,000 metres')]\n",
    "\n",
    "print(p9.ggplot(ken)+ p9.aes(x='Height', y='Weight')+  p9.geom_point())"
   ]
  },
  {
   "cell_type": "code",
   "execution_count": 61,
   "metadata": {},
   "outputs": [
    {
     "data": {
      "image/png": "[encoded data removed]",
      "text/plain": [
       "<Figure size 640x480 with 1 Axes>"
      ]
     },
     "metadata": {},
     "output_type": "display_data"
    },
    {
     "name": "stdout",
     "output_type": "stream",
     "text": [
      "<ggplot: (-9223371955174514151)>\n"
     ]
    }
   ],
   "source": [
    "eth = olympics[(olympics['Team'] == 'Ethiopia') & (olympics['Event'] == 'Athletics Men\\'s 10,000 metres')]\n",
    "\n",
    "print(p9.ggplot(eth)+ p9.aes(x='Height', y='Weight')+  p9.geom_point())"
   ]
  },
  {
   "cell_type": "code",
   "execution_count": 62,
   "metadata": {},
   "outputs": [],
   "source": [
    "ken.Height.dropna(inplace = True)\n",
    "ken.Weight.dropna(inplace = True)"
   ]
  },
  {
   "cell_type": "code",
   "execution_count": 63,
   "metadata": {},
   "outputs": [
    {
     "name": "stdout",
     "output_type": "stream",
     "text": [
      "Kenya has higher correlation and lower noise:  (0.7453064505495948, 6.497110521502846e-07)\n",
      "Ethiopia has lower correlation and higher noise:  (0.3728450639500469, 0.03885112030532914)\n"
     ]
    }
   ],
   "source": [
    "# Perform Pearson correlation\n",
    "pearsonken = stats.pearsonr(ken.Weight, ken.Height)\n",
    "print('Kenya has higher correlation and lower noise: ', pearsonken)\n",
    "\n",
    "pearsoneth = stats.pearsonr(eth.Weight, eth.Height)\n",
    "print('Ethiopia has lower correlation and higher noise: ', pearsoneth)"
   ]
  },
  {
   "cell_type": "markdown",
   "metadata": {},
   "source": [
    "**Power analysis for a t-test**\n",
    "\n",
    "Power is the probability that a test will return significant when the alternative hypothesis holds true. We can think of it as \n",
    "the ability to draw a firm conclusion from e.g a calculated p-value from t-test\n",
    "\n",
    "Now we're going to have another look at the same example, drawn from our Olympic dataset (Weight difference between Sports). "
   ]
  },
  {
   "cell_type": "code",
   "execution_count": 64,
   "metadata": {},
   "outputs": [
    {
     "name": "stdout",
     "output_type": "stream",
     "text": [
      "Power is:  0.8427090697725371\n"
     ]
    }
   ],
   "source": [
    "# Set parameters\n",
    "effect_size = 0.42145\n",
    "alpha = 0.05\n",
    "samp_size = 100\n",
    "ratio = 1\n",
    "\n",
    "# Initialize analysis & calculate power\n",
    "analysis = pwr.TTestIndPower()\n",
    "pwresult = analysis.solve_power(effect_size=effect_size, power=None, alpha=alpha, ratio=ratio, nobs1=samp_size)\n",
    "print('Power is: ', pwresult)"
   ]
  },
  {
   "cell_type": "markdown",
   "metadata": {},
   "source": [
    "**Exploring distributions with summary stats** \n",
    "\n",
    "Let's return to our UN demographic data, countrydata, to examine distributions using summary statistics. For each Country, you have information about the GDP per capita in USD (GDP_per_cap) and the unemployment rate (Unemployment). How close to normality is each?"
   ]
  },
  {
   "cell_type": "code",
   "execution_count": 65,
   "metadata": {},
   "outputs": [
    {
     "name": "stdout",
     "output_type": "stream",
     "text": [
      "(229, 50)\n"
     ]
    },
    {
     "data": {
      "text/html": [
       "<div>\n",
       "<style scoped>\n",
       "    .dataframe tbody tr th:only-of-type {\n",
       "        vertical-align: middle;\n",
       "    }\n",
       "\n",
       "    .dataframe tbody tr th {\n",
       "        vertical-align: top;\n",
       "    }\n",
       "\n",
       "    .dataframe thead th {\n",
       "        text-align: right;\n",
       "    }\n",
       "</style>\n",
       "<table border=\"1\" class=\"dataframe\">\n",
       "  <thead>\n",
       "    <tr style=\"text-align: right;\">\n",
       "      <th></th>\n",
       "      <th>country</th>\n",
       "      <th>Region</th>\n",
       "      <th>Surface area (km2)</th>\n",
       "      <th>Population in thousands (2017)</th>\n",
       "      <th>Population density (per km2, 2017)</th>\n",
       "      <th>Sex ratio (m per 100 f, 2017)</th>\n",
       "      <th>GDP: Gross domestic product (million current US$)</th>\n",
       "      <th>GDP growth rate (annual %, const. 2005 prices)</th>\n",
       "      <th>GDP per capita (current US$)</th>\n",
       "      <th>Economy: Agriculture (% of GVA)</th>\n",
       "      <th>...</th>\n",
       "      <th>Mobile-cellular subscriptions (per 100 inhabitants).1</th>\n",
       "      <th>Individuals using the Internet (per 100 inhabitants)</th>\n",
       "      <th>Threatened species (number)</th>\n",
       "      <th>Forested area (% of land area)</th>\n",
       "      <th>CO2 emission estimates (million tons/tons per capita)</th>\n",
       "      <th>Energy production, primary (Petajoules)</th>\n",
       "      <th>Energy supply per capita (Gigajoules)</th>\n",
       "      <th>Pop. using improved drinking water (urban/rural, %)</th>\n",
       "      <th>Pop. using improved sanitation facilities (urban/rural, %)</th>\n",
       "      <th>Net Official Development Assist. received (% of GNI)</th>\n",
       "    </tr>\n",
       "  </thead>\n",
       "  <tbody>\n",
       "    <tr>\n",
       "      <th>0</th>\n",
       "      <td>Afghanistan</td>\n",
       "      <td>SouthernAsia</td>\n",
       "      <td>652864</td>\n",
       "      <td>35530</td>\n",
       "      <td>54.4</td>\n",
       "      <td>106.3</td>\n",
       "      <td>20270.0</td>\n",
       "      <td>-2.4</td>\n",
       "      <td>623.2</td>\n",
       "      <td>23.3</td>\n",
       "      <td>...</td>\n",
       "      <td>8.3</td>\n",
       "      <td>42.0</td>\n",
       "      <td>2.1</td>\n",
       "      <td>9.8/0.3</td>\n",
       "      <td>63.0</td>\n",
       "      <td>5.0</td>\n",
       "      <td>78.2/47.0</td>\n",
       "      <td>45.1/27.0</td>\n",
       "      <td>21.43</td>\n",
       "      <td>NaN</td>\n",
       "    </tr>\n",
       "    <tr>\n",
       "      <th>1</th>\n",
       "      <td>Albania</td>\n",
       "      <td>SouthernEurope</td>\n",
       "      <td>28748</td>\n",
       "      <td>2930</td>\n",
       "      <td>106.9</td>\n",
       "      <td>101.9</td>\n",
       "      <td>11541.0</td>\n",
       "      <td>2.6</td>\n",
       "      <td>3984.2</td>\n",
       "      <td>22.4</td>\n",
       "      <td>...</td>\n",
       "      <td>63.3</td>\n",
       "      <td>130.0</td>\n",
       "      <td>28.2</td>\n",
       "      <td>5.7/2.0</td>\n",
       "      <td>84.0</td>\n",
       "      <td>36.0</td>\n",
       "      <td>94.9/95.2</td>\n",
       "      <td>95.5/90.2</td>\n",
       "      <td>2.96</td>\n",
       "      <td>NaN</td>\n",
       "    </tr>\n",
       "    <tr>\n",
       "      <th>2</th>\n",
       "      <td>Algeria</td>\n",
       "      <td>NorthernAfrica</td>\n",
       "      <td>2381741</td>\n",
       "      <td>41318</td>\n",
       "      <td>17.3</td>\n",
       "      <td>102.0</td>\n",
       "      <td>164779.0</td>\n",
       "      <td>3.8</td>\n",
       "      <td>4154.1</td>\n",
       "      <td>12.2</td>\n",
       "      <td>...</td>\n",
       "      <td>38.2</td>\n",
       "      <td>135.0</td>\n",
       "      <td>0.8</td>\n",
       "      <td>145.4/3.7</td>\n",
       "      <td>5900.0</td>\n",
       "      <td>55.0</td>\n",
       "      <td>84.3/81.8</td>\n",
       "      <td>89.8/82.2</td>\n",
       "      <td>0.05</td>\n",
       "      <td>NaN</td>\n",
       "    </tr>\n",
       "    <tr>\n",
       "      <th>3</th>\n",
       "      <td>American Samoa</td>\n",
       "      <td>Polynesia</td>\n",
       "      <td>199</td>\n",
       "      <td>56</td>\n",
       "      <td>278.2</td>\n",
       "      <td>103.6</td>\n",
       "      <td>NaN</td>\n",
       "      <td>NaN</td>\n",
       "      <td>NaN</td>\n",
       "      <td>NaN</td>\n",
       "      <td>...</td>\n",
       "      <td>NaN</td>\n",
       "      <td>92.0</td>\n",
       "      <td>87.9</td>\n",
       "      <td>NaN</td>\n",
       "      <td>NaN</td>\n",
       "      <td>NaN</td>\n",
       "      <td>100.0/100.0</td>\n",
       "      <td>62.5/62.5</td>\n",
       "      <td>NaN</td>\n",
       "      <td>NaN</td>\n",
       "    </tr>\n",
       "    <tr>\n",
       "      <th>4</th>\n",
       "      <td>Andorra</td>\n",
       "      <td>SouthernEurope</td>\n",
       "      <td>468</td>\n",
       "      <td>77</td>\n",
       "      <td>163.8</td>\n",
       "      <td>102.3</td>\n",
       "      <td>2812.0</td>\n",
       "      <td>0.8</td>\n",
       "      <td>39896.4</td>\n",
       "      <td>0.5</td>\n",
       "      <td>...</td>\n",
       "      <td>96.9</td>\n",
       "      <td>13.0</td>\n",
       "      <td>34</td>\n",
       "      <td>0.5/6.4</td>\n",
       "      <td>1.0</td>\n",
       "      <td>119.0</td>\n",
       "      <td>100.0/100.0</td>\n",
       "      <td>100.0/100.0</td>\n",
       "      <td>NaN</td>\n",
       "      <td>NaN</td>\n",
       "    </tr>\n",
       "  </tbody>\n",
       "</table>\n",
       "<p>5 rows × 50 columns</p>\n",
       "</div>"
      ],
      "text/plain": [
       "          country          Region Surface area (km2)  \\\n",
       "0     Afghanistan    SouthernAsia             652864   \n",
       "1         Albania  SouthernEurope              28748   \n",
       "2         Algeria  NorthernAfrica            2381741   \n",
       "3  American Samoa       Polynesia                199   \n",
       "4         Andorra  SouthernEurope                468   \n",
       "\n",
       "   Population in thousands (2017)  Population density (per km2, 2017)  \\\n",
       "0                           35530                                54.4   \n",
       "1                            2930                               106.9   \n",
       "2                           41318                                17.3   \n",
       "3                              56                               278.2   \n",
       "4                              77                               163.8   \n",
       "\n",
       "   Sex ratio (m per 100 f, 2017)  \\\n",
       "0                          106.3   \n",
       "1                          101.9   \n",
       "2                          102.0   \n",
       "3                          103.6   \n",
       "4                          102.3   \n",
       "\n",
       "   GDP: Gross domestic product (million current US$)  \\\n",
       "0                                            20270.0   \n",
       "1                                            11541.0   \n",
       "2                                           164779.0   \n",
       "3                                                NaN   \n",
       "4                                             2812.0   \n",
       "\n",
       "  GDP growth rate (annual %, const. 2005 prices)  \\\n",
       "0                                           -2.4   \n",
       "1                                            2.6   \n",
       "2                                            3.8   \n",
       "3                                            NaN   \n",
       "4                                            0.8   \n",
       "\n",
       "   GDP per capita (current US$) Economy: Agriculture (% of GVA)  ...  \\\n",
       "0                         623.2                            23.3  ...   \n",
       "1                        3984.2                            22.4  ...   \n",
       "2                        4154.1                            12.2  ...   \n",
       "3                           NaN                             NaN  ...   \n",
       "4                       39896.4                             0.5  ...   \n",
       "\n",
       "   Mobile-cellular subscriptions (per 100 inhabitants).1  \\\n",
       "0                                                8.3       \n",
       "1                                               63.3       \n",
       "2                                               38.2       \n",
       "3                                                NaN       \n",
       "4                                               96.9       \n",
       "\n",
       "   Individuals using the Internet (per 100 inhabitants)  \\\n",
       "0                                               42.0      \n",
       "1                                              130.0      \n",
       "2                                              135.0      \n",
       "3                                               92.0      \n",
       "4                                               13.0      \n",
       "\n",
       "  Threatened species (number) Forested area (% of land area)  \\\n",
       "0                         2.1                        9.8/0.3   \n",
       "1                        28.2                        5.7/2.0   \n",
       "2                         0.8                      145.4/3.7   \n",
       "3                        87.9                            NaN   \n",
       "4                          34                        0.5/6.4   \n",
       "\n",
       "  CO2 emission estimates (million tons/tons per capita)  \\\n",
       "0                                               63.0      \n",
       "1                                               84.0      \n",
       "2                                             5900.0      \n",
       "3                                                NaN      \n",
       "4                                                1.0      \n",
       "\n",
       "  Energy production, primary (Petajoules)  \\\n",
       "0                                     5.0   \n",
       "1                                    36.0   \n",
       "2                                    55.0   \n",
       "3                                     NaN   \n",
       "4                                   119.0   \n",
       "\n",
       "  Energy supply per capita (Gigajoules)  \\\n",
       "0                             78.2/47.0   \n",
       "1                             94.9/95.2   \n",
       "2                             84.3/81.8   \n",
       "3                           100.0/100.0   \n",
       "4                           100.0/100.0   \n",
       "\n",
       "   Pop. using improved drinking water (urban/rural, %)  \\\n",
       "0                                          45.1/27.0     \n",
       "1                                          95.5/90.2     \n",
       "2                                          89.8/82.2     \n",
       "3                                          62.5/62.5     \n",
       "4                                        100.0/100.0     \n",
       "\n",
       "   Pop. using improved sanitation facilities (urban/rural, %)  \\\n",
       "0                                              21.43            \n",
       "1                                               2.96            \n",
       "2                                               0.05            \n",
       "3                                                NaN            \n",
       "4                                                NaN            \n",
       "\n",
       "  Net Official Development Assist. received (% of GNI)  \n",
       "0                                                NaN    \n",
       "1                                                NaN    \n",
       "2                                                NaN    \n",
       "3                                                NaN    \n",
       "4                                                NaN    \n",
       "\n",
       "[5 rows x 50 columns]"
      ]
     },
     "execution_count": 65,
     "metadata": {},
     "output_type": "execute_result"
    }
   ],
   "source": [
    "#import global UN dataset\n",
    "UN = pd.read_csv('UN.csv')\n",
    "\n",
    "print(UN.shape)\n",
    "\n",
    "UN.head()"
   ]
  },
  {
   "cell_type": "code",
   "execution_count": 66,
   "metadata": {},
   "outputs": [
    {
     "data": {
      "image/png": "[encoded data removed]",
      "text/plain": [
       "<Figure size 640x480 with 1 Axes>"
      ]
     },
     "metadata": {},
     "output_type": "display_data"
    },
    {
     "name": "stdout",
     "output_type": "stream",
     "text": [
      "<ggplot: (81680146510)>\n",
      "8.799504950495049\n",
      "6.75\n",
      "0    5.6\n",
      "1    6.6\n",
      "2    6.8\n",
      "dtype: float64\n"
     ]
    }
   ],
   "source": [
    "# Print density plot, mean, median, and mode of Unemployment\n",
    "UN.rename(columns={\"Unemployment (% of labour force)\": \"Unemployment\"}, inplace = True)\n",
    "UN['Unemployment'] = pd.to_numeric(UN[UN['Unemployment'] != '...']['Unemployment'])\n",
    "UN.Unemployment.dropna(inplace = True)\n",
    "\n",
    "print(p9.ggplot(UN)+ p9.aes(x= 'Unemployment')+ p9.geom_density())\n",
    "print(UN.Unemployment.mean())\n",
    "print(UN.Unemployment.median())\n",
    "print(UN.Unemployment.mode())"
   ]
  },
  {
   "cell_type": "code",
   "execution_count": 67,
   "metadata": {},
   "outputs": [
    {
     "data": {
      "image/png": "[encoded data removed]",
      "text/plain": [
       "<Figure size 640x480 with 1 Axes>"
      ]
     },
     "metadata": {},
     "output_type": "display_data"
    },
    {
     "name": "stdout",
     "output_type": "stream",
     "text": [
      "<ggplot: (81680146601)>\n",
      "15700.764423076924\n",
      "5935.450000000001\n",
      "0    1106.4\n",
      "dtype: float64\n"
     ]
    }
   ],
   "source": [
    "# Print density plot, mean, median, and mode of GDP_per_capita\n",
    "\n",
    "UN.rename(columns={\"GDP per capita (current US$)\": \"GDP per capita\"}, inplace = True)\n",
    "UN['GDP per capita'] = pd.to_numeric(UN[UN['GDP per capita'] != '...']['GDP per capita'])\n",
    "UN['GDP per capita'].dropna(inplace = True)\n",
    "\n",
    "print(p9.ggplot(UN)+ p9.aes(x= 'GDP per capita')+ p9.geom_density())\n",
    "print(UN['GDP per capita'].mean())\n",
    "print(UN['GDP per capita'].median())\n",
    "print(UN['GDP per capita'].mode())"
   ]
  },
  {
   "cell_type": "markdown",
   "metadata": {},
   "source": [
    "**Q-Q plot**\n",
    "\n",
    "When the distribution is normally distributed, a straight QQ plot will be displayed\n",
    "\n",
    "Another way to examine the normality of a distribution is with a Q-Q (quantile-quantile) plot. For this exercise, you will create a Q-Q plot for the country-level Unemployment data you saw in the last exercise (available in your workspace as countrydata). The Q-Q plot compares the theoretical quantiles expected under a normal distribution to the actual observed values (ordered). When a distribution is normally distributed, you will see a straight line. The more crooked the line is, the farther the distribution departs from normality. pandas and scipy.stats have been loaded into the workspace as pd and stats."
   ]
  },
  {
   "cell_type": "code",
   "execution_count": 68,
   "metadata": {},
   "outputs": [
    {
     "data": {
      "image/png": "[encoded data removed]",
      "text/plain": [
       "<Figure size 640x480 with 1 Axes>"
      ]
     },
     "metadata": {},
     "output_type": "display_data"
    },
    {
     "name": "stdout",
     "output_type": "stream",
     "text": [
      "<ggplot: (-9223371955173746407)>\n"
     ]
    }
   ],
   "source": [
    "# Calculate theoretical quantiles\n",
    "tq = stats.probplot(UN.Unemployment, dist='norm')\n",
    "\n",
    "# Create Dataframe\n",
    "df = pd.DataFrame(data= {'Theoretical Quantiles': tq[0][0], \n",
    "                         \"Ordered Values\": UN.Unemployment.sort_values() })\n",
    "\n",
    "# Create Q-Q plot\n",
    "print(p9.ggplot(df)+ p9.aes('Theoretical Quantiles', \"Ordered Values\") +p9.geom_point())"
   ]
  },
  {
   "cell_type": "code",
   "execution_count": 69,
   "metadata": {},
   "outputs": [
    {
     "data": {
      "image/png": "[encoded data removed]",
      "text/plain": [
       "<Figure size 640x480 with 1 Axes>"
      ]
     },
     "metadata": {},
     "output_type": "display_data"
    },
    {
     "name": "stdout",
     "output_type": "stream",
     "text": [
      "<ggplot: (81680153313)>\n"
     ]
    }
   ],
   "source": [
    "# Calculate theoretical quantiles\n",
    "tq = stats.probplot(UN['GDP per capita'], dist='norm')\n",
    "\n",
    "# Create Dataframe\n",
    "df = pd.DataFrame(data= {'Theoretical Quantiles': tq[0][0], \n",
    "                         \"Ordered Values\": UN['GDP per capita'].sort_values() })\n",
    "\n",
    "# Create Q-Q plot\n",
    "print(p9.ggplot(df)+ p9.aes('Theoretical Quantiles', \"Ordered Values\") +p9.geom_point())"
   ]
  },
  {
   "cell_type": "markdown",
   "metadata": {},
   "source": [
    "**Shapiro-Wilk test** \n",
    "\n",
    "Previously, you looked at country-level Unemployment and GDP per capita (GDP_per_cap) data (available in your workspace as countrydata). Now, you will use a Shapiro-Wilk test to examine whether the distribution of values seen in these samples, as seen in the Q-Q plots above, departs significantly from the normal distribution. This test tells us how closely a given sample fits the patterns expected from a normal distribution."
   ]
  },
  {
   "cell_type": "code",
   "execution_count": 70,
   "metadata": {},
   "outputs": [
    {
     "name": "stdout",
     "output_type": "stream",
     "text": [
      "(nan, 1.0)\n"
     ]
    }
   ],
   "source": [
    "# Perform Shapiro-Wilk test on Unemployment and print result\n",
    "shapiroUnem = stats.shapiro(UN.Unemployment)\n",
    "print(shapiroUnem) #p-values rejects the hypothesis that sample looks like Gaussian"
   ]
  },
  {
   "cell_type": "code",
   "execution_count": 71,
   "metadata": {},
   "outputs": [
    {
     "name": "stdout",
     "output_type": "stream",
     "text": [
      "(0.6302613615989685, 5.600625458404526e-21)\n"
     ]
    }
   ],
   "source": [
    "# Perform Shapiro-Wilk test on Unemployment and print result\n",
    "shapiroGDP = stats.shapiro(UN['GDP per capita'])\n",
    "print(shapiroGDP)"
   ]
  },
  {
   "cell_type": "markdown",
   "metadata": {},
   "source": [
    "Summary: Both distributions are non-normal. Compare the test statistic at index[0] for the two tests. The GDP per capita value is lower, which makes sense if you think about how much more skewed those figures were."
   ]
  },
  {
   "cell_type": "markdown",
   "metadata": {},
   "source": [
    "**Wilcoxon rank-sum test**\n",
    "\n",
    "In a previous exercise, you compared the sex ratio of European countries (Europe_Sex_ratio) with the sex ratio of Asian countries (Asia_Sex_ratio). \n",
    "\n",
    "You used a t-test to compare these two samples and found a significant difference (t_result). However, given that these samples are not normally distributed, a Wilcoxon rank-sum test would be more appropriate. Does the sex ratio differ between continents?"
   ]
  },
  {
   "cell_type": "code",
   "execution_count": 72,
   "metadata": {},
   "outputs": [
    {
     "name": "stdout",
     "output_type": "stream",
     "text": [
      "Ttest_indResult(statistic=-2.1196552594510925, pvalue=0.03661463597787138)\n",
      "Europe and Asia have different mean sex ratios\n"
     ]
    }
   ],
   "source": [
    "t_result= stats.ttest_ind(europe['Sex ratio'], asia['Sex ratio'])\n",
    "print(t_result)\n",
    "\n",
    "# Test significance\n",
    "alpha= 0.05\n",
    "if (t_result[1] < alpha):\n",
    "    print(\"Europe and Asia have different mean sex ratios\")\n",
    "    \n",
    "else: print(\"No significant difference found\")"
   ]
  },
  {
   "cell_type": "code",
   "execution_count": 73,
   "metadata": {},
   "outputs": [
    {
     "name": "stdout",
     "output_type": "stream",
     "text": [
      "RanksumsResult(statistic=-3.6244121780453775, pvalue=0.0002896194097555518)\n"
     ]
    }
   ],
   "source": [
    "wilc = stats.ranksums(europe['Sex ratio'], asia['Sex ratio'])\n",
    "print(wilc)#  Note that wilc is actually lower (more significant) than those for the t-test. \n",
    "#This is because the rank-sum test is less sensitive to outliers."
   ]
  },
  {
   "cell_type": "markdown",
   "metadata": {},
   "source": [
    "Summary: A Wilcoxon rank-sum test is better than a t-test if our sample is not sufficiently large and is non-normal"
   ]
  },
  {
   "cell_type": "markdown",
   "metadata": {},
   "source": [
    "**Parametric vs non-parametric tests**\n",
    "\n",
    "Once again we'll be using the Olympic dataset. Here we're going to compare the Height of athletes from both the Norwegian and Chinese 1996 Teams. "
   ]
  },
  {
   "cell_type": "code",
   "execution_count": 74,
   "metadata": {},
   "outputs": [
    {
     "data": {
      "text/html": [
       "<div>\n",
       "<style scoped>\n",
       "    .dataframe tbody tr th:only-of-type {\n",
       "        vertical-align: middle;\n",
       "    }\n",
       "\n",
       "    .dataframe tbody tr th {\n",
       "        vertical-align: top;\n",
       "    }\n",
       "\n",
       "    .dataframe thead th {\n",
       "        text-align: right;\n",
       "    }\n",
       "</style>\n",
       "<table border=\"1\" class=\"dataframe\">\n",
       "  <thead>\n",
       "    <tr style=\"text-align: right;\">\n",
       "      <th></th>\n",
       "      <th>Unnamed: 0</th>\n",
       "      <th>Name</th>\n",
       "      <th>Sex</th>\n",
       "      <th>Age</th>\n",
       "      <th>Height</th>\n",
       "      <th>Weight</th>\n",
       "      <th>Team</th>\n",
       "      <th>NOC</th>\n",
       "      <th>Games</th>\n",
       "      <th>Year</th>\n",
       "      <th>City</th>\n",
       "      <th>Sport</th>\n",
       "      <th>Event</th>\n",
       "      <th>Medal</th>\n",
       "    </tr>\n",
       "  </thead>\n",
       "  <tbody>\n",
       "    <tr>\n",
       "      <th>8121</th>\n",
       "      <td>33513</td>\n",
       "      <td>Cai Huijue</td>\n",
       "      <td>F</td>\n",
       "      <td>16.0</td>\n",
       "      <td>174.0</td>\n",
       "      <td>63.0</td>\n",
       "      <td>China</td>\n",
       "      <td>CHN</td>\n",
       "      <td>1996 Summer</td>\n",
       "      <td>1996</td>\n",
       "      <td>Atlanta</td>\n",
       "      <td>Swimming</td>\n",
       "      <td>Swimming Women's 100 metres Butterfly</td>\n",
       "      <td>NaN</td>\n",
       "    </tr>\n",
       "    <tr>\n",
       "      <th>8122</th>\n",
       "      <td>33514</td>\n",
       "      <td>Cai Huijue</td>\n",
       "      <td>F</td>\n",
       "      <td>16.0</td>\n",
       "      <td>174.0</td>\n",
       "      <td>63.0</td>\n",
       "      <td>China</td>\n",
       "      <td>CHN</td>\n",
       "      <td>1996 Summer</td>\n",
       "      <td>1996</td>\n",
       "      <td>Atlanta</td>\n",
       "      <td>Swimming</td>\n",
       "      <td>Swimming Women's 4 x 100 metres Medley Relay</td>\n",
       "      <td>Bronze</td>\n",
       "    </tr>\n",
       "    <tr>\n",
       "      <th>9239</th>\n",
       "      <td>38523</td>\n",
       "      <td>Chao Na</td>\n",
       "      <td>F</td>\n",
       "      <td>16.0</td>\n",
       "      <td>178.0</td>\n",
       "      <td>69.0</td>\n",
       "      <td>China</td>\n",
       "      <td>CHN</td>\n",
       "      <td>1996 Summer</td>\n",
       "      <td>1996</td>\n",
       "      <td>Atlanta</td>\n",
       "      <td>Swimming</td>\n",
       "      <td>Swimming Women's 4 x 100 metres Freestyle Relay</td>\n",
       "      <td>Silver</td>\n",
       "    </tr>\n",
       "    <tr>\n",
       "      <th>9413</th>\n",
       "      <td>39303</td>\n",
       "      <td>Chen Jing</td>\n",
       "      <td>M</td>\n",
       "      <td>20.0</td>\n",
       "      <td>183.0</td>\n",
       "      <td>75.0</td>\n",
       "      <td>China</td>\n",
       "      <td>CHN</td>\n",
       "      <td>1996 Summer</td>\n",
       "      <td>1996</td>\n",
       "      <td>Atlanta</td>\n",
       "      <td>Athletics</td>\n",
       "      <td>Athletics Men's Long Jump</td>\n",
       "      <td>NaN</td>\n",
       "    </tr>\n",
       "    <tr>\n",
       "      <th>9439</th>\n",
       "      <td>39425</td>\n",
       "      <td>Chen Wenzhong</td>\n",
       "      <td>M</td>\n",
       "      <td>25.0</td>\n",
       "      <td>175.0</td>\n",
       "      <td>70.0</td>\n",
       "      <td>China</td>\n",
       "      <td>CHN</td>\n",
       "      <td>1996 Summer</td>\n",
       "      <td>1996</td>\n",
       "      <td>Atlanta</td>\n",
       "      <td>Athletics</td>\n",
       "      <td>Athletics Men's 100 metres</td>\n",
       "      <td>NaN</td>\n",
       "    </tr>\n",
       "  </tbody>\n",
       "</table>\n",
       "</div>"
      ],
      "text/plain": [
       "      Unnamed: 0           Name Sex   Age  Height  Weight   Team  NOC  \\\n",
       "8121       33513     Cai Huijue   F  16.0   174.0    63.0  China  CHN   \n",
       "8122       33514     Cai Huijue   F  16.0   174.0    63.0  China  CHN   \n",
       "9239       38523        Chao Na   F  16.0   178.0    69.0  China  CHN   \n",
       "9413       39303      Chen Jing   M  20.0   183.0    75.0  China  CHN   \n",
       "9439       39425  Chen Wenzhong   M  25.0   175.0    70.0  China  CHN   \n",
       "\n",
       "            Games  Year     City      Sport  \\\n",
       "8121  1996 Summer  1996  Atlanta   Swimming   \n",
       "8122  1996 Summer  1996  Atlanta   Swimming   \n",
       "9239  1996 Summer  1996  Atlanta   Swimming   \n",
       "9413  1996 Summer  1996  Atlanta  Athletics   \n",
       "9439  1996 Summer  1996  Atlanta  Athletics   \n",
       "\n",
       "                                                Event   Medal  \n",
       "8121            Swimming Women's 100 metres Butterfly     NaN  \n",
       "8122     Swimming Women's 4 x 100 metres Medley Relay  Bronze  \n",
       "9239  Swimming Women's 4 x 100 metres Freestyle Relay  Silver  \n",
       "9413                        Athletics Men's Long Jump     NaN  \n",
       "9439                       Athletics Men's 100 metres     NaN  "
      ]
     },
     "execution_count": 74,
     "metadata": {},
     "output_type": "execute_result"
    }
   ],
   "source": [
    "china_1996 = olympics[(olympics['Team'] == 'China') & (olympics['Year'] == 1996)]\n",
    "\n",
    "china_1996.head()"
   ]
  },
  {
   "cell_type": "code",
   "execution_count": 75,
   "metadata": {},
   "outputs": [
    {
     "data": {
      "text/html": [
       "<div>\n",
       "<style scoped>\n",
       "    .dataframe tbody tr th:only-of-type {\n",
       "        vertical-align: middle;\n",
       "    }\n",
       "\n",
       "    .dataframe tbody tr th {\n",
       "        vertical-align: top;\n",
       "    }\n",
       "\n",
       "    .dataframe thead th {\n",
       "        text-align: right;\n",
       "    }\n",
       "</style>\n",
       "<table border=\"1\" class=\"dataframe\">\n",
       "  <thead>\n",
       "    <tr style=\"text-align: right;\">\n",
       "      <th></th>\n",
       "      <th>Unnamed: 0</th>\n",
       "      <th>Name</th>\n",
       "      <th>Sex</th>\n",
       "      <th>Age</th>\n",
       "      <th>Height</th>\n",
       "      <th>Weight</th>\n",
       "      <th>Team</th>\n",
       "      <th>NOC</th>\n",
       "      <th>Games</th>\n",
       "      <th>Year</th>\n",
       "      <th>City</th>\n",
       "      <th>Sport</th>\n",
       "      <th>Event</th>\n",
       "      <th>Medal</th>\n",
       "    </tr>\n",
       "  </thead>\n",
       "  <tbody>\n",
       "    <tr>\n",
       "      <th>2900</th>\n",
       "      <td>11016</td>\n",
       "      <td>Elin Austevoll</td>\n",
       "      <td>F</td>\n",
       "      <td>21.0</td>\n",
       "      <td>177.0</td>\n",
       "      <td>73.0</td>\n",
       "      <td>Norway</td>\n",
       "      <td>NOR</td>\n",
       "      <td>1996 Summer</td>\n",
       "      <td>1996</td>\n",
       "      <td>Atlanta</td>\n",
       "      <td>Swimming</td>\n",
       "      <td>Swimming Women's 100 metres Breaststroke</td>\n",
       "      <td>NaN</td>\n",
       "    </tr>\n",
       "    <tr>\n",
       "      <th>2901</th>\n",
       "      <td>11017</td>\n",
       "      <td>Elin Austevoll</td>\n",
       "      <td>F</td>\n",
       "      <td>21.0</td>\n",
       "      <td>177.0</td>\n",
       "      <td>73.0</td>\n",
       "      <td>Norway</td>\n",
       "      <td>NOR</td>\n",
       "      <td>1996 Summer</td>\n",
       "      <td>1996</td>\n",
       "      <td>Atlanta</td>\n",
       "      <td>Swimming</td>\n",
       "      <td>Swimming Women's 200 metres Breaststroke</td>\n",
       "      <td>NaN</td>\n",
       "    </tr>\n",
       "    <tr>\n",
       "      <th>2902</th>\n",
       "      <td>11018</td>\n",
       "      <td>Elin Austevoll</td>\n",
       "      <td>F</td>\n",
       "      <td>21.0</td>\n",
       "      <td>177.0</td>\n",
       "      <td>73.0</td>\n",
       "      <td>Norway</td>\n",
       "      <td>NOR</td>\n",
       "      <td>1996 Summer</td>\n",
       "      <td>1996</td>\n",
       "      <td>Atlanta</td>\n",
       "      <td>Swimming</td>\n",
       "      <td>Swimming Women's 200 metres Individual Medley</td>\n",
       "      <td>NaN</td>\n",
       "    </tr>\n",
       "    <tr>\n",
       "      <th>4937</th>\n",
       "      <td>19993</td>\n",
       "      <td>Mette Bergmann</td>\n",
       "      <td>F</td>\n",
       "      <td>33.0</td>\n",
       "      <td>174.0</td>\n",
       "      <td>80.0</td>\n",
       "      <td>Norway</td>\n",
       "      <td>NOR</td>\n",
       "      <td>1996 Summer</td>\n",
       "      <td>1996</td>\n",
       "      <td>Atlanta</td>\n",
       "      <td>Athletics</td>\n",
       "      <td>Athletics Women's Discus Throw</td>\n",
       "      <td>NaN</td>\n",
       "    </tr>\n",
       "    <tr>\n",
       "      <th>11765</th>\n",
       "      <td>48406</td>\n",
       "      <td>Irene Karine Dalby</td>\n",
       "      <td>F</td>\n",
       "      <td>25.0</td>\n",
       "      <td>181.0</td>\n",
       "      <td>73.0</td>\n",
       "      <td>Norway</td>\n",
       "      <td>NOR</td>\n",
       "      <td>1996 Summer</td>\n",
       "      <td>1996</td>\n",
       "      <td>Atlanta</td>\n",
       "      <td>Swimming</td>\n",
       "      <td>Swimming Women's 400 metres Freestyle</td>\n",
       "      <td>NaN</td>\n",
       "    </tr>\n",
       "  </tbody>\n",
       "</table>\n",
       "</div>"
      ],
      "text/plain": [
       "       Unnamed: 0                Name Sex   Age  Height  Weight    Team  NOC  \\\n",
       "2900        11016      Elin Austevoll   F  21.0   177.0    73.0  Norway  NOR   \n",
       "2901        11017      Elin Austevoll   F  21.0   177.0    73.0  Norway  NOR   \n",
       "2902        11018      Elin Austevoll   F  21.0   177.0    73.0  Norway  NOR   \n",
       "4937        19993      Mette Bergmann   F  33.0   174.0    80.0  Norway  NOR   \n",
       "11765       48406  Irene Karine Dalby   F  25.0   181.0    73.0  Norway  NOR   \n",
       "\n",
       "             Games  Year     City      Sport  \\\n",
       "2900   1996 Summer  1996  Atlanta   Swimming   \n",
       "2901   1996 Summer  1996  Atlanta   Swimming   \n",
       "2902   1996 Summer  1996  Atlanta   Swimming   \n",
       "4937   1996 Summer  1996  Atlanta  Athletics   \n",
       "11765  1996 Summer  1996  Atlanta   Swimming   \n",
       "\n",
       "                                               Event Medal  \n",
       "2900        Swimming Women's 100 metres Breaststroke   NaN  \n",
       "2901        Swimming Women's 200 metres Breaststroke   NaN  \n",
       "2902   Swimming Women's 200 metres Individual Medley   NaN  \n",
       "4937                  Athletics Women's Discus Throw   NaN  \n",
       "11765          Swimming Women's 400 metres Freestyle   NaN  "
      ]
     },
     "execution_count": 75,
     "metadata": {},
     "output_type": "execute_result"
    }
   ],
   "source": [
    "norway_1996 = olympics[(olympics['Team'] == 'Norway') & (olympics['Year'] == 1996)]\n",
    "\n",
    "norway_1996.head()"
   ]
  },
  {
   "cell_type": "code",
   "execution_count": 76,
   "metadata": {},
   "outputs": [
    {
     "data": {
      "image/png": "[encoded data removed]",
      "text/plain": [
       "<Figure size 640x480 with 1 Axes>"
      ]
     },
     "metadata": {},
     "output_type": "display_data"
    },
    {
     "data": {
      "text/plain": [
       "<ggplot: (81680146552)>"
      ]
     },
     "execution_count": 76,
     "metadata": {},
     "output_type": "execute_result"
    }
   ],
   "source": [
    "china_norway_1996 = pd.concat([china_1996, norway_1996])\n",
    "\n",
    "p9.ggplot(china_norway_1996) + p9.aes(x='Height', fill='Team') + p9.geom_density(alpha=0.5)"
   ]
  },
  {
   "cell_type": "markdown",
   "metadata": {},
   "source": [
    "Do these two distributions look normal or not? First, we'll test whether these sets of samples follow a normal distribution, via a couple of Shapiro-Wilks tests. Then we'll choose what statistical test to use. Finally, we'll test the difference between the Norwegian and Chinese samples."
   ]
  },
  {
   "cell_type": "code",
   "execution_count": 77,
   "metadata": {},
   "outputs": [
    {
     "name": "stdout",
     "output_type": "stream",
     "text": [
      "0.12311235070228577\n",
      "0.026477865874767303\n"
     ]
    }
   ],
   "source": [
    "# Separate the heights by country\n",
    "NorwayHeights = norway_1996.Height\n",
    "ChinaHeights = china_1996.Height\n",
    "\n",
    "# Shapiro-wilks test on the heights\n",
    "print(stats.shapiro(NorwayHeights)[1]) #Supports Norway's Height is normal\n",
    "print(stats.shapiro(ChinaHeights)[1]) ##Rejects China's Height is normal"
   ]
  },
  {
   "cell_type": "code",
   "execution_count": 78,
   "metadata": {},
   "outputs": [
    {
     "name": "stdout",
     "output_type": "stream",
     "text": [
      "RanksumsResult(statistic=3.8752175150628543, pvalue=0.00010652949777206396)\n"
     ]
    }
   ],
   "source": [
    "# Perform the Wilcoxon rank-sum test\n",
    "wilc = stats.ranksums(NorwayHeights, ChinaHeights)\n",
    "print(wilc) # With a p-value less than 0.05, this difference is statistically significant. \n",
    "#This approach is better than the t-test due to the non-normality in Team China's height"
   ]
  },
  {
   "cell_type": "markdown",
   "metadata": {},
   "source": [
    "**Spearman correlation**\n",
    "\n",
    "We're going to return to our Olympic dataset, where, as in previous exercises, we'll be looking at the correlation between Height and Weight amongst athletics competitors since 2000. "
   ]
  },
  {
   "cell_type": "code",
   "execution_count": 79,
   "metadata": {},
   "outputs": [
    {
     "data": {
      "text/plain": [
       "(6268, 14)"
      ]
     },
     "execution_count": 79,
     "metadata": {},
     "output_type": "execute_result"
    }
   ],
   "source": [
    "athletesM = athletics[(athletics['Sex'] == 'M') & (athletics['Year'] >= 2000) & (athletics['Height'] is not None) & (athletics['Weight'] is not None)]\n",
    "\n",
    "athletesM.shape"
   ]
  },
  {
   "cell_type": "code",
   "execution_count": 80,
   "metadata": {},
   "outputs": [
    {
     "data": {
      "image/png": "[encoded data removed]",
      "text/plain": [
       "<Figure size 640x480 with 1 Axes>"
      ]
     },
     "metadata": {},
     "output_type": "display_data"
    },
    {
     "name": "stdout",
     "output_type": "stream",
     "text": [
      "<ggplot: (-9223371955173591594)>\n"
     ]
    }
   ],
   "source": [
    "print(p9.ggplot(athletesM)+ p9.aes(x='Height', y='Weight')+  p9.geom_point(color = 'blue'))"
   ]
  },
  {
   "cell_type": "code",
   "execution_count": 81,
   "metadata": {},
   "outputs": [
    {
     "data": {
      "text/plain": [
       "(5405, 14)"
      ]
     },
     "execution_count": 81,
     "metadata": {},
     "output_type": "execute_result"
    }
   ],
   "source": [
    "athletesF = athletics[(athletics['Sex'] == 'F') & (athletics['Year'] >= 2000) & (athletics['Height'] is not None) & (athletics['Weight'] is not None)]\n",
    "\n",
    "athletesF.shape"
   ]
  },
  {
   "cell_type": "code",
   "execution_count": 82,
   "metadata": {},
   "outputs": [
    {
     "data": {
      "text/plain": [
       "array([168., 179., 155., 147., 163., 180., 170., 159., 173., 164., 182.,\n",
       "       157., 150., 167., 188., 193., 166., 162.,  nan, 153., 165., 177.,\n",
       "       175., 160., 178., 158., 171., 148., 172., 149., 156., 152., 169.,\n",
       "       186., 176., 191., 161., 174., 183., 142., 190., 146., 181., 184.,\n",
       "       151., 189., 154., 145., 185., 192., 187.])"
      ]
     },
     "execution_count": 82,
     "metadata": {},
     "output_type": "execute_result"
    }
   ],
   "source": [
    "athletesF.Height.unique()"
   ]
  },
  {
   "cell_type": "code",
   "execution_count": 83,
   "metadata": {},
   "outputs": [
    {
     "data": {
      "image/png": "[encoded data removed]",
      "text/plain": [
       "<Figure size 640x480 with 1 Axes>"
      ]
     },
     "metadata": {},
     "output_type": "display_data"
    },
    {
     "name": "stdout",
     "output_type": "stream",
     "text": [
      "<ggplot: (-9223371955173197287)>\n"
     ]
    }
   ],
   "source": [
    "print(p9.ggplot(athletesF)+ p9.aes(x='Height', y='Weight')+  p9.geom_point(color = 'red'))"
   ]
  },
  {
   "cell_type": "code",
   "execution_count": 84,
   "metadata": {},
   "outputs": [
    {
     "name": "stdout",
     "output_type": "stream",
     "text": [
      "5307\n",
      "5308\n"
     ]
    }
   ],
   "source": [
    "athletesF.Height.dropna(inplace = True)\n",
    "athletesF.Weight.dropna(inplace = True)\n",
    "print (len(athletesF.Height))\n",
    "print (len(athletesF.Weight))\n",
    "\n",
    "athletesM.Height.dropna(inplace = True)\n",
    "athletesM.Weight.dropna(inplace = True)"
   ]
  },
  {
   "cell_type": "code",
   "execution_count": 85,
   "metadata": {},
   "outputs": [
    {
     "data": {
      "text/plain": [
       "Int64Index([903, 12970, 23698, 26206, 29963, 30292, 34487, 37627, 41842,\n",
       "            59176],\n",
       "           dtype='int64')"
      ]
     },
     "execution_count": 85,
     "metadata": {},
     "output_type": "execute_result"
    }
   ],
   "source": [
    "idx1 = athletesF.Height.index\n",
    "idx2 = athletesF.Weight.index\n",
    "\n",
    "idx1.difference(idx2)\n",
    "\n"
   ]
  },
  {
   "cell_type": "code",
   "execution_count": 86,
   "metadata": {},
   "outputs": [
    {
     "data": {
      "text/plain": [
       "Int64Index([1017, 1761, 3906, 9507, 9544, 33916, 33917, 39918, 45208, 58540,\n",
       "            60426],\n",
       "           dtype='int64')"
      ]
     },
     "execution_count": 86,
     "metadata": {},
     "output_type": "execute_result"
    }
   ],
   "source": [
    "idx2.difference(idx1)"
   ]
  },
  {
   "cell_type": "code",
   "execution_count": 87,
   "metadata": {},
   "outputs": [],
   "source": [
    "athletesF.Weight.drop(index = 1017, inplace = True)"
   ]
  },
  {
   "cell_type": "code",
   "execution_count": 88,
   "metadata": {},
   "outputs": [
    {
     "name": "stdout",
     "output_type": "stream",
     "text": [
      "(0.29151700751521864, 1.844765415379327e-104)\n",
      "SpearmanrResult(correlation=0.3253202884295878, pvalue=4.61466518300999e-131)\n"
     ]
    }
   ],
   "source": [
    "# Perform Pearson and Spearman correlations\n",
    "pearcorr = stats.pearsonr(athletesF.Height, athletesF.Weight)\n",
    "print(pearcorr)\n",
    "spearcorr = stats.spearmanr(athletesF.Height, athletesF.Weight)\n",
    "print(spearcorr)# Non-parametric Spearman correlation works well for non-linear relationships."
   ]
  },
  {
   "cell_type": "code",
   "execution_count": 89,
   "metadata": {},
   "outputs": [
    {
     "name": "stdout",
     "output_type": "stream",
     "text": [
      "(0.3642789949526982, 3.1862955478495748e-192)\n",
      "SpearmanrResult(correlation=0.40400993418106573, pvalue=4.533256315364384e-240)\n"
     ]
    }
   ],
   "source": [
    "# Perform Pearson and Spearman correlations\n",
    "pearcorr = stats.pearsonr(athletesM.Height, athletesM.Weight)\n",
    "print(pearcorr)\n",
    "spearcorr = stats.spearmanr(athletesM.Height, athletesM.Weight)\n",
    "print(spearcorr)# Non-parametric Spearman correlation works well for non-linear relationships."
   ]
  },
  {
   "cell_type": "code",
   "execution_count": null,
   "metadata": {},
   "outputs": [],
   "source": []
  }
 ],
 "metadata": {
  "kernelspec": {
   "display_name": "Python 3",
   "language": "python",
   "name": "python3"
  },
  "language_info": {
   "codemirror_mode": {
    "name": "ipython",
    "version": 3
   },
   "file_extension": ".py",
   "mimetype": "text/x-python",
   "name": "python",
   "nbconvert_exporter": "python",
   "pygments_lexer": "ipython3",
   "version": "3.6.8"
  }
 },
 "nbformat": 4,
 "nbformat_minor": 2
}
